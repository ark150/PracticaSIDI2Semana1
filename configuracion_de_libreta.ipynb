{
  "nbformat": 4,
  "nbformat_minor": 0,
  "metadata": {
    "colab": {
      "name": "configuracion de libreta.ipynb",
      "version": "0.3.2",
      "provenance": [],
      "include_colab_link": true
    },
    "kernelspec": {
      "name": "python3",
      "display_name": "Python 3"
    }
  },
  "cells": [
    {
      "cell_type": "markdown",
      "metadata": {
        "id": "view-in-github",
        "colab_type": "text"
      },
      "source": [
        "<a href=\"https://colab.research.google.com/github/ark150/PracticaSIDI2Semana1/blob/master/configuracion_de_libreta.ipynb\" target=\"_parent\"><img src=\"https://colab.research.google.com/assets/colab-badge.svg\" alt=\"Open In Colab\"/></a>"
      ]
    },
    {
      "cell_type": "code",
      "metadata": {
        "id": "SK1MgMYaMBZl",
        "colab_type": "code",
        "colab": {}
      },
      "source": [
        ""
      ],
      "execution_count": 0,
      "outputs": []
    },
    {
      "cell_type": "markdown",
      "metadata": {
        "id": "eslcPHsmMD4n",
        "colab_type": "text"
      },
      "source": [
        "configuracion de libreta"
      ]
    },
    {
      "cell_type": "code",
      "metadata": {
        "id": "ElsyLL1xMG51",
        "colab_type": "code",
        "outputId": "ad59e6ab-6693-4d6d-e16c-80d21ef44043",
        "colab": {
          "base_uri": "https://localhost:8080/",
          "height": 34
        }
      },
      "source": [
        "ls"
      ],
      "execution_count": 0,
      "outputs": [
        {
          "output_type": "stream",
          "text": [
            "\u001b[0m\u001b[01;34msample_data\u001b[0m/\n"
          ],
          "name": "stdout"
        }
      ]
    },
    {
      "cell_type": "code",
      "metadata": {
        "id": "0bDEd6Y5MKrj",
        "colab_type": "code",
        "colab": {}
      },
      "source": [
        "!mkdir sistdist2"
      ],
      "execution_count": 0,
      "outputs": []
    },
    {
      "cell_type": "code",
      "metadata": {
        "id": "d4q0pnZwMQh4",
        "colab_type": "code",
        "outputId": "932834d2-55bc-4acb-d0c0-f4d48fc771d8",
        "colab": {
          "base_uri": "https://localhost:8080/",
          "height": 121
        }
      },
      "source": [
        "from os.path import join\n",
        "from google.colab import drive\n",
        "ROOT =\"/content/gdrive\"\n",
        "drive.mount(ROOT)"
      ],
      "execution_count": 1,
      "outputs": [
        {
          "output_type": "stream",
          "text": [
            "Go to this URL in a browser: https://accounts.google.com/o/oauth2/auth?client_id=947318989803-6bn6qk8qdgf4n4g3pfee6491hc0brc4i.apps.googleusercontent.com&redirect_uri=urn%3Aietf%3Awg%3Aoauth%3A2.0%3Aoob&scope=email%20https%3A%2F%2Fwww.googleapis.com%2Fauth%2Fdocs.test%20https%3A%2F%2Fwww.googleapis.com%2Fauth%2Fdrive%20https%3A%2F%2Fwww.googleapis.com%2Fauth%2Fdrive.photos.readonly%20https%3A%2F%2Fwww.googleapis.com%2Fauth%2Fpeopleapi.readonly&response_type=code\n",
            "\n",
            "Enter your authorization code:\n",
            "··········\n",
            "Mounted at /content/gdrive\n"
          ],
          "name": "stdout"
        }
      ]
    },
    {
      "cell_type": "code",
      "metadata": {
        "id": "PzzSE4VYNWb4",
        "colab_type": "code",
        "outputId": "551b65d3-afda-4c1c-aa05-ebb0e84f3321",
        "colab": {
          "base_uri": "https://localhost:8080/",
          "height": 118
        }
      },
      "source": [
        "ls gdrive/My\\ Drive/Colab\\ Notebooks"
      ],
      "execution_count": 2,
      "outputs": [
        {
          "output_type": "stream",
          "text": [
            " AprendizajeSup.ipynb                     \u001b[0m\u001b[01;34msistdist2\u001b[0m/\n",
            "'configuracion de libreta.ipynb'         'sistdist2 semana 1 libreta1.ipynb'\n",
            "'Copia de AprendizajeSupervisado.ipynb'   Untitled\n",
            " Examen_Final.ipynb                       Untitled0.ipynb\n",
            " examenfinalMatematicas.ipynb             Untitled1.ipynb\n",
            "'Practica ti2 semana 1.ipynb'\n"
          ],
          "name": "stdout"
        }
      ]
    },
    {
      "cell_type": "code",
      "metadata": {
        "id": "GYAJ2n8VN2pY",
        "colab_type": "code",
        "outputId": "87d2555e-b3ae-4412-ff77-20aebd66e8db",
        "colab": {
          "base_uri": "https://localhost:8080/",
          "height": 34
        }
      },
      "source": [
        "PROJ = \"My Drive/Colab Notebooks/sistdist2\"\n",
        "PROJECT_PATH = join(ROOT,PROJ)\n"
      ],
      "execution_count": 3,
      "outputs": [
        {
          "output_type": "stream",
          "text": [
            "Initialized empty Git repository in /content/(PROJECT_PATH)/.git/\n"
          ],
          "name": "stdout"
        }
      ]
    },
    {
      "cell_type": "code",
      "metadata": {
        "id": "SyAeWzZ-NbpU",
        "colab_type": "code",
        "outputId": "589acddb-47ca-47f8-e99e-ba87c4766598",
        "colab": {
          "base_uri": "https://localhost:8080/",
          "height": 50
        }
      },
      "source": [
        "\n",
        "!mkdir \"{PROJECT_PATH}\"\n",
        "!git init \"{PROJECT_PATH}\""
      ],
      "execution_count": 4,
      "outputs": [
        {
          "output_type": "stream",
          "text": [
            "mkdir: cannot create directory ‘/content/gdrive/My Drive/Colab Notebooks/sistdist2’: File exists\n",
            "Initialized empty Git repository in /content/gdrive/My Drive/Colab Notebooks/sistdist2/.git/\n"
          ],
          "name": "stdout"
        }
      ]
    },
    {
      "cell_type": "code",
      "metadata": {
        "id": "hZrh63WxVHf5",
        "colab_type": "code",
        "colab": {
          "base_uri": "https://localhost:8080/",
          "height": 34
        },
        "outputId": "8d6a7513-fbf5-41aa-e239-77187f711dcd"
      },
      "source": [
        "!git status \"{PROJECT_PATH}\""
      ],
      "execution_count": 5,
      "outputs": [
        {
          "output_type": "stream",
          "text": [
            "fatal: not a git repository (or any of the parent directories): .git\n"
          ],
          "name": "stdout"
        }
      ]
    },
    {
      "cell_type": "code",
      "metadata": {
        "id": "aTzVui5EL-vp",
        "colab_type": "code",
        "colab": {
          "base_uri": "https://localhost:8080/",
          "height": 34
        },
        "outputId": "99d32033-c989-4003-cadc-9e15906e567d"
      },
      "source": [
        "ls"
      ],
      "execution_count": 6,
      "outputs": [
        {
          "output_type": "stream",
          "text": [
            " \u001b[0m\u001b[01;34mgdrive\u001b[0m/  \u001b[01;34m'(PROJECT_PATH)'\u001b[0m/   \u001b[01;34msample_data\u001b[0m/\n"
          ],
          "name": "stdout"
        }
      ]
    },
    {
      "cell_type": "markdown",
      "metadata": {
        "id": "nFOtx9Sfh8P-",
        "colab_type": "text"
      },
      "source": [
        "yayayaay"
      ]
    },
    {
      "cell_type": "markdown",
      "metadata": {
        "id": "ROa9mwEdiLHO",
        "colab_type": "text"
      },
      "source": [
        "de nuevo yayayay"
      ]
    }
  ]
}