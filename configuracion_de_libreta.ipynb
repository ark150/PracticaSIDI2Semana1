{
  "nbformat": 4,
  "nbformat_minor": 0,
  "metadata": {
    "colab": {
      "name": "configuracion de libreta.ipynb",
      "version": "0.3.2",
      "provenance": [],
      "include_colab_link": true
    },
    "kernelspec": {
      "name": "python3",
      "display_name": "Python 3"
    }
  },
  "cells": [
    {
      "cell_type": "markdown",
      "metadata": {
        "id": "view-in-github",
        "colab_type": "text"
      },
      "source": [
        "<a href=\"https://colab.research.google.com/github/ark150/PracticaSIDI2Semana1/blob/master/configuracion_de_libreta.ipynb\" target=\"_parent\"><img src=\"https://colab.research.google.com/assets/colab-badge.svg\" alt=\"Open In Colab\"/></a>"
      ]
    },
    {
      "cell_type": "code",
      "metadata": {
        "id": "SK1MgMYaMBZl",
        "colab_type": "code",
        "colab": {}
      },
      "source": [
        ""
      ],
      "execution_count": 0,
      "outputs": []
    },
    {
      "cell_type": "markdown",
      "metadata": {
        "id": "eslcPHsmMD4n",
        "colab_type": "text"
      },
      "source": [
        "configuracion de libreta"
      ]
    },
    {
      "cell_type": "code",
      "metadata": {
        "id": "ElsyLL1xMG51",
        "colab_type": "code",
        "outputId": "ad59e6ab-6693-4d6d-e16c-80d21ef44043",
        "colab": {
          "base_uri": "https://localhost:8080/",
          "height": 34
        }
      },
      "source": [
        "ls"
      ],
      "execution_count": 0,
      "outputs": [
        {
          "output_type": "stream",
          "text": [
            "\u001b[0m\u001b[01;34msample_data\u001b[0m/\n"
          ],
          "name": "stdout"
        }
      ]
    },
    {
      "cell_type": "code",
      "metadata": {
        "id": "0bDEd6Y5MKrj",
        "colab_type": "code",
        "colab": {}
      },
      "source": [
        "!mkdir sistdist2"
      ],
      "execution_count": 0,
      "outputs": []
    },
    {
      "cell_type": "code",
      "metadata": {
        "id": "d4q0pnZwMQh4",
        "colab_type": "code",
        "outputId": "adfef9ff-3248-454c-e53f-9d5dfaf40084",
        "colab": {
          "base_uri": "https://localhost:8080/",
          "height": 34
        }
      },
      "source": [
        "from os.path import join\n",
        "from google.colab import drive\n",
        "ROOT =\"/content/gdrive\"\n",
        "drive.mount(ROOT)"
      ],
      "execution_count": 0,
      "outputs": [
        {
          "output_type": "stream",
          "text": [
            "Drive already mounted at /content/gdrive; to attempt to forcibly remount, call drive.mount(\"/content/gdrive\", force_remount=True).\n"
          ],
          "name": "stdout"
        }
      ]
    },
    {
      "cell_type": "code",
      "metadata": {
        "id": "PzzSE4VYNWb4",
        "colab_type": "code",
        "outputId": "af84b519-7a10-4000-eaac-8966c45608eb",
        "colab": {
          "base_uri": "https://localhost:8080/",
          "height": 101
        }
      },
      "source": [
        "ls gdrive/My\\ Drive/Colab\\ Notebooks"
      ],
      "execution_count": 0,
      "outputs": [
        {
          "output_type": "stream",
          "text": [
            " AprendizajeSup.ipynb                     \u001b[0m\u001b[01;34msistdist2\u001b[0m/\n",
            "'configuracion de libreta.ipynb'          Untitled\n",
            "'Copia de AprendizajeSupervisado.ipynb'   Untitled0.ipynb\n",
            " Examen_Final.ipynb                       Untitled1.ipynb\n",
            " examenfinalMatematicas.ipynb\n"
          ],
          "name": "stdout"
        }
      ]
    },
    {
      "cell_type": "code",
      "metadata": {
        "id": "GYAJ2n8VN2pY",
        "colab_type": "code",
        "outputId": "f80678b0-d743-4532-c92a-94369faf9055",
        "colab": {
          "base_uri": "https://localhost:8080/",
          "height": 34
        }
      },
      "source": [
        "PROJ = \"My Drive/Colab Notebooks/sistdist2\"\n",
        "PROJECT_PATH = join(ROOT,PROJ)\n",
        "!git init \"(PROJECT_PATH)\""
      ],
      "execution_count": 0,
      "outputs": [
        {
          "output_type": "stream",
          "text": [
            "Reinitialized existing Git repository in /content/(PROJECT_PATH)/.git/\n"
          ],
          "name": "stdout"
        }
      ]
    },
    {
      "cell_type": "code",
      "metadata": {
        "id": "SyAeWzZ-NbpU",
        "colab_type": "code",
        "outputId": "1a5741f4-ed30-42e4-8ff5-33c06ede3920",
        "colab": {
          "base_uri": "https://localhost:8080/",
          "height": 487
        }
      },
      "source": [
        "ls"
      ],
      "execution_count": 0,
      "outputs": [
        {
          "output_type": "stream",
          "text": [
            " El volumen de la unidad C es Windows8_OS\n",
            " El n£mero de serie del volumen es: 5EDF-3FB7\n",
            "\n",
            " Directorio de C:\\Users\\luda1\n",
            "\n",
            "07/05/2019  12:14 p. m.    <DIR>          .\n",
            "07/05/2019  12:14 p. m.    <DIR>          ..\n",
            "07/05/2019  12:14 p. m.    <DIR>          .ipython\n",
            "07/05/2019  12:05 p. m.    <DIR>          .jupyter\n",
            "06/05/2019  11:37 p. m.    <DIR>          .nbi\n",
            "07/05/2019  11:20 a. m.    <DIR>          .vscode\n",
            "07/05/2019  12:12 p. m.             7,814 0.0.1a3\n",
            "06/05/2019  05:03 p. m.    <DIR>          3D Objects\n",
            "06/05/2019  05:03 p. m.    <DIR>          Contacts\n",
            "07/05/2019  10:51 a. m.    <DIR>          Desktop\n",
            "07/05/2019  12:41 a. m.    <DIR>          Documents\n",
            "07/05/2019  11:01 a. m.    <DIR>          Downloads\n",
            "06/05/2019  05:03 p. m.    <DIR>          Favorites\n",
            "06/05/2019  05:03 p. m.    <DIR>          Links\n",
            "06/05/2019  05:03 p. m.    <DIR>          Music\n",
            "06/05/2019  05:11 p. m.    <DIR>          OneDrive\n",
            "06/05/2019  05:10 p. m.    <DIR>          Pictures\n",
            "06/05/2019  05:03 p. m.    <DIR>          Saved Games\n",
            "06/05/2019  05:06 p. m.    <DIR>          Searches\n",
            "06/05/2019  11:46 p. m.                 0 Sti_Trace.log\n",
            "07/05/2019  11:26 a. m.    <DIR>          Videos\n",
            "               2 archivos          7,814 bytes\n",
            "              19 dirs  842,320,592,896 bytes libres\n"
          ],
          "name": "stdout"
        }
      ]
    },
    {
      "cell_type": "code",
      "metadata": {
        "id": "hZrh63WxVHf5",
        "colab_type": "code",
        "colab": {}
      },
      "source": [
        ""
      ],
      "execution_count": 0,
      "outputs": []
    },
    {
      "cell_type": "markdown",
      "metadata": {
        "id": "nFOtx9Sfh8P-",
        "colab_type": "text"
      },
      "source": [
        "yayayaay"
      ]
    },
    {
      "cell_type": "markdown",
      "metadata": {
        "id": "ROa9mwEdiLHO",
        "colab_type": "text"
      },
      "source": [
        "de nuevo yayayay"
      ]
    }
  ]
}