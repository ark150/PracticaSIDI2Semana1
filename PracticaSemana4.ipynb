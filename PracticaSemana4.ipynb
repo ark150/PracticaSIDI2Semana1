{
  "nbformat": 4,
  "nbformat_minor": 0,
  "metadata": {
    "colab": {
      "name": "PracticaSemana4.ipynb",
      "version": "0.3.2",
      "provenance": [],
      "include_colab_link": true
    },
    "kernelspec": {
      "name": "python3",
      "display_name": "Python 3"
    }
  },
  "cells": [
    {
      "cell_type": "markdown",
      "metadata": {
        "id": "view-in-github",
        "colab_type": "text"
      },
      "source": [
        "<a href=\"https://colab.research.google.com/github/ark150/PracticaSIDI2Semana1/blob/master/PracticaSemana4.ipynb\" target=\"_parent\"><img src=\"https://colab.research.google.com/assets/colab-badge.svg\" alt=\"Open In Colab\"/></a>"
      ]
    },
    {
      "cell_type": "markdown",
      "metadata": {
        "id": "NKtGrqUxIRcA",
        "colab_type": "text"
      },
      "source": [
        "Dask de diferentes tamaños\n"
      ]
    },
    {
      "cell_type": "code",
      "metadata": {
        "id": "L75bYxVWIN8l",
        "colab_type": "code",
        "colab": {}
      },
      "source": [
        "import dask.array as da\n",
        "import numpy as np\n",
        "a = np.random.rand(10000)"
      ],
      "execution_count": 0,
      "outputs": []
    },
    {
      "cell_type": "code",
      "metadata": {
        "id": "l8Rowm5dId1B",
        "colab_type": "code",
        "colab": {}
      },
      "source": [
        "a_dask = da.from_array(a, chunks=len(a)//512)\n",
        "a_dask.chunks"
      ],
      "execution_count": 0,
      "outputs": []
    },
    {
      "cell_type": "code",
      "metadata": {
        "id": "IA0iq0k2IlFk",
        "colab_type": "code",
        "colab": {}
      },
      "source": [
        "n_chunks = 512\n",
        "chunks_size = len(a) // n_chunks\n",
        "res = 0"
      ],
      "execution_count": 0,
      "outputs": []
    },
    {
      "cell_type": "code",
      "metadata": {
        "id": "Rxy2D_5mIntU",
        "colab_type": "code",
        "outputId": "7d4fa89d-c0dc-429d-acad-121e51035e82",
        "colab": {
          "base_uri": "https://localhost:8080/",
          "height": 50
        }
      },
      "source": [
        "%%time\n",
        "for k in range (n_chunks):\n",
        "  offset = k*chunks_size\n",
        "  a_chunks = a[offset:offset + chunks_size]\n",
        "  res += a_chunks.sum()"
      ],
      "execution_count": 0,
      "outputs": [
        {
          "output_type": "stream",
          "text": [
            "CPU times: user 1.62 ms, sys: 142 µs, total: 1.76 ms\n",
            "Wall time: 1.77 ms\n"
          ],
          "name": "stdout"
        }
      ]
    },
    {
      "cell_type": "code",
      "metadata": {
        "id": "Z8Pm5WEQIp8H",
        "colab_type": "code",
        "outputId": "d7985e8f-1034-4aa9-c1b9-81cfd55caa73",
        "colab": {
          "base_uri": "https://localhost:8080/",
          "height": 50
        }
      },
      "source": [
        "%time res_dask = a_dask.sum()"
      ],
      "execution_count": 0,
      "outputs": [
        {
          "output_type": "stream",
          "text": [
            "CPU times: user 5.03 ms, sys: 0 ns, total: 5.03 ms\n",
            "Wall time: 5.03 ms\n"
          ],
          "name": "stdout"
        }
      ]
    },
    {
      "cell_type": "code",
      "metadata": {
        "id": "Sb689w7WIrdf",
        "colab_type": "code",
        "outputId": "d651bbf3-601f-4735-f3fc-45438487fc13",
        "colab": {
          "base_uri": "https://localhost:8080/",
          "height": 67
        }
      },
      "source": [
        "%time res_dask.compute()"
      ],
      "execution_count": 0,
      "outputs": [
        {
          "output_type": "stream",
          "text": [
            "CPU times: user 270 ms, sys: 63.1 ms, total: 333 ms\n",
            "Wall time: 289 ms\n"
          ],
          "name": "stdout"
        },
        {
          "output_type": "execute_result",
          "data": {
            "text/plain": [
              "4982.873530068161"
            ]
          },
          "metadata": {
            "tags": []
          },
          "execution_count": 55
        }
      ]
    },
    {
      "cell_type": "code",
      "metadata": {
        "id": "fkra_dkdIs0P",
        "colab_type": "code",
        "colab": {}
      },
      "source": [
        "res_dask.visualize(rankdir='LR')"
      ],
      "execution_count": 0,
      "outputs": []
    },
    {
      "cell_type": "markdown",
      "metadata": {
        "id": "iadMwZIYLae7",
        "colab_type": "text"
      },
      "source": [
        "tro ejempo con dask array"
      ]
    },
    {
      "cell_type": "code",
      "metadata": {
        "id": "2KhSiPpSLYkk",
        "colab_type": "code",
        "colab": {}
      },
      "source": [
        "!wget https://www.gw-osc.org/archive/data/S5/814743552/H-H1_LOSC_4_V1-815411200-4096.hdf5"
      ],
      "execution_count": 0,
      "outputs": []
    },
    {
      "cell_type": "code",
      "metadata": {
        "id": "t2sQNc4NLhtw",
        "colab_type": "code",
        "colab": {}
      },
      "source": [
        "!cp H-H1_LOSC_4_V1-815411200-4096.hdf5 LIGO_data.hdf5"
      ],
      "execution_count": 0,
      "outputs": []
    },
    {
      "cell_type": "code",
      "metadata": {
        "id": "GxANImkULjey",
        "colab_type": "code",
        "colab": {}
      },
      "source": [
        "import h5py, time"
      ],
      "execution_count": 0,
      "outputs": []
    },
    {
      "cell_type": "code",
      "metadata": {
        "id": "L5lbabADLluZ",
        "colab_type": "code",
        "colab": {}
      },
      "source": [
        "datos = h5py.File('./LIGO_data.hdf5')"
      ],
      "execution_count": 0,
      "outputs": []
    },
    {
      "cell_type": "code",
      "metadata": {
        "id": "oc-K8hTrLofI",
        "colab_type": "code",
        "colab": {}
      },
      "source": [
        "with datos as dset:\n",
        "  strain = dset['strain']['Strain'][:]"
      ],
      "execution_count": 0,
      "outputs": []
    },
    {
      "cell_type": "code",
      "metadata": {
        "id": "weUFd8XLLrOX",
        "colab_type": "code",
        "colab": {}
      },
      "source": [
        "strain_dask8 = da.from_array(strain, chunks = strain.shape[0]//512)"
      ],
      "execution_count": 0,
      "outputs": []
    },
    {
      "cell_type": "code",
      "metadata": {
        "id": "fYPjhDyLLtPG",
        "colab_type": "code",
        "outputId": "e1fe1730-72e9-4a67-a30b-5118099e751e",
        "colab": {
          "base_uri": "https://localhost:8080/",
          "height": 34
        }
      },
      "source": [
        "ti = time.time()\n",
        "promedio8 = strain_dask8.mean().compute()\n",
        "tf = time.time()\n",
        "print('Tiempo transcurrido: {} ms'.format((tf-ti)*1000))"
      ],
      "execution_count": 0,
      "outputs": [
        {
          "output_type": "stream",
          "text": [
            "Tiempo transcurrido: 482.832670211792 ms\n"
          ],
          "name": "stdout"
        }
      ]
    },
    {
      "cell_type": "code",
      "metadata": {
        "id": "ibnFmZpDLveg",
        "colab_type": "code",
        "outputId": "a9020cf9-43b3-4c37-d225-21ce50ae6a21",
        "colab": {
          "base_uri": "https://localhost:8080/",
          "height": 34
        }
      },
      "source": [
        "print(promedio8)"
      ],
      "execution_count": 0,
      "outputs": [
        {
          "output_type": "stream",
          "text": [
            "nan\n"
          ],
          "name": "stdout"
        }
      ]
    },
    {
      "cell_type": "code",
      "metadata": {
        "id": "r_f8qBjCLxXr",
        "colab_type": "code",
        "colab": {}
      },
      "source": [
        "strain_dask8.visualize()"
      ],
      "execution_count": 0,
      "outputs": []
    }
  ]
}