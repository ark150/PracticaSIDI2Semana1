{
  "nbformat": 4,
  "nbformat_minor": 0,
  "metadata": {
    "colab": {
      "name": "SIDI2 practica de distribucion de memoria y tiempos de ejecucion.ipynb",
      "version": "0.3.2",
      "provenance": [],
      "include_colab_link": true
    },
    "kernelspec": {
      "name": "python3",
      "display_name": "Python 3"
    }
  },
  "cells": [
    {
      "cell_type": "markdown",
      "metadata": {
        "id": "view-in-github",
        "colab_type": "text"
      },
      "source": [
        "<a href=\"https://colab.research.google.com/github/ark150/PracticaSIDI2Semana1/blob/master/SIDI2_practica_de_distribucion_de_memoria_y_tiempos_de_ejecucion.ipynb\" target=\"_parent\"><img src=\"https://colab.research.google.com/assets/colab-badge.svg\" alt=\"Open In Colab\"/></a>"
      ]
    },
    {
      "cell_type": "markdown",
      "metadata": {
        "id": "ikkDEQz6lD-h",
        "colab_type": "text"
      },
      "source": [
        "#Practica donde se ve el tamaño de memoria ocupado para el analisis y ejecucion de funciones sobre grandes cantidades de datos\n"
      ]
    },
    {
      "cell_type": "markdown",
      "metadata": {
        "id": "tNCybBurlQvP",
        "colab_type": "text"
      },
      "source": [
        "Se importan las librerias y la funcion para poder obtener la memoria que se acaba de cargar"
      ]
    },
    {
      "cell_type": "code",
      "metadata": {
        "id": "5amI3jaXk7An",
        "colab_type": "code",
        "colab": {}
      },
      "source": [
        "import numpy as np\n",
        "import pandas as pd\n",
        "import psutil, os\n",
        "from time import time\n",
        "from dask import delayed\n",
        "def huella_de_memoria():\n",
        "  '''regresa la memoria usada por un proceso en python'''\n",
        "  mem= psutil.Process(os.getpid()).memory_info().rss\n",
        "  return (mem / 1024**2)"
      ],
      "execution_count": 0,
      "outputs": []
    },
    {
      "cell_type": "markdown",
      "metadata": {
        "id": "XOOtHj5Nn7o3",
        "colab_type": "text"
      },
      "source": [
        "comandos para obtener los datos"
      ]
    },
    {
      "cell_type": "code",
      "metadata": {
        "id": "nutD_Fatn-Zv",
        "colab_type": "code",
        "outputId": "71eee2ba-a5e1-4741-803d-859c9e732f65",
        "colab": {
          "base_uri": "https://localhost:8080/",
          "height": 218
        }
      },
      "source": [
        "plantilla = 'yellow_tripdata_2018-{:02d}.csv'\n",
        "plantillaURL = 'wget https://s3.amazonaws.com/nyc-tlc/trip+data/'+plantilla\n",
        "for y in range(1,13):\n",
        "  print(plantillaURL.format(y))\n",
        "comandos= [plantillaURL.format(y) for y in range(1,13)]\n",
        "for cmd in comandos:\n",
        "  os.system(cmd)"
      ],
      "execution_count": 0,
      "outputs": [
        {
          "output_type": "stream",
          "text": [
            "wget https://s3.amazonaws.com/nyc-tlc/trip+data/yellow_tripdata_2018-01.csv\n",
            "wget https://s3.amazonaws.com/nyc-tlc/trip+data/yellow_tripdata_2018-02.csv\n",
            "wget https://s3.amazonaws.com/nyc-tlc/trip+data/yellow_tripdata_2018-03.csv\n",
            "wget https://s3.amazonaws.com/nyc-tlc/trip+data/yellow_tripdata_2018-04.csv\n",
            "wget https://s3.amazonaws.com/nyc-tlc/trip+data/yellow_tripdata_2018-05.csv\n",
            "wget https://s3.amazonaws.com/nyc-tlc/trip+data/yellow_tripdata_2018-06.csv\n",
            "wget https://s3.amazonaws.com/nyc-tlc/trip+data/yellow_tripdata_2018-07.csv\n",
            "wget https://s3.amazonaws.com/nyc-tlc/trip+data/yellow_tripdata_2018-08.csv\n",
            "wget https://s3.amazonaws.com/nyc-tlc/trip+data/yellow_tripdata_2018-09.csv\n",
            "wget https://s3.amazonaws.com/nyc-tlc/trip+data/yellow_tripdata_2018-10.csv\n",
            "wget https://s3.amazonaws.com/nyc-tlc/trip+data/yellow_tripdata_2018-11.csv\n",
            "wget https://s3.amazonaws.com/nyc-tlc/trip+data/yellow_tripdata_2018-12.csv\n"
          ],
          "name": "stdout"
        }
      ]
    },
    {
      "cell_type": "code",
      "metadata": {
        "id": "h4DV_W0muHig",
        "colab_type": "code",
        "outputId": "ee10bdde-ebbe-4347-dd8e-a31df65be07d",
        "colab": {
          "base_uri": "https://localhost:8080/",
          "height": 218
        }
      },
      "source": [
        "plantilla = 'yellow_tripdata_2018-{:02d}.csv'\n",
        "plantillaURL = 'wget https://s3.amazonaws.com/nyc-tlc/trip+data/'+plantilla\n",
        "for y in range(1,13):\n",
        "  print(plantillaURL.format(y))"
      ],
      "execution_count": 0,
      "outputs": [
        {
          "output_type": "stream",
          "text": [
            "wget https://s3.amazonaws.com/nyc-tlc/trip+data/yellow_tripdata_2018-01.csv\n",
            "wget https://s3.amazonaws.com/nyc-tlc/trip+data/yellow_tripdata_2018-02.csv\n",
            "wget https://s3.amazonaws.com/nyc-tlc/trip+data/yellow_tripdata_2018-03.csv\n",
            "wget https://s3.amazonaws.com/nyc-tlc/trip+data/yellow_tripdata_2018-04.csv\n",
            "wget https://s3.amazonaws.com/nyc-tlc/trip+data/yellow_tripdata_2018-05.csv\n",
            "wget https://s3.amazonaws.com/nyc-tlc/trip+data/yellow_tripdata_2018-06.csv\n",
            "wget https://s3.amazonaws.com/nyc-tlc/trip+data/yellow_tripdata_2018-07.csv\n",
            "wget https://s3.amazonaws.com/nyc-tlc/trip+data/yellow_tripdata_2018-08.csv\n",
            "wget https://s3.amazonaws.com/nyc-tlc/trip+data/yellow_tripdata_2018-09.csv\n",
            "wget https://s3.amazonaws.com/nyc-tlc/trip+data/yellow_tripdata_2018-10.csv\n",
            "wget https://s3.amazonaws.com/nyc-tlc/trip+data/yellow_tripdata_2018-11.csv\n",
            "wget https://s3.amazonaws.com/nyc-tlc/trip+data/yellow_tripdata_2018-12.csv\n"
          ],
          "name": "stdout"
        }
      ]
    },
    {
      "cell_type": "code",
      "metadata": {
        "id": "MG8cPmfyow4V",
        "colab_type": "code",
        "outputId": "6acd4311-b1a2-4044-dd42-e17e425529a0",
        "colab": {
          "base_uri": "https://localhost:8080/",
          "height": 134
        }
      },
      "source": [
        "ls"
      ],
      "execution_count": 0,
      "outputs": [
        {
          "output_type": "stream",
          "text": [
            "\u001b[0m\u001b[01;34msample_data\u001b[0m/                 yellow_tripdata_2018-07.csv\n",
            "yellow_tripdata_2018-01.csv  yellow_tripdata_2018-08.csv\n",
            "yellow_tripdata_2018-02.csv  yellow_tripdata_2018-09.csv\n",
            "yellow_tripdata_2018-03.csv  yellow_tripdata_2018-10.csv\n",
            "yellow_tripdata_2018-04.csv  yellow_tripdata_2018-11.csv\n",
            "yellow_tripdata_2018-05.csv  yellow_tripdata_2018-12.csv\n",
            "yellow_tripdata_2018-06.csv\n"
          ],
          "name": "stdout"
        }
      ]
    },
    {
      "cell_type": "markdown",
      "metadata": {
        "id": "6e7VYoXyoX0j",
        "colab_type": "text"
      },
      "source": [
        "funciones de prueba"
      ]
    },
    {
      "cell_type": "code",
      "metadata": {
        "id": "0pMiCcXYoc0B",
        "colab_type": "code",
        "colab": {}
      },
      "source": [
        "def cuenta_viajes_tardados(df):\n",
        "  df['duracion'] =(df.tpep_dropoff_datetime - df.tpep_pickup_datetime).dt.seconds\n",
        "  es_viaje_tardado = df.duracion > 1200\n",
        "  result_dict = {'n_long': [sum(es_viaje_tardado)],\n",
        "                'n_total': [len(df)]}\n",
        "  return pd.DataFrame(result_dict)"
      ],
      "execution_count": 0,
      "outputs": []
    },
    {
      "cell_type": "code",
      "metadata": {
        "id": "dx-ViLikog5m",
        "colab_type": "code",
        "outputId": "4112f004-9133-4a8c-f517-2e471b090728",
        "colab": {
          "base_uri": "https://localhost:8080/",
          "height": 67
        }
      },
      "source": [
        "%%time\n",
        "tiempo_inicial = time()\n",
        "\n",
        "archivos = [plantilla.format(y) for y in range(1,13)]\n",
        "\n",
        "tiempo_final = time() \n",
        " \n",
        "tiempo_ejecucion = tiempo_final - tiempo_inicial\n",
        " \n",
        "print( 'El tiempo de ejecucion fue:',tiempo_ejecucion )\n"
      ],
      "execution_count": 0,
      "outputs": [
        {
          "output_type": "stream",
          "text": [
            "El tiempo de ejecucion fue: 1.33514404296875e-05\n",
            "CPU times: user 1.7 ms, sys: 140 µs, total: 1.84 ms\n",
            "Wall time: 1.48 ms\n"
          ],
          "name": "stdout"
        }
      ]
    },
    {
      "cell_type": "code",
      "metadata": {
        "id": "7hKqai15ojsZ",
        "colab_type": "code",
        "colab": {}
      },
      "source": [
        "%%time\n",
        "antes = huella_de_memoria()\n",
        "tiempo_inicial = time()\n",
        "\n",
        "dataframes = [pd.read_csv(archivo, parse_dates=[1,2]) for archivo in archivos]\n",
        "\n",
        "despues = huella_de_memoria()\n",
        "tiempo_final = time() \n",
        "tiempo_ejecucion = tiempo_final - tiempo_inicial\n",
        "print( 'El tiempo de ejecucion fue:',tiempo_ejecucion )\n",
        "print(despues-antes)"
      ],
      "execution_count": 0,
      "outputs": []
    },
    {
      "cell_type": "code",
      "metadata": {
        "id": "8e7megWFomr3",
        "colab_type": "code",
        "outputId": "a1fdfbd2-2368-4732-ea6a-4b0b0d3f34da",
        "colab": {
          "base_uri": "https://localhost:8080/",
          "height": 84
        }
      },
      "source": [
        "%%time\n",
        "antes = huella_de_memoria()\n",
        "tiempo_inicial = time()\n",
        "\n",
        "totales = [cuenta_viajes_tardados(df) for df in dataframes]\n",
        "\n",
        "despues = huella_de_memoria()\n",
        "tiempo_final = time() \n",
        "tiempo_ejecucion = tiempo_final - tiempo_inicial\n",
        "print( 'El tiempo de ejecucion fue:',tiempo_ejecucion )\n",
        "print(despues-antes)"
      ],
      "execution_count": 0,
      "outputs": [
        {
          "output_type": "stream",
          "text": [
            "El tiempo de ejecucion fue: 8.539353132247925\n",
            "15.87109375\n",
            "CPU times: user 8.38 s, sys: 145 ms, total: 8.53 s\n",
            "Wall time: 8.54 s\n"
          ],
          "name": "stdout"
        }
      ]
    },
    {
      "cell_type": "code",
      "metadata": {
        "id": "QC7UPNFronaQ",
        "colab_type": "code",
        "outputId": "c7b7eeee-bbe2-4370-cebc-fbecf33d3d7f",
        "colab": {
          "base_uri": "https://localhost:8080/",
          "height": 84
        }
      },
      "source": [
        "%%time\n",
        "antes = huella_de_memoria()\n",
        "tiempo_inicial = time()\n",
        "\n",
        "totales_trimestrales = sum(totales)\n",
        "\n",
        "despues = huella_de_memoria()\n",
        "tiempo_final = time() \n",
        "tiempo_ejecucion = tiempo_final - tiempo_inicial\n",
        "print( 'El tiempo de ejecucion fue:',tiempo_ejecucion )\n",
        "print(despues-antes)"
      ],
      "execution_count": 0,
      "outputs": [
        {
          "output_type": "stream",
          "text": [
            "El tiempo de ejecucion fue: 0.04426240921020508\n",
            "0.09375\n",
            "CPU times: user 18.4 ms, sys: 14.1 ms, total: 32.4 ms\n",
            "Wall time: 45.5 ms\n"
          ],
          "name": "stdout"
        }
      ]
    },
    {
      "cell_type": "code",
      "metadata": {
        "id": "YHWcdq82osZe",
        "colab_type": "code",
        "outputId": "b6af8d73-fbf4-41ce-c718-1cde0a8f28c8",
        "colab": {
          "base_uri": "https://localhost:8080/",
          "height": 101
        }
      },
      "source": [
        "%%time\n",
        "tiempo_inicial = time()\n",
        "print(totales_trimestrales)\n",
        "\n",
        "tiempo_final = time() \n",
        " \n",
        "tiempo_ejecucion = tiempo_final - tiempo_inicial\n",
        " \n",
        "print( 'El tiempo de ejecucion fue:',tiempo_ejecucion )"
      ],
      "execution_count": 0,
      "outputs": [
        {
          "output_type": "stream",
          "text": [
            "     n_long   n_total\n",
            "0  10954358  53925735\n",
            "El tiempo de ejecucion fue: 0.011954307556152344\n",
            "CPU times: user 9.84 ms, sys: 988 µs, total: 10.8 ms\n",
            "Wall time: 12.8 ms\n"
          ],
          "name": "stdout"
        }
      ]
    },
    {
      "cell_type": "code",
      "metadata": {
        "id": "phtC2ta7oumr",
        "colab_type": "code",
        "outputId": "4eb70cba-181b-49d6-96be-a2af5ba1583a",
        "colab": {
          "base_uri": "https://localhost:8080/",
          "height": 101
        }
      },
      "source": [
        "%%time\n",
        "tiempo_inicial = time()\n",
        "\n",
        "print(totales_trimestrales['n_long']/totales_trimestrales['n_total'])\n",
        "\n",
        "tiempo_final = time() \n",
        " \n",
        "tiempo_ejecucion = tiempo_final - tiempo_inicial\n",
        " \n",
        "print( 'El tiempo de ejecucion fue:',tiempo_ejecucion )"
      ],
      "execution_count": 0,
      "outputs": [
        {
          "output_type": "stream",
          "text": [
            "0    0.203138\n",
            "dtype: float64\n",
            "El tiempo de ejecucion fue: 0.008041143417358398\n",
            "CPU times: user 2.84 ms, sys: 989 µs, total: 3.83 ms\n",
            "Wall time: 9.3 ms\n"
          ],
          "name": "stdout"
        }
      ]
    },
    {
      "cell_type": "markdown",
      "metadata": {
        "id": "29E5qFfy9mOn",
        "colab_type": "text"
      },
      "source": [
        "Generadores y delayed"
      ]
    },
    {
      "cell_type": "code",
      "metadata": {
        "id": "3iIkfcWX9lmI",
        "colab_type": "code",
        "colab": {}
      },
      "source": [
        "import numpy as np\n",
        "import pandas as pd\n",
        "import psutil, os\n",
        "from time import time\n",
        "from dask import delayed\n",
        "def huella_de_memoria():\n",
        "  '''regresa la memoria usada por un proceso en python'''\n",
        "  mem= psutil.Process(os.getpid()).memory_info().rss\n",
        "  return (mem / 1024**2)"
      ],
      "execution_count": 0,
      "outputs": []
    },
    {
      "cell_type": "code",
      "metadata": {
        "id": "-yhiB2QC9tKv",
        "colab_type": "code",
        "outputId": "e6a3b734-2bed-448e-cb0d-de236e7a3d59",
        "colab": {
          "base_uri": "https://localhost:8080/",
          "height": 218
        }
      },
      "source": [
        "plantilla = 'yellow_tripdata_2018-{:02d}.csv'\n",
        "plantillaURL = 'wget https://s3.amazonaws.com/nyc-tlc/trip+data/'+plantilla\n",
        "for y in range(1,13):\n",
        "  print(plantillaURL.format(y))"
      ],
      "execution_count": 0,
      "outputs": [
        {
          "output_type": "stream",
          "text": [
            "wget https://s3.amazonaws.com/nyc-tlc/trip+data/yellow_tripdata_2018-01.csv\n",
            "wget https://s3.amazonaws.com/nyc-tlc/trip+data/yellow_tripdata_2018-02.csv\n",
            "wget https://s3.amazonaws.com/nyc-tlc/trip+data/yellow_tripdata_2018-03.csv\n",
            "wget https://s3.amazonaws.com/nyc-tlc/trip+data/yellow_tripdata_2018-04.csv\n",
            "wget https://s3.amazonaws.com/nyc-tlc/trip+data/yellow_tripdata_2018-05.csv\n",
            "wget https://s3.amazonaws.com/nyc-tlc/trip+data/yellow_tripdata_2018-06.csv\n",
            "wget https://s3.amazonaws.com/nyc-tlc/trip+data/yellow_tripdata_2018-07.csv\n",
            "wget https://s3.amazonaws.com/nyc-tlc/trip+data/yellow_tripdata_2018-08.csv\n",
            "wget https://s3.amazonaws.com/nyc-tlc/trip+data/yellow_tripdata_2018-09.csv\n",
            "wget https://s3.amazonaws.com/nyc-tlc/trip+data/yellow_tripdata_2018-10.csv\n",
            "wget https://s3.amazonaws.com/nyc-tlc/trip+data/yellow_tripdata_2018-11.csv\n",
            "wget https://s3.amazonaws.com/nyc-tlc/trip+data/yellow_tripdata_2018-12.csv\n"
          ],
          "name": "stdout"
        }
      ]
    },
    {
      "cell_type": "code",
      "metadata": {
        "id": "k50F0ghm93zs",
        "colab_type": "code",
        "colab": {}
      },
      "source": [
        "@delayed\n",
        "def cuenta_viajes_tardados(df):\n",
        "  df['duracion'] =(df.tpep_dropoff_datetime - df.tpep_pickup_datetime).dt.seconds\n",
        "  es_viaje_tardado = df.duracion > 1200\n",
        "  result_dict = {'n_long': [sum(es_viaje_tardado)],\n",
        "                'n_total': [len(df)]}\n",
        "  return pd.DataFrame(result_dict)\n",
        "\n",
        "@delayed\n",
        "def abre_archivo(nombre):\n",
        "  return pd.read_csv(nombre, parse_dates=[1,2])"
      ],
      "execution_count": 0,
      "outputs": []
    },
    {
      "cell_type": "code",
      "metadata": {
        "id": "R6ZnNjls_xtO",
        "colab_type": "code",
        "outputId": "85de70a0-8cca-400e-925e-c67dafd02bff",
        "colab": {
          "base_uri": "https://localhost:8080/",
          "height": 84
        }
      },
      "source": [
        "%%time\n",
        "antes = huella_de_memoria()\n",
        "tiempo_inicial = time()\n",
        "\n",
        "\n",
        "#aqui van las funciones a ejecutar\n",
        "archivos = [plantilla.format(y) for y in range(1,10)]\n",
        "totales= [cuenta_viajes_tardados(abre_archivo(archivo)) for archivo in archivos]\n",
        "semi_anuales = sum(totales)\n",
        "semi_anuales.compute()\n",
        "\n",
        "\n",
        "despues = huella_de_memoria()\n",
        "tiempo_final = time() \n",
        "tiempo_ejecucion = tiempo_final - tiempo_inicial\n",
        "print( 'El tiempo de ejecucion fue:',tiempo_ejecucion )\n",
        "print(despues-antes)"
      ],
      "execution_count": 0,
      "outputs": [
        {
          "output_type": "stream",
          "text": [
            "El tiempo de ejecucion fue: 294.05335235595703\n",
            "4589.93359375\n",
            "CPU times: user 5min 14s, sys: 16.6 s, total: 5min 31s\n",
            "Wall time: 4min 54s\n"
          ],
          "name": "stdout"
        }
      ]
    },
    {
      "cell_type": "markdown",
      "metadata": {
        "id": "KdMrv0iVMbZU",
        "colab_type": "text"
      },
      "source": [
        "#arreglos y dask para ver la distribucion "
      ]
    },
    {
      "cell_type": "code",
      "metadata": {
        "id": "LnLBICLVMao3",
        "colab_type": "code",
        "colab": {}
      },
      "source": [
        "import numpy as np\n",
        "import dask.array as da\n",
        "from time import time\n",
        "\n"
      ],
      "execution_count": 0,
      "outputs": []
    },
    {
      "cell_type": "code",
      "metadata": {
        "id": "iq26c9RjOEk9",
        "colab_type": "code",
        "colab": {
          "base_uri": "https://localhost:8080/",
          "height": 50
        },
        "outputId": "59478894-4814-4b6c-8f62-7de40fd582c4"
      },
      "source": [
        "a= np.random.rand(10000)\n",
        "print(a.shape, a.dtype, a.nbytes)\n",
        "a_dask = da.from_array(a, chunks=len(a)//3)\n",
        "a_dask.chunks"
      ],
      "execution_count": 41,
      "outputs": [
        {
          "output_type": "stream",
          "text": [
            "(10000,) float64 80000\n"
          ],
          "name": "stdout"
        },
        {
          "output_type": "execute_result",
          "data": {
            "text/plain": [
              "((3333, 3333, 3333, 1),)"
            ]
          },
          "metadata": {
            "tags": []
          },
          "execution_count": 41
        }
      ]
    },
    {
      "cell_type": "code",
      "metadata": {
        "id": "JKAk1l3BMu7m",
        "colab_type": "code",
        "colab": {
          "base_uri": "https://localhost:8080/",
          "height": 67
        },
        "outputId": "da09e8ed-1de2-4594-9e2a-6def2a817b2c"
      },
      "source": [
        "%%time\n",
        "n_chunks=8\n",
        "chunk_size=len(a)// n_chunks\n",
        "result=0\n",
        "\n",
        "for k in range(n_chunks):\n",
        "  offset = k*chunk_size\n",
        "  a_chunk = a[offset:offset+chunk_size]\n",
        "  result += a_chunk.sum()\n",
        "print(result)\n",
        "result_dask = a_dask.sum()\n",
        "result_dask.compute()\n"
      ],
      "execution_count": 42,
      "outputs": [
        {
          "output_type": "stream",
          "text": [
            "4989.732843996452\n",
            "CPU times: user 10.2 ms, sys: 9 µs, total: 10.2 ms\n",
            "Wall time: 18.5 ms\n"
          ],
          "name": "stdout"
        }
      ]
    },
    {
      "cell_type": "code",
      "metadata": {
        "id": "uuspOSLZOB_X",
        "colab_type": "code",
        "colab": {
          "base_uri": "https://localhost:8080/",
          "height": 410
        },
        "outputId": "2c40d069-520a-46f3-9a91-f0fb741746b0"
      },
      "source": [
        "result_dask.visualize(rankdir='LR')"
      ],
      "execution_count": 43,
      "outputs": [
        {
          "output_type": "execute_result",
          "data": {
            "image/png": "[encoded data removed]",
            "text/plain": [
              "<IPython.core.display.Image object>"
            ]
          },
          "metadata": {
            "tags": []
          },
          "execution_count": 43
        }
      ]
    },
    {
      "cell_type": "markdown",
      "metadata": {
        "id": "l3XGI1N7OaHK",
        "colab_type": "text"
      },
      "source": [
        "#medicion de tiempo"
      ]
    },
    {
      "cell_type": "code",
      "metadata": {
        "id": "KT5X5hzdOZcu",
        "colab_type": "code",
        "colab": {}
      },
      "source": [
        "!wget https://www.gw-osc.org/archive/data/S5/814743552/H-H1_LOSC_4_V1-815411200-4096.hdf5"
      ],
      "execution_count": 0,
      "outputs": []
    },
    {
      "cell_type": "code",
      "metadata": {
        "id": "id43zGK5OhyT",
        "colab_type": "code",
        "colab": {}
      },
      "source": [
        "!cp H-H1_LOSC_4_V1-815411200-4096.hdf5 LIGO_data.hdf5"
      ],
      "execution_count": 0,
      "outputs": []
    },
    {
      "cell_type": "code",
      "metadata": {
        "id": "uQ4N-sAzOl9a",
        "colab_type": "code",
        "colab": {}
      },
      "source": [
        "import h5py, time\n",
        "import numpy as np\n",
        "import dask.array as da\n",
        "datos= h5py.File('./LIGO_data.hdf5')"
      ],
      "execution_count": 0,
      "outputs": []
    },
    {
      "cell_type": "code",
      "metadata": {
        "id": "zBiWEITOOsNx",
        "colab_type": "code",
        "colab": {}
      },
      "source": [
        "with h5py.File('./LIGO_data.hdf5') as dset:\n",
        "  strain =dset['strain']['Strain'][:]"
      ],
      "execution_count": 0,
      "outputs": []
    },
    {
      "cell_type": "code",
      "metadata": {
        "id": "HcuJSsrcOweI",
        "colab_type": "code",
        "colab": {
          "base_uri": "https://localhost:8080/",
          "height": 50
        },
        "outputId": "4a62a4b0-b9a2-416b-d5d5-ec59519b095f"
      },
      "source": [
        "strain_dask8 = da.from_array(strain, chunks=strain.shape[0]//4)\n",
        "ti = time.time()\n",
        "promedio8= strain_dask8.mean().compute()\n",
        "tf = time.time()\n",
        "print('tiempo transcurrido: {} ms'.format((tf-ti)*1000))\n",
        "print(promedio8)"
      ],
      "execution_count": 35,
      "outputs": [
        {
          "output_type": "stream",
          "text": [
            "tiempo transcurrido: 65.38915634155273 ms\n",
            "nan\n"
          ],
          "name": "stdout"
        }
      ]
    },
    {
      "cell_type": "code",
      "metadata": {
        "id": "I37DjfOOQlWW",
        "colab_type": "code",
        "colab": {
          "base_uri": "https://localhost:8080/",
          "height": 34
        },
        "outputId": "fd218124-b638-49cd-91c7-54fdaa69c7eb"
      },
      "source": [
        "connum = np.array(strain)\n",
        "np.array_split(connum, strain.shape[0]//16)\n",
        "ti = time.time()\n",
        "promedio2= connum.mean()\n",
        "tf = time.time()\n",
        "print('tiempo transcurrido: {} ms'.format((tf-ti)*1000))"
      ],
      "execution_count": 43,
      "outputs": [
        {
          "output_type": "stream",
          "text": [
            "tiempo transcurrido: 17.73524284362793 ms\n"
          ],
          "name": "stdout"
        }
      ]
    },
    {
      "cell_type": "code",
      "metadata": {
        "id": "XnVazWVKVSvl",
        "colab_type": "code",
        "colab": {
          "base_uri": "https://localhost:8080/",
          "height": 34
        },
        "outputId": "9cd3fedf-b6d2-4b31-be87-3203c7445196"
      },
      "source": [
        "promedio2"
      ],
      "execution_count": 31,
      "outputs": [
        {
          "output_type": "execute_result",
          "data": {
            "text/plain": [
              "nan"
            ]
          },
          "metadata": {
            "tags": []
          },
          "execution_count": 31
        }
      ]
    },
    {
      "cell_type": "code",
      "metadata": {
        "id": "9tgcYiY1RL4b",
        "colab_type": "code",
        "colab": {
          "base_uri": "https://localhost:8080/",
          "height": 34
        },
        "outputId": "1aeb3f6d-4afb-430a-8bfb-ab0426587fe3"
      },
      "source": [
        "promedio8"
      ],
      "execution_count": 32,
      "outputs": [
        {
          "output_type": "execute_result",
          "data": {
            "text/plain": [
              "nan"
            ]
          },
          "metadata": {
            "tags": []
          },
          "execution_count": 32
        }
      ]
    }
  ]
}