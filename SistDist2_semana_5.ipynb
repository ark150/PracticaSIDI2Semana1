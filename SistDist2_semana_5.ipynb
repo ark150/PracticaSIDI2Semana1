{
  "nbformat": 4,
  "nbformat_minor": 0,
  "metadata": {
    "colab": {
      "name": "SistDist2 semana 5.ipynb",
      "version": "0.3.2",
      "provenance": [],
      "include_colab_link": true
    },
    "kernelspec": {
      "name": "python3",
      "display_name": "Python 3"
    }
  },
  "cells": [
    {
      "cell_type": "markdown",
      "metadata": {
        "id": "view-in-github",
        "colab_type": "text"
      },
      "source": [
        "<a href=\"https://colab.research.google.com/github/ark150/PracticaSIDI2Semana1/blob/master/SistDist2_semana_5.ipynb\" target=\"_parent\"><img src=\"https://colab.research.google.com/assets/colab-badge.svg\" alt=\"Open In Colab\"/></a>"
      ]
    },
    {
      "cell_type": "markdown",
      "metadata": {
        "id": "j1UU0f75FvOq",
        "colab_type": "text"
      },
      "source": [
        "#Semana 5\n",
        "resumen de la semana 4\n"
      ]
    },
    {
      "cell_type": "code",
      "metadata": {
        "id": "nXcLldyuFucY",
        "colab_type": "code",
        "colab": {}
      },
      "source": [
        "import numpy as np\n",
        "import dask.array as da\n"
      ],
      "execution_count": 0,
      "outputs": []
    },
    {
      "cell_type": "code",
      "metadata": {
        "id": "jnNfgHlOIY6F",
        "colab_type": "code",
        "colab": {}
      },
      "source": [
        "a = np.random.rand(100000)\n",
        "a_dask = da.from_array(a, chunks=len(a)//4)"
      ],
      "execution_count": 0,
      "outputs": []
    },
    {
      "cell_type": "code",
      "metadata": {
        "id": "EaerJiq1Ir2V",
        "colab_type": "code",
        "colab": {
          "base_uri": "https://localhost:8080/",
          "height": 34
        },
        "outputId": "5c08e353-1bec-4565-e7f2-a24eb662f883"
      },
      "source": [
        "print(a_dask.chunks)"
      ],
      "execution_count": 6,
      "outputs": [
        {
          "output_type": "stream",
          "text": [
            "((25000, 25000, 25000, 25000),)\n"
          ],
          "name": "stdout"
        }
      ]
    },
    {
      "cell_type": "code",
      "metadata": {
        "id": "yktHxdhdIzvl",
        "colab_type": "code",
        "colab": {
          "base_uri": "https://localhost:8080/",
          "height": 34
        },
        "outputId": "c6c85da5-7d80-4de2-a103-805a7c44d794"
      },
      "source": [
        "a.shape"
      ],
      "execution_count": 7,
      "outputs": [
        {
          "output_type": "execute_result",
          "data": {
            "text/plain": [
              "(100000,)"
            ]
          },
          "metadata": {
            "tags": []
          },
          "execution_count": 7
        }
      ]
    },
    {
      "cell_type": "code",
      "metadata": {
        "id": "MOkL5mVOI2Mb",
        "colab_type": "code",
        "colab": {
          "base_uri": "https://localhost:8080/",
          "height": 34
        },
        "outputId": "2bcba360-db22-4bf6-e598-c4a55f441005"
      },
      "source": [
        "a_dask.ndim"
      ],
      "execution_count": 8,
      "outputs": [
        {
          "output_type": "execute_result",
          "data": {
            "text/plain": [
              "1"
            ]
          },
          "metadata": {
            "tags": []
          },
          "execution_count": 8
        }
      ]
    },
    {
      "cell_type": "code",
      "metadata": {
        "id": "qeZrJUazI5Vq",
        "colab_type": "code",
        "colab": {
          "base_uri": "https://localhost:8080/",
          "height": 34
        },
        "outputId": "6da8032b-605a-4695-80a6-cd4ae28d46d2"
      },
      "source": [
        "a_dask.mean().compute()"
      ],
      "execution_count": 11,
      "outputs": [
        {
          "output_type": "execute_result",
          "data": {
            "text/plain": [
              "0.5008159016519146"
            ]
          },
          "metadata": {
            "tags": []
          },
          "execution_count": 11
        }
      ]
    },
    {
      "cell_type": "code",
      "metadata": {
        "id": "fKNXgQ45JGfo",
        "colab_type": "code",
        "colab": {}
      },
      "source": [
        "a_dask.mean().visualize(rankdir='LR')"
      ],
      "execution_count": 0,
      "outputs": []
    },
    {
      "cell_type": "code",
      "metadata": {
        "id": "3wpUB-ujJSH4",
        "colab_type": "code",
        "colab": {}
      },
      "source": [
        "ts = np.array([49,51,60,54,47,50,64,58,47,43,50,63,67,68,64,48,55,46,66,51,52])\n",
        "np.savetxt('temp_max.csv', ts.astype(int), fmt='%i')"
      ],
      "execution_count": 0,
      "outputs": []
    },
    {
      "cell_type": "code",
      "metadata": {
        "id": "-_auN1rAKA9l",
        "colab_type": "code",
        "colab": {
          "base_uri": "https://localhost:8080/",
          "height": 50
        },
        "outputId": "68ab52a4-2a7d-420b-88fc-8871ef993645"
      },
      "source": [
        "ts"
      ],
      "execution_count": 17,
      "outputs": [
        {
          "output_type": "execute_result",
          "data": {
            "text/plain": [
              "array([49, 51, 60, 54, 47, 50, 64, 58, 47, 43, 50, 63, 67, 68, 64, 48, 55,\n",
              "       46, 66, 51, 52])"
            ]
          },
          "metadata": {
            "tags": []
          },
          "execution_count": 17
        }
      ]
    },
    {
      "cell_type": "code",
      "metadata": {
        "id": "WUwNJeqOKB42",
        "colab_type": "code",
        "colab": {}
      },
      "source": [
        "semanas = ts.reshape([3,7])"
      ],
      "execution_count": 0,
      "outputs": []
    },
    {
      "cell_type": "code",
      "metadata": {
        "id": "_fDp5ysWKPjJ",
        "colab_type": "code",
        "colab": {
          "base_uri": "https://localhost:8080/",
          "height": 67
        },
        "outputId": "cd3972e3-6b58-498d-a7d7-a7b294b36116"
      },
      "source": [
        "semanas"
      ],
      "execution_count": 20,
      "outputs": [
        {
          "output_type": "execute_result",
          "data": {
            "text/plain": [
              "array([[49, 51, 60, 54, 47, 50, 64],\n",
              "       [58, 47, 43, 50, 63, 67, 68],\n",
              "       [64, 48, 55, 46, 66, 51, 52]])"
            ]
          },
          "metadata": {
            "tags": []
          },
          "execution_count": 20
        }
      ]
    },
    {
      "cell_type": "code",
      "metadata": {
        "id": "_Ivq_KfaKQU7",
        "colab_type": "code",
        "colab": {
          "base_uri": "https://localhost:8080/",
          "height": 34
        },
        "outputId": "c899353a-31a8-4dbd-a828-37f289b97c3b"
      },
      "source": [
        "semanas.ndim"
      ],
      "execution_count": 21,
      "outputs": [
        {
          "output_type": "execute_result",
          "data": {
            "text/plain": [
              "2"
            ]
          },
          "metadata": {
            "tags": []
          },
          "execution_count": 21
        }
      ]
    },
    {
      "cell_type": "code",
      "metadata": {
        "id": "Uqyo_CSSKSW5",
        "colab_type": "code",
        "colab": {}
      },
      "source": [
        "data=np.genfromtxt('https://www1.ncdc.noaa.gov/pub/data/ccd-data/hghtmp15.dat', usecols=(2,3,4,5),skip_header=5, dtype=np.int64)"
      ],
      "execution_count": 0,
      "outputs": []
    },
    {
      "cell_type": "code",
      "metadata": {
        "id": "VCRTLAWEKfyd",
        "colab_type": "code",
        "colab": {
          "base_uri": "https://localhost:8080/",
          "height": 34
        },
        "outputId": "3bf21039-850a-4712-cf9a-7b86d108f310"
      },
      "source": [
        "data.ndim"
      ],
      "execution_count": 23,
      "outputs": [
        {
          "output_type": "execute_result",
          "data": {
            "text/plain": [
              "2"
            ]
          },
          "metadata": {
            "tags": []
          },
          "execution_count": 23
        }
      ]
    },
    {
      "cell_type": "code",
      "metadata": {
        "id": "I9jUhElSKhX9",
        "colab_type": "code",
        "colab": {
          "base_uri": "https://localhost:8080/",
          "height": 34
        },
        "outputId": "29e4fe58-1e79-48ea-bbe2-3a60a806366c"
      },
      "source": [
        "data.shape"
      ],
      "execution_count": 24,
      "outputs": [
        {
          "output_type": "execute_result",
          "data": {
            "text/plain": [
              "(259, 4)"
            ]
          },
          "metadata": {
            "tags": []
          },
          "execution_count": 24
        }
      ]
    },
    {
      "cell_type": "code",
      "metadata": {
        "id": "EYD8BPV4Kion",
        "colab_type": "code",
        "colab": {}
      },
      "source": [
        "data_dask= da.from_array(data, chunks=(259,2))"
      ],
      "execution_count": 0,
      "outputs": []
    },
    {
      "cell_type": "code",
      "metadata": {
        "id": "mpe1P8UsK89T",
        "colab_type": "code",
        "colab": {
          "base_uri": "https://localhost:8080/",
          "height": 34
        },
        "outputId": "875a7275-d5c9-4435-8b14-05e9dad46bc1"
      },
      "source": [
        "data_dask.chunks"
      ],
      "execution_count": 27,
      "outputs": [
        {
          "output_type": "execute_result",
          "data": {
            "text/plain": [
              "((259,), (2, 2))"
            ]
          },
          "metadata": {
            "tags": []
          },
          "execution_count": 27
        }
      ]
    },
    {
      "cell_type": "code",
      "metadata": {
        "id": "sP_3ZQoCK_Hw",
        "colab_type": "code",
        "colab": {}
      },
      "source": [
        "import h5py, time"
      ],
      "execution_count": 0,
      "outputs": []
    },
    {
      "cell_type": "code",
      "metadata": {
        "id": "cbkgQCo0NLfI",
        "colab_type": "code",
        "colab": {
          "base_uri": "https://localhost:8080/",
          "height": 286
        },
        "outputId": "ee7f8d22-56ad-466a-ac19-68010fc550af"
      },
      "source": [
        "!wget https://github.com/htapiagroup/sistdist/raw/mca2019/2014-01-30.hdf5"
      ],
      "execution_count": 29,
      "outputs": [
        {
          "output_type": "stream",
          "text": [
            "--2019-06-04 15:57:15--  https://github.com/htapiagroup/sistdist/raw/mca2019/2014-01-30.hdf5\n",
            "Resolving github.com (github.com)... 192.30.253.112\n",
            "Connecting to github.com (github.com)|192.30.253.112|:443... connected.\n",
            "HTTP request sent, awaiting response... 302 Found\n",
            "Location: https://raw.githubusercontent.com/htapiagroup/sistdist/mca2019/2014-01-30.hdf5 [following]\n",
            "--2019-06-04 15:57:15--  https://raw.githubusercontent.com/htapiagroup/sistdist/mca2019/2014-01-30.hdf5\n",
            "Resolving raw.githubusercontent.com (raw.githubusercontent.com)... 151.101.0.133, 151.101.64.133, 151.101.128.133, ...\n",
            "Connecting to raw.githubusercontent.com (raw.githubusercontent.com)|151.101.0.133|:443... connected.\n",
            "HTTP request sent, awaiting response... 200 OK\n",
            "Length: 84673 (83K) [application/octet-stream]\n",
            "Saving to: ‘2014-01-30.hdf5’\n",
            "\n",
            "\r2014-01-30.hdf5       0%[                    ]       0  --.-KB/s               \r2014-01-30.hdf5     100%[===================>]  82.69K  --.-KB/s    in 0.02s   \n",
            "\n",
            "2019-06-04 15:57:15 (3.30 MB/s) - ‘2014-01-30.hdf5’ saved [84673/84673]\n",
            "\n"
          ],
          "name": "stdout"
        }
      ]
    },
    {
      "cell_type": "code",
      "metadata": {
        "id": "-F_RGKoMNY1_",
        "colab_type": "code",
        "colab": {}
      },
      "source": [
        "f = h5py.File('2014-01-30.hdf5','r')"
      ],
      "execution_count": 0,
      "outputs": []
    },
    {
      "cell_type": "code",
      "metadata": {
        "id": "sbKnninaOIVJ",
        "colab_type": "code",
        "colab": {
          "base_uri": "https://localhost:8080/",
          "height": 34
        },
        "outputId": "367bf19f-dd8a-489f-c60f-a2a79ddfb7b5"
      },
      "source": [
        "for key in f.keys():\n",
        "  print(key)"
      ],
      "execution_count": 35,
      "outputs": [
        {
          "output_type": "stream",
          "text": [
            "t2m\n"
          ],
          "name": "stdout"
        }
      ]
    },
    {
      "cell_type": "code",
      "metadata": {
        "id": "YS95DgJPOWDA",
        "colab_type": "code",
        "colab": {
          "base_uri": "https://localhost:8080/",
          "height": 34
        },
        "outputId": "54ea0194-a364-42d1-fec4-2d58ddad72b7"
      },
      "source": [
        "datos =f['t2m']\n",
        "type(datos)"
      ],
      "execution_count": 36,
      "outputs": [
        {
          "output_type": "execute_result",
          "data": {
            "text/plain": [
              "h5py._hl.dataset.Dataset"
            ]
          },
          "metadata": {
            "tags": []
          },
          "execution_count": 36
        }
      ]
    },
    {
      "cell_type": "code",
      "metadata": {
        "id": "0qTCflELOeMl",
        "colab_type": "code",
        "colab": {
          "base_uri": "https://localhost:8080/",
          "height": 34
        },
        "outputId": "c515a0c4-c591-4309-db78-005da165e964"
      },
      "source": [
        "datos"
      ],
      "execution_count": 37,
      "outputs": [
        {
          "output_type": "execute_result",
          "data": {
            "text/plain": [
              "<HDF5 dataset \"t2m\": shape (180, 360), type \"<f8\">"
            ]
          },
          "metadata": {
            "tags": []
          },
          "execution_count": 37
        }
      ]
    },
    {
      "cell_type": "code",
      "metadata": {
        "id": "eJzJTlOhOhWE",
        "colab_type": "code",
        "colab": {
          "base_uri": "https://localhost:8080/",
          "height": 34
        },
        "outputId": "6dc78747-2762-4fbb-a4d9-f5947bd1672a"
      },
      "source": [
        "datos.ndim"
      ],
      "execution_count": 38,
      "outputs": [
        {
          "output_type": "execute_result",
          "data": {
            "text/plain": [
              "2"
            ]
          },
          "metadata": {
            "tags": []
          },
          "execution_count": 38
        }
      ]
    },
    {
      "cell_type": "code",
      "metadata": {
        "id": "r-fczHM_OoIf",
        "colab_type": "code",
        "colab": {
          "base_uri": "https://localhost:8080/",
          "height": 34
        },
        "outputId": "63b76a9b-a835-4b6a-f8f1-572e5156eab1"
      },
      "source": [
        "datos.shape"
      ],
      "execution_count": 39,
      "outputs": [
        {
          "output_type": "execute_result",
          "data": {
            "text/plain": [
              "(180, 360)"
            ]
          },
          "metadata": {
            "tags": []
          },
          "execution_count": 39
        }
      ]
    },
    {
      "cell_type": "code",
      "metadata": {
        "id": "a5M9aW6rOpQ8",
        "colab_type": "code",
        "colab": {}
      },
      "source": [
        "datos_dask = da.from_array(datos, chunks=(15,360))"
      ],
      "execution_count": 0,
      "outputs": []
    },
    {
      "cell_type": "code",
      "metadata": {
        "id": "Agt8PzgvO0eR",
        "colab_type": "code",
        "colab": {
          "base_uri": "https://localhost:8080/",
          "height": 34
        },
        "outputId": "eb9b35b8-3a7a-4842-d8e5-92c887f0ce40"
      },
      "source": [
        "datos_dask.chunks"
      ],
      "execution_count": 41,
      "outputs": [
        {
          "output_type": "execute_result",
          "data": {
            "text/plain": [
              "((15, 15, 15, 15, 15, 15, 15, 15, 15, 15, 15, 15), (360,))"
            ]
          },
          "metadata": {
            "tags": []
          },
          "execution_count": 41
        }
      ]
    },
    {
      "cell_type": "code",
      "metadata": {
        "id": "WFYirKlwO4ze",
        "colab_type": "code",
        "colab": {
          "base_uri": "https://localhost:8080/",
          "height": 34
        },
        "outputId": "12a978a3-d42a-4332-bd9d-b9d62f4b1300"
      },
      "source": [
        "datos_dask.min().compute()"
      ],
      "execution_count": 44,
      "outputs": [
        {
          "output_type": "execute_result",
          "data": {
            "text/plain": [
              "12.25"
            ]
          },
          "metadata": {
            "tags": []
          },
          "execution_count": 44
        }
      ]
    },
    {
      "cell_type": "code",
      "metadata": {
        "id": "T2loOsfFPke0",
        "colab_type": "code",
        "colab": {}
      },
      "source": [
        "min =datos_dask.min().compute()\n",
        "max=datos_dask.max().compute()"
      ],
      "execution_count": 0,
      "outputs": []
    },
    {
      "cell_type": "code",
      "metadata": {
        "id": "VXtJoBAfQqYM",
        "colab_type": "code",
        "colab": {
          "base_uri": "https://localhost:8080/",
          "height": 34
        },
        "outputId": "1fd65ccc-ec6c-4231-988c-fd17db5a78e5"
      },
      "source": [
        "min,max"
      ],
      "execution_count": 46,
      "outputs": [
        {
          "output_type": "execute_result",
          "data": {
            "text/plain": [
              "(12.25, 237.5)"
            ]
          },
          "metadata": {
            "tags": []
          },
          "execution_count": 46
        }
      ]
    },
    {
      "cell_type": "code",
      "metadata": {
        "id": "CKJtZmk-Qrry",
        "colab_type": "code",
        "colab": {}
      },
      "source": [
        "import matplotlib.pyplot as plt"
      ],
      "execution_count": 0,
      "outputs": []
    },
    {
      "cell_type": "code",
      "metadata": {
        "id": "veIw1N6tQ30Z",
        "colab_type": "code",
        "colab": {
          "base_uri": "https://localhost:8080/",
          "height": 272
        },
        "outputId": "f266e159-c816-43c2-fd04-169d1a189612"
      },
      "source": [
        "plt.imshow(datos_dask[:,:], origin='lower', vmin=min, vmax=max);\n",
        "plt.title('Temperaturas globales')\n",
        "plt.axis('off')\n",
        "plt.colorbar()"
      ],
      "execution_count": 50,
      "outputs": [
        {
          "output_type": "execute_result",
          "data": {
            "text/plain": [
              "<matplotlib.colorbar.Colorbar at 0x7f22107541d0>"
            ]
          },
          "metadata": {
            "tags": []
          },
          "execution_count": 50
        },
        {
          "output_type": "display_data",
          "data": {
            "image/png": "[encoded data removed]",
            "text/plain": [
              "<Figure size 432x288 with 2 Axes>"
            ]
          },
          "metadata": {
            "tags": []
          }
        }
      ]
    },
    {
      "cell_type": "markdown",
      "metadata": {
        "id": "V7ACi38JTLi9",
        "colab_type": "text"
      },
      "source": [
        "#apilando (stacking) arreglos"
      ]
    },
    {
      "cell_type": "code",
      "metadata": {
        "id": "SKQLOEgLRS_i",
        "colab_type": "code",
        "colab": {
          "base_uri": "https://localhost:8080/",
          "height": 118
        },
        "outputId": "bb046123-a440-4bde-bd1c-21893ed60ae4"
      },
      "source": [
        "a= np.ones(3)\n",
        "b=2*a\n",
        "c=3*a\n",
        "print(a,'\\n')\n",
        "print(b,'\\n')\n",
        "print(c,'\\n')"
      ],
      "execution_count": 51,
      "outputs": [
        {
          "output_type": "stream",
          "text": [
            "[1. 1. 1.] \n",
            "\n",
            "[2. 2. 2.] \n",
            "\n",
            "[3. 3. 3.] \n",
            "\n"
          ],
          "name": "stdout"
        }
      ]
    },
    {
      "cell_type": "code",
      "metadata": {
        "id": "hDZnjtCsTlqz",
        "colab_type": "code",
        "colab": {
          "base_uri": "https://localhost:8080/",
          "height": 34
        },
        "outputId": "d52be925-9657-4c49-ab99-907d778a6c86"
      },
      "source": [
        "np.stack([a,b]).shape"
      ],
      "execution_count": 53,
      "outputs": [
        {
          "output_type": "execute_result",
          "data": {
            "text/plain": [
              "(2, 3)"
            ]
          },
          "metadata": {
            "tags": []
          },
          "execution_count": 53
        }
      ]
    },
    {
      "cell_type": "code",
      "metadata": {
        "id": "5oWBzm3CUTtW",
        "colab_type": "code",
        "colab": {
          "base_uri": "https://localhost:8080/",
          "height": 50
        },
        "outputId": "6b4b8d4f-a8f2-403e-89cd-510cf7e6baba"
      },
      "source": [
        "np.stack([a,b])"
      ],
      "execution_count": 57,
      "outputs": [
        {
          "output_type": "execute_result",
          "data": {
            "text/plain": [
              "array([[1., 1., 1.],\n",
              "       [2., 2., 2.]])"
            ]
          },
          "metadata": {
            "tags": []
          },
          "execution_count": 57
        }
      ]
    },
    {
      "cell_type": "code",
      "metadata": {
        "id": "sixLeGCCUs0Y",
        "colab_type": "code",
        "colab": {
          "base_uri": "https://localhost:8080/",
          "height": 67
        },
        "outputId": "9740beca-28ad-496a-bce4-cd7021e71d54"
      },
      "source": [
        "np.stack([a,b], axis=1)"
      ],
      "execution_count": 59,
      "outputs": [
        {
          "output_type": "execute_result",
          "data": {
            "text/plain": [
              "array([[1., 2.],\n",
              "       [1., 2.],\n",
              "       [1., 2.]])"
            ]
          },
          "metadata": {
            "tags": []
          },
          "execution_count": 59
        }
      ]
    },
    {
      "cell_type": "code",
      "metadata": {
        "id": "93c2Zi7VVlg5",
        "colab_type": "code",
        "colab": {
          "base_uri": "https://localhost:8080/",
          "height": 67
        },
        "outputId": "d8715051-d1d8-4a60-de63-1bee5b092b50"
      },
      "source": [
        "np.stack([a,b,c])"
      ],
      "execution_count": 61,
      "outputs": [
        {
          "output_type": "execute_result",
          "data": {
            "text/plain": [
              "array([[1., 1., 1.],\n",
              "       [2., 2., 2.],\n",
              "       [3., 3., 3.]])"
            ]
          },
          "metadata": {
            "tags": []
          },
          "execution_count": 61
        }
      ]
    },
    {
      "cell_type": "code",
      "metadata": {
        "id": "CmwkuMMwV0s6",
        "colab_type": "code",
        "colab": {
          "base_uri": "https://localhost:8080/",
          "height": 67
        },
        "outputId": "61db838d-a7f5-40cb-b48b-6af05a87ef53"
      },
      "source": [
        "np.stack([a,b,c], axis=1)"
      ],
      "execution_count": 62,
      "outputs": [
        {
          "output_type": "execute_result",
          "data": {
            "text/plain": [
              "array([[1., 2., 3.],\n",
              "       [1., 2., 3.],\n",
              "       [1., 2., 3.]])"
            ]
          },
          "metadata": {
            "tags": []
          },
          "execution_count": 62
        }
      ]
    },
    {
      "cell_type": "code",
      "metadata": {
        "id": "ffS27FQHV685",
        "colab_type": "code",
        "colab": {
          "base_uri": "https://localhost:8080/",
          "height": 168
        },
        "outputId": "bb1f7e33-44ec-461e-fa3c-eb1af79cd9e7"
      },
      "source": [
        "x= np.stack([a,b])\n",
        "y= np.stack([b,c])\n",
        "z= np.stack([c,a])\n",
        "print(x,'\\n')\n",
        "print(y,'\\n')\n",
        "print(z,'\\n')"
      ],
      "execution_count": 63,
      "outputs": [
        {
          "output_type": "stream",
          "text": [
            "[[1. 1. 1.]\n",
            " [2. 2. 2.]] \n",
            "\n",
            "[[2. 2. 2.]\n",
            " [3. 3. 3.]] \n",
            "\n",
            "[[3. 3. 3.]\n",
            " [1. 1. 1.]] \n",
            "\n"
          ],
          "name": "stdout"
        }
      ]
    },
    {
      "cell_type": "code",
      "metadata": {
        "id": "zV16I5L4XAgL",
        "colab_type": "code",
        "colab": {
          "base_uri": "https://localhost:8080/",
          "height": 101
        },
        "outputId": "40707c77-6eb9-43ad-bd1d-d16505845a4c"
      },
      "source": [
        "np.stack([x,y])"
      ],
      "execution_count": 64,
      "outputs": [
        {
          "output_type": "execute_result",
          "data": {
            "text/plain": [
              "array([[[1., 1., 1.],\n",
              "        [2., 2., 2.]],\n",
              "\n",
              "       [[2., 2., 2.],\n",
              "        [3., 3., 3.]]])"
            ]
          },
          "metadata": {
            "tags": []
          },
          "execution_count": 64
        }
      ]
    },
    {
      "cell_type": "code",
      "metadata": {
        "id": "ZgtR5icyXNqk",
        "colab_type": "code",
        "colab": {
          "base_uri": "https://localhost:8080/",
          "height": 151
        },
        "outputId": "3295ab13-4725-475d-b01b-41d8af2ba499"
      },
      "source": [
        "np.stack([x,y,z])"
      ],
      "execution_count": 65,
      "outputs": [
        {
          "output_type": "execute_result",
          "data": {
            "text/plain": [
              "array([[[1., 1., 1.],\n",
              "        [2., 2., 2.]],\n",
              "\n",
              "       [[2., 2., 2.],\n",
              "        [3., 3., 3.]],\n",
              "\n",
              "       [[3., 3., 3.],\n",
              "        [1., 1., 1.]]])"
            ]
          },
          "metadata": {
            "tags": []
          },
          "execution_count": 65
        }
      ]
    },
    {
      "cell_type": "code",
      "metadata": {
        "id": "qkHAJbe8Xnwa",
        "colab_type": "code",
        "colab": {
          "base_uri": "https://localhost:8080/",
          "height": 134
        },
        "outputId": "2d1d3f5a-8570-4d78-8742-af127e3d0d63"
      },
      "source": [
        "np.stack([x,y,z], axis=1)"
      ],
      "execution_count": 66,
      "outputs": [
        {
          "output_type": "execute_result",
          "data": {
            "text/plain": [
              "array([[[1., 1., 1.],\n",
              "        [2., 2., 2.],\n",
              "        [3., 3., 3.]],\n",
              "\n",
              "       [[2., 2., 2.],\n",
              "        [3., 3., 3.],\n",
              "        [1., 1., 1.]]])"
            ]
          },
          "metadata": {
            "tags": []
          },
          "execution_count": 66
        }
      ]
    },
    {
      "cell_type": "code",
      "metadata": {
        "id": "iIMITbmfX7pP",
        "colab_type": "code",
        "colab": {
          "base_uri": "https://localhost:8080/",
          "height": 34
        },
        "outputId": "085fe5b2-c849-48a5-cf07-439fd7bf09ae"
      },
      "source": [
        "np.stack([x,y,z], axis=1).ndim"
      ],
      "execution_count": 67,
      "outputs": [
        {
          "output_type": "execute_result",
          "data": {
            "text/plain": [
              "3"
            ]
          },
          "metadata": {
            "tags": []
          },
          "execution_count": 67
        }
      ]
    },
    {
      "cell_type": "code",
      "metadata": {
        "id": "45-G8yPvYEFa",
        "colab_type": "code",
        "colab": {
          "base_uri": "https://localhost:8080/",
          "height": 34
        },
        "outputId": "564a3d30-2f67-4742-8879-d8fc5183b69f"
      },
      "source": [
        "np.stack([x,y,z], axis=1).shape"
      ],
      "execution_count": 68,
      "outputs": [
        {
          "output_type": "execute_result",
          "data": {
            "text/plain": [
              "(2, 3, 3)"
            ]
          },
          "metadata": {
            "tags": []
          },
          "execution_count": 68
        }
      ]
    },
    {
      "cell_type": "markdown",
      "metadata": {
        "id": "GQlqgzBAYcmq",
        "colab_type": "text"
      },
      "source": [
        "##Dataframe"
      ]
    },
    {
      "cell_type": "code",
      "metadata": {
        "id": "dvkoVHHnYFPr",
        "colab_type": "code",
        "colab": {
          "base_uri": "https://localhost:8080/",
          "height": 258
        },
        "outputId": "87acf8aa-b92d-4241-e8e3-363cc1641927"
      },
      "source": [
        "import dask\n",
        "df= dask.datasets.timeseries()\n",
        "df"
      ],
      "execution_count": 70,
      "outputs": [
        {
          "output_type": "execute_result",
          "data": {
            "text/html": [
              "<div><strong>Dask DataFrame Structure:</strong></div>\n",
              "<div>\n",
              "<style scoped>\n",
              "    .dataframe tbody tr th:only-of-type {\n",
              "        vertical-align: middle;\n",
              "    }\n",
              "\n",
              "    .dataframe tbody tr th {\n",
              "        vertical-align: top;\n",
              "    }\n",
              "\n",
              "    .dataframe thead th {\n",
              "        text-align: right;\n",
              "    }\n",
              "</style>\n",
              "<table border=\"1\" class=\"dataframe\">\n",
              "  <thead>\n",
              "    <tr style=\"text-align: right;\">\n",
              "      <th></th>\n",
              "      <th>id</th>\n",
              "      <th>name</th>\n",
              "      <th>x</th>\n",
              "      <th>y</th>\n",
              "    </tr>\n",
              "    <tr>\n",
              "      <th>npartitions=30</th>\n",
              "      <th></th>\n",
              "      <th></th>\n",
              "      <th></th>\n",
              "      <th></th>\n",
              "    </tr>\n",
              "  </thead>\n",
              "  <tbody>\n",
              "    <tr>\n",
              "      <th>2000-01-01</th>\n",
              "      <td>int64</td>\n",
              "      <td>object</td>\n",
              "      <td>float64</td>\n",
              "      <td>float64</td>\n",
              "    </tr>\n",
              "    <tr>\n",
              "      <th>2000-01-02</th>\n",
              "      <td>...</td>\n",
              "      <td>...</td>\n",
              "      <td>...</td>\n",
              "      <td>...</td>\n",
              "    </tr>\n",
              "    <tr>\n",
              "      <th>...</th>\n",
              "      <td>...</td>\n",
              "      <td>...</td>\n",
              "      <td>...</td>\n",
              "      <td>...</td>\n",
              "    </tr>\n",
              "    <tr>\n",
              "      <th>2000-01-30</th>\n",
              "      <td>...</td>\n",
              "      <td>...</td>\n",
              "      <td>...</td>\n",
              "      <td>...</td>\n",
              "    </tr>\n",
              "    <tr>\n",
              "      <th>2000-01-31</th>\n",
              "      <td>...</td>\n",
              "      <td>...</td>\n",
              "      <td>...</td>\n",
              "      <td>...</td>\n",
              "    </tr>\n",
              "  </tbody>\n",
              "</table>\n",
              "</div>\n",
              "<div>Dask Name: make-timeseries, 30 tasks</div>"
            ],
            "text/plain": [
              "Dask DataFrame Structure:\n",
              "                   id    name        x        y\n",
              "npartitions=30                                 \n",
              "2000-01-01      int64  object  float64  float64\n",
              "2000-01-02        ...     ...      ...      ...\n",
              "...               ...     ...      ...      ...\n",
              "2000-01-30        ...     ...      ...      ...\n",
              "2000-01-31        ...     ...      ...      ...\n",
              "Dask Name: make-timeseries, 30 tasks"
            ]
          },
          "metadata": {
            "tags": []
          },
          "execution_count": 70
        }
      ]
    },
    {
      "cell_type": "code",
      "metadata": {
        "id": "jJZjgkGkZrVc",
        "colab_type": "code",
        "colab": {}
      },
      "source": [
        "import os\n",
        "import datetime\n",
        "if not os.path.exists('data'):\n",
        "  os.mkdir('data')\n",
        "\n",
        "def name(i):\n",
        "    \"\"\" fecha para archivo dado indice i\"\"\"\n",
        "    return str(datetime.date(2001,1,1) + i*datetime.timedelta(days=1))\n",
        "  "
      ],
      "execution_count": 0,
      "outputs": []
    },
    {
      "cell_type": "code",
      "metadata": {
        "id": "fZ2xkWo1bJT0",
        "colab_type": "code",
        "colab": {
          "base_uri": "https://localhost:8080/",
          "height": 521
        },
        "outputId": "78f8b7a5-bef5-40cc-ecc9-7f9b4e525ee6"
      },
      "source": [
        "df.to_csv('data/*.csv', name_function=name)"
      ],
      "execution_count": 92,
      "outputs": [
        {
          "output_type": "execute_result",
          "data": {
            "text/plain": [
              "['data/2001-01-01.csv',\n",
              " 'data/2001-01-02.csv',\n",
              " 'data/2001-01-03.csv',\n",
              " 'data/2001-01-04.csv',\n",
              " 'data/2001-01-05.csv',\n",
              " 'data/2001-01-06.csv',\n",
              " 'data/2001-01-07.csv',\n",
              " 'data/2001-01-08.csv',\n",
              " 'data/2001-01-09.csv',\n",
              " 'data/2001-01-10.csv',\n",
              " 'data/2001-01-11.csv',\n",
              " 'data/2001-01-12.csv',\n",
              " 'data/2001-01-13.csv',\n",
              " 'data/2001-01-14.csv',\n",
              " 'data/2001-01-15.csv',\n",
              " 'data/2001-01-16.csv',\n",
              " 'data/2001-01-17.csv',\n",
              " 'data/2001-01-18.csv',\n",
              " 'data/2001-01-19.csv',\n",
              " 'data/2001-01-20.csv',\n",
              " 'data/2001-01-21.csv',\n",
              " 'data/2001-01-22.csv',\n",
              " 'data/2001-01-23.csv',\n",
              " 'data/2001-01-24.csv',\n",
              " 'data/2001-01-25.csv',\n",
              " 'data/2001-01-26.csv',\n",
              " 'data/2001-01-27.csv',\n",
              " 'data/2001-01-28.csv',\n",
              " 'data/2001-01-29.csv',\n",
              " 'data/2001-01-30.csv']"
            ]
          },
          "metadata": {
            "tags": []
          },
          "execution_count": 92
        }
      ]
    },
    {
      "cell_type": "code",
      "metadata": {
        "id": "Px7bRL0sbQrU",
        "colab_type": "code",
        "colab": {
          "base_uri": "https://localhost:8080/",
          "height": 185
        },
        "outputId": "1ac7e048-ea17-4009-bf11-f16deb5482bf"
      },
      "source": [
        "%ls data/*.csv"
      ],
      "execution_count": 93,
      "outputs": [
        {
          "output_type": "stream",
          "text": [
            "data/2001-01-01.csv  data/2001-01-11.csv  data/2001-01-21.csv\n",
            "data/2001-01-02.csv  data/2001-01-12.csv  data/2001-01-22.csv\n",
            "data/2001-01-03.csv  data/2001-01-13.csv  data/2001-01-23.csv\n",
            "data/2001-01-04.csv  data/2001-01-14.csv  data/2001-01-24.csv\n",
            "data/2001-01-05.csv  data/2001-01-15.csv  data/2001-01-25.csv\n",
            "data/2001-01-06.csv  data/2001-01-16.csv  data/2001-01-26.csv\n",
            "data/2001-01-07.csv  data/2001-01-17.csv  data/2001-01-27.csv\n",
            "data/2001-01-08.csv  data/2001-01-18.csv  data/2001-01-28.csv\n",
            "data/2001-01-09.csv  data/2001-01-19.csv  data/2001-01-29.csv\n",
            "data/2001-01-10.csv  data/2001-01-20.csv  data/2001-01-30.csv\n"
          ],
          "name": "stdout"
        }
      ]
    },
    {
      "cell_type": "code",
      "metadata": {
        "id": "CRq2OmK-cOIi",
        "colab_type": "code",
        "colab": {}
      },
      "source": [
        "!cat data/2001-01-01.csv | wc"
      ],
      "execution_count": 0,
      "outputs": []
    },
    {
      "cell_type": "code",
      "metadata": {
        "id": "2XOOQgHscYmM",
        "colab_type": "code",
        "colab": {}
      },
      "source": [
        "import dask.dataframe as dd"
      ],
      "execution_count": 0,
      "outputs": []
    },
    {
      "cell_type": "code",
      "metadata": {
        "id": "hlJda8nXcoJR",
        "colab_type": "code",
        "colab": {}
      },
      "source": [
        "transacciones =dd.read_csv('data/*.csv')"
      ],
      "execution_count": 0,
      "outputs": []
    },
    {
      "cell_type": "code",
      "metadata": {
        "id": "PPrZXHTPcxue",
        "colab_type": "code",
        "colab": {
          "base_uri": "https://localhost:8080/",
          "height": 168
        },
        "outputId": "d0ad8f4c-cbd0-43fb-b7ad-d94bf36ff9cd"
      },
      "source": [
        "transacciones.head"
      ],
      "execution_count": 114,
      "outputs": [
        {
          "output_type": "execute_result",
          "data": {
            "text/plain": [
              "<bound method _Frame.head of Dask DataFrame Structure:\n",
              "               timestamp     id    name        x        y\n",
              "npartitions=30                                           \n",
              "                  object  int64  object  float64  float64\n",
              "                     ...    ...     ...      ...      ...\n",
              "...                  ...    ...     ...      ...      ...\n",
              "                     ...    ...     ...      ...      ...\n",
              "                     ...    ...     ...      ...      ...\n",
              "Dask Name: from-delayed, 90 tasks>"
            ]
          },
          "metadata": {
            "tags": []
          },
          "execution_count": 114
        }
      ]
    },
    {
      "cell_type": "code",
      "metadata": {
        "id": "mhCpGUiqdFNA",
        "colab_type": "code",
        "colab": {
          "base_uri": "https://localhost:8080/",
          "height": 168
        },
        "outputId": "ad5a7bfa-b0ff-45d2-841b-e1a87dd53157"
      },
      "source": [
        "transacciones.info"
      ],
      "execution_count": 99,
      "outputs": [
        {
          "output_type": "execute_result",
          "data": {
            "text/plain": [
              "<bound method DataFrame.info of Dask DataFrame Structure:\n",
              "               timestamp     id    name        x        y\n",
              "npartitions=30                                           \n",
              "                  object  int64  object  float64  float64\n",
              "                     ...    ...     ...      ...      ...\n",
              "...                  ...    ...     ...      ...      ...\n",
              "                     ...    ...     ...      ...      ...\n",
              "                     ...    ...     ...      ...      ...\n",
              "Dask Name: from-delayed, 90 tasks>"
            ]
          },
          "metadata": {
            "tags": []
          },
          "execution_count": 99
        }
      ]
    },
    {
      "cell_type": "code",
      "metadata": {
        "id": "QGaeP3XodT2z",
        "colab_type": "code",
        "colab": {}
      },
      "source": [
        "es_wendy =(transacciones['name']==\"Wendy\")"
      ],
      "execution_count": 0,
      "outputs": []
    },
    {
      "cell_type": "code",
      "metadata": {
        "id": "RtK50qiMddGj",
        "colab_type": "code",
        "colab": {}
      },
      "source": [
        "es_wendy.compute()"
      ],
      "execution_count": 0,
      "outputs": []
    },
    {
      "cell_type": "code",
      "metadata": {
        "id": "lmyzJQ5sdef7",
        "colab_type": "code",
        "colab": {}
      },
      "source": [
        "montos_wendy = (transacciones.loc[es_wendy, 'x'])"
      ],
      "execution_count": 0,
      "outputs": []
    },
    {
      "cell_type": "code",
      "metadata": {
        "id": "fzOFwtRseNRh",
        "colab_type": "code",
        "colab": {}
      },
      "source": [
        "wendy_diff=montos_wendy.sum()"
      ],
      "execution_count": 0,
      "outputs": []
    },
    {
      "cell_type": "code",
      "metadata": {
        "id": "tj1o3ZLSeQ86",
        "colab_type": "code",
        "colab": {
          "base_uri": "https://localhost:8080/",
          "height": 34
        },
        "outputId": "d0259708-988d-4b45-d70f-d46aedd3894c"
      },
      "source": [
        "wendy_diff.compute()"
      ],
      "execution_count": 109,
      "outputs": [
        {
          "output_type": "execute_result",
          "data": {
            "text/plain": [
              "-2.5877683945808982"
            ]
          },
          "metadata": {
            "tags": []
          },
          "execution_count": 109
        }
      ]
    },
    {
      "cell_type": "code",
      "metadata": {
        "id": "UAUupDjCeY6f",
        "colab_type": "code",
        "colab": {}
      },
      "source": [
        "wendy_diff.visualize()"
      ],
      "execution_count": 0,
      "outputs": []
    },
    {
      "cell_type": "code",
      "metadata": {
        "id": "KXSuKj_RfAzq",
        "colab_type": "code",
        "colab": {}
      },
      "source": [
        "import os\n",
        "plantilla = 'yellow_tripdata_2018-{:02d}.csv'\n",
        "plantillaURL = 'wget https://s3.amazonaws.com/nyc-tlc/trip+data/'+plantilla\n",
        "urls = (plantillaURL.format(k) for k in range(1,13))\n",
        "for url in urls:\n",
        "  os.system(url)"
      ],
      "execution_count": 0,
      "outputs": []
    },
    {
      "cell_type": "code",
      "metadata": {
        "id": "UTJUKkiugrGd",
        "colab_type": "code",
        "colab": {
          "base_uri": "https://localhost:8080/",
          "height": 218
        },
        "outputId": "d1c48c88-602f-4581-c72b-d0bec1e71716"
      },
      "source": [
        "%ll -h yellow_trip*csv"
      ],
      "execution_count": 119,
      "outputs": [
        {
          "output_type": "stream",
          "text": [
            "-rw-r--r-- 1 root 737M Aug  3  2018 yellow_tripdata_2018-01.csv\n",
            "-rw-r--r-- 1 root 715M Aug  3  2018 yellow_tripdata_2018-02.csv\n",
            "-rw-r--r-- 1 root 794M Aug  3  2018 yellow_tripdata_2018-03.csv\n",
            "-rw-r--r-- 1 root 784M Aug  3  2018 yellow_tripdata_2018-04.csv\n",
            "-rw-r--r-- 1 root 777M Aug  3  2018 yellow_tripdata_2018-05.csv\n",
            "-rw-r--r-- 1 root 734M Aug  3  2018 yellow_tripdata_2018-06.csv\n",
            "-rw-r--r-- 1 root 661M Feb  5 15:07 yellow_tripdata_2018-07.csv\n",
            "-rw-r--r-- 1 root 661M Feb  5 15:09 yellow_tripdata_2018-08.csv\n",
            "-rw-r--r-- 1 root 678M Feb  5 15:12 yellow_tripdata_2018-09.csv\n",
            "-rw-r--r-- 1 root 744M Feb  5 15:14 yellow_tripdata_2018-10.csv\n",
            "-rw-r--r-- 1 root 687M Feb  5 15:16 yellow_tripdata_2018-11.csv\n",
            "-rw-r--r-- 1 root 689M Feb  5 15:19 yellow_tripdata_2018-12.csv\n"
          ],
          "name": "stdout"
        }
      ]
    },
    {
      "cell_type": "code",
      "metadata": {
        "id": "OAWg798pgvtG",
        "colab_type": "code",
        "colab": {}
      },
      "source": [
        "import time, pandas as pd"
      ],
      "execution_count": 0,
      "outputs": []
    },
    {
      "cell_type": "markdown",
      "metadata": {
        "id": "0VjgIroTitmS",
        "colab_type": "text"
      },
      "source": [
        "tiempo que le toma a pdnas leer un csv"
      ]
    },
    {
      "cell_type": "code",
      "metadata": {
        "id": "g7vQKwbGiSe6",
        "colab_type": "code",
        "colab": {
          "base_uri": "https://localhost:8080/",
          "height": 34
        },
        "outputId": "5902aed7-65e0-41a4-b8eb-17394c72a143"
      },
      "source": [
        "t_inicio = time.time()\n",
        "df = pd.read_csv('yellow_tripdata_2018-01.csv')\n",
        "t_fin= time.time()\n",
        "print('pd.read_csv(): {} s'.format(t_fin -t_inicio))"
      ],
      "execution_count": 121,
      "outputs": [
        {
          "output_type": "stream",
          "text": [
            "pd.read_csv(): 31.520524978637695 s\n"
          ],
          "name": "stdout"
        }
      ]
    },
    {
      "cell_type": "markdown",
      "metadata": {
        "id": "eDBX6_OhiwR0",
        "colab_type": "text"
      },
      "source": [
        "tiempo que tarda en evaluar pandas el promedio de una columna"
      ]
    },
    {
      "cell_type": "code",
      "metadata": {
        "id": "CCcJqS2Qi6hb",
        "colab_type": "code",
        "colab": {
          "base_uri": "https://localhost:8080/",
          "height": 34
        },
        "outputId": "3a338615-8620-4133-ecf8-8828e4a040cb"
      },
      "source": [
        "t_inicio = time.time()\n",
        "m = df['trip_distance'].mean()\n",
        "t_fin= time.time()\n",
        "print('.mean(): {} ms'.format((t_fin -t_inicio)*1000))"
      ],
      "execution_count": 122,
      "outputs": [
        {
          "output_type": "stream",
          "text": [
            ".mean(): 25.29621124267578 ms\n"
          ],
          "name": "stdout"
        }
      ]
    },
    {
      "cell_type": "markdown",
      "metadata": {
        "id": "kSO_7iPRjMb8",
        "colab_type": "text"
      },
      "source": [
        "medir el tiempo de leer el mismo archivo usando dask"
      ]
    },
    {
      "cell_type": "code",
      "metadata": {
        "id": "4yA_p4WWjRGl",
        "colab_type": "code",
        "colab": {
          "base_uri": "https://localhost:8080/",
          "height": 34
        },
        "outputId": "d262430a-2832-4481-81d0-eee658b72bc7"
      },
      "source": [
        "t_inicio = time.time()\n",
        "df = dd.read_csv('yellow_tripdata_2018-*.csv')\n",
        "t_fin= time.time()\n",
        "print('dd.read_csv(): {} ms'.format((t_fin -t_inicio)*1000))"
      ],
      "execution_count": 123,
      "outputs": [
        {
          "output_type": "stream",
          "text": [
            "dd.read_csv(): 508.10742378234863 ms\n"
          ],
          "name": "stdout"
        }
      ]
    },
    {
      "cell_type": "markdown",
      "metadata": {
        "id": "oXdt_-R1jslL",
        "colab_type": "text"
      },
      "source": [
        "medir el tiempo que le toma a dask calcula el promedio"
      ]
    },
    {
      "cell_type": "code",
      "metadata": {
        "id": "f1jGwalsj0mv",
        "colab_type": "code",
        "colab": {
          "base_uri": "https://localhost:8080/",
          "height": 34
        },
        "outputId": "467df23a-0ef9-462e-f54f-c03a28fe9fd2"
      },
      "source": [
        "t_inicio = time.time()\n",
        "m = df['trip_distance'].mean()\n",
        "t_fin= time.time()\n",
        "print('.mean(): {} ms'.format((t_fin -t_inicio)*1000))"
      ],
      "execution_count": 125,
      "outputs": [
        {
          "output_type": "stream",
          "text": [
            ".mean(): 3.630399703979492 ms\n"
          ],
          "name": "stdout"
        }
      ]
    },
    {
      "cell_type": "code",
      "metadata": {
        "id": "J5mVBGnok7Eb",
        "colab_type": "code",
        "colab": {
          "base_uri": "https://localhost:8080/",
          "height": 34
        },
        "outputId": "15018b76-9822-4b23-bb3c-85aae3093f27"
      },
      "source": [
        "t_inicio = time.time()\n",
        "resultado =m.compute()\n",
        "t_fin= time.time()\n",
        "print('.compute(): {} ms'.format((t_fin -t_inicio)*1000))"
      ],
      "execution_count": 126,
      "outputs": [
        {
          "output_type": "stream",
          "text": [
            ".compute(): 332337.0795249939 ms\n"
          ],
          "name": "stdout"
        }
      ]
    },
    {
      "cell_type": "code",
      "metadata": {
        "id": "ttd7t3-wlUnZ",
        "colab_type": "code",
        "colab": {}
      },
      "source": [
        ""
      ],
      "execution_count": 0,
      "outputs": []
    }
  ]
}