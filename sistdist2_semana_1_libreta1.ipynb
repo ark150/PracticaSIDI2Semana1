{
  "nbformat": 4,
  "nbformat_minor": 0,
  "metadata": {
    "colab": {
      "name": "sistdist2 semana 1 libreta1.ipynb",
      "version": "0.3.2",
      "provenance": [],
      "include_colab_link": true
    },
    "kernelspec": {
      "name": "python3",
      "display_name": "Python 3"
    }
  },
  "cells": [
    {
      "cell_type": "markdown",
      "metadata": {
        "id": "view-in-github",
        "colab_type": "text"
      },
      "source": [
        "<a href=\"https://colab.research.google.com/github/ark150/PracticaSIDI2Semana1/blob/master/sistdist2_semana_1_libreta1.ipynb\" target=\"_parent\"><img src=\"https://colab.research.google.com/assets/colab-badge.svg\" alt=\"Open In Colab\"/></a>"
      ]
    },
    {
      "cell_type": "markdown",
      "metadata": {
        "id": "4z66yBZBVcQe",
        "colab_type": "text"
      },
      "source": [
        "practica de como se guardala informacion en memoria"
      ]
    },
    {
      "cell_type": "code",
      "metadata": {
        "id": "gQKVnXXFVXWR",
        "colab_type": "code",
        "colab": {}
      },
      "source": [
        "import psutil, os\n"
      ],
      "execution_count": 0,
      "outputs": []
    },
    {
      "cell_type": "code",
      "metadata": {
        "id": "_N-T_HMvWcVX",
        "colab_type": "code",
        "colab": {}
      },
      "source": [
        "def huella_de_memoria():\n",
        "  '''regresa la memoria usada por un proceso en python'''\n",
        "  mem= psutil.Process(os.getpid()).memory_info().rss\n",
        "  return (mem / 1024**2)"
      ],
      "execution_count": 0,
      "outputs": []
    },
    {
      "cell_type": "code",
      "metadata": {
        "id": "I6bvvTNoW3b5",
        "colab_type": "code",
        "outputId": "d62de6db-d39e-4469-b0e2-04831bebedbd",
        "colab": {
          "base_uri": "https://localhost:8080/",
          "height": 34
        }
      },
      "source": [
        "huella_de_memoria()"
      ],
      "execution_count": 11,
      "outputs": [
        {
          "output_type": "execute_result",
          "data": {
            "text/plain": [
              "115"
            ]
          },
          "metadata": {
            "tags": []
          },
          "execution_count": 11
        }
      ]
    },
    {
      "cell_type": "code",
      "metadata": {
        "id": "H_47CeXRW-sy",
        "colab_type": "code",
        "colab": {}
      },
      "source": [
        "import numpy as np "
      ],
      "execution_count": 0,
      "outputs": []
    },
    {
      "cell_type": "code",
      "metadata": {
        "id": "buC6v556XKsH",
        "colab_type": "code",
        "colab": {}
      },
      "source": [
        "antes = huella_de_memoria()"
      ],
      "execution_count": 0,
      "outputs": []
    },
    {
      "cell_type": "markdown",
      "metadata": {
        "id": "0V9xtbh3XWZf",
        "colab_type": "text"
      },
      "source": [
        "el profe dijo que N abajo es el numero de valores de punto flotante que llena 1MB"
      ]
    },
    {
      "cell_type": "code",
      "metadata": {
        "id": "Y4EWE17iXOE5",
        "colab_type": "code",
        "colab": {}
      },
      "source": [
        "N=(1024**2)//8"
      ],
      "execution_count": 0,
      "outputs": []
    },
    {
      "cell_type": "code",
      "metadata": {
        "id": "fNS_5IFRXsXq",
        "colab_type": "code",
        "colab": {}
      },
      "source": [
        "x = np.random.rand(50*N)"
      ],
      "execution_count": 0,
      "outputs": []
    },
    {
      "cell_type": "code",
      "metadata": {
        "id": "fWNGnkCLX3pl",
        "colab_type": "code",
        "colab": {}
      },
      "source": [
        "despues = huella_de_memoria()"
      ],
      "execution_count": 0,
      "outputs": []
    },
    {
      "cell_type": "code",
      "metadata": {
        "id": "YLRU8P53YDNA",
        "colab_type": "code",
        "colab": {
          "base_uri": "https://localhost:8080/",
          "height": 34
        },
        "outputId": "aed51c63-7e51-407a-f85d-de03778e5042"
      },
      "source": [
        "print(antes)"
      ],
      "execution_count": 24,
      "outputs": [
        {
          "output_type": "stream",
          "text": [
            "115\n"
          ],
          "name": "stdout"
        }
      ]
    },
    {
      "cell_type": "code",
      "metadata": {
        "id": "3c31Yr8PYFoW",
        "colab_type": "code",
        "colab": {
          "base_uri": "https://localhost:8080/",
          "height": 34
        },
        "outputId": "54117744-0774-4f2d-c7c9-b815d95bfe68"
      },
      "source": [
        "print(despues)"
      ],
      "execution_count": 25,
      "outputs": [
        {
          "output_type": "stream",
          "text": [
            "9710\n"
          ],
          "name": "stdout"
        }
      ]
    },
    {
      "cell_type": "code",
      "metadata": {
        "id": "cpbObi9gajGW",
        "colab_type": "code",
        "colab": {}
      },
      "source": [
        "import pandas as pd\n"
      ],
      "execution_count": 0,
      "outputs": []
    },
    {
      "cell_type": "code",
      "metadata": {
        "id": "5HyjMjl-an94",
        "colab_type": "code",
        "colab": {
          "base_uri": "https://localhost:8080/",
          "height": 1882
        },
        "outputId": "c60aeb34-341e-42e3-ce94-f2220db37201"
      },
      "source": [
        "df = pd.DataFrame(x)\n",
        "df"
      ],
      "execution_count": 27,
      "outputs": [
        {
          "output_type": "execute_result",
          "data": {
            "text/html": [
              "<div>\n",
              "<style scoped>\n",
              "    .dataframe tbody tr th:only-of-type {\n",
              "        vertical-align: middle;\n",
              "    }\n",
              "\n",
              "    .dataframe tbody tr th {\n",
              "        vertical-align: top;\n",
              "    }\n",
              "\n",
              "    .dataframe thead th {\n",
              "        text-align: right;\n",
              "    }\n",
              "</style>\n",
              "<table border=\"1\" class=\"dataframe\">\n",
              "  <thead>\n",
              "    <tr style=\"text-align: right;\">\n",
              "      <th></th>\n",
              "      <th>0</th>\n",
              "    </tr>\n",
              "  </thead>\n",
              "  <tbody>\n",
              "    <tr>\n",
              "      <th>0</th>\n",
              "      <td>0.973580</td>\n",
              "    </tr>\n",
              "    <tr>\n",
              "      <th>1</th>\n",
              "      <td>0.177345</td>\n",
              "    </tr>\n",
              "    <tr>\n",
              "      <th>2</th>\n",
              "      <td>0.426417</td>\n",
              "    </tr>\n",
              "    <tr>\n",
              "      <th>3</th>\n",
              "      <td>0.358090</td>\n",
              "    </tr>\n",
              "    <tr>\n",
              "      <th>4</th>\n",
              "      <td>0.201263</td>\n",
              "    </tr>\n",
              "    <tr>\n",
              "      <th>5</th>\n",
              "      <td>0.886273</td>\n",
              "    </tr>\n",
              "    <tr>\n",
              "      <th>6</th>\n",
              "      <td>0.338781</td>\n",
              "    </tr>\n",
              "    <tr>\n",
              "      <th>7</th>\n",
              "      <td>0.201203</td>\n",
              "    </tr>\n",
              "    <tr>\n",
              "      <th>8</th>\n",
              "      <td>0.924915</td>\n",
              "    </tr>\n",
              "    <tr>\n",
              "      <th>9</th>\n",
              "      <td>0.810528</td>\n",
              "    </tr>\n",
              "    <tr>\n",
              "      <th>10</th>\n",
              "      <td>0.740258</td>\n",
              "    </tr>\n",
              "    <tr>\n",
              "      <th>11</th>\n",
              "      <td>0.372954</td>\n",
              "    </tr>\n",
              "    <tr>\n",
              "      <th>12</th>\n",
              "      <td>0.462337</td>\n",
              "    </tr>\n",
              "    <tr>\n",
              "      <th>13</th>\n",
              "      <td>0.395237</td>\n",
              "    </tr>\n",
              "    <tr>\n",
              "      <th>14</th>\n",
              "      <td>0.561212</td>\n",
              "    </tr>\n",
              "    <tr>\n",
              "      <th>15</th>\n",
              "      <td>0.744218</td>\n",
              "    </tr>\n",
              "    <tr>\n",
              "      <th>16</th>\n",
              "      <td>0.125406</td>\n",
              "    </tr>\n",
              "    <tr>\n",
              "      <th>17</th>\n",
              "      <td>0.770104</td>\n",
              "    </tr>\n",
              "    <tr>\n",
              "      <th>18</th>\n",
              "      <td>0.325724</td>\n",
              "    </tr>\n",
              "    <tr>\n",
              "      <th>19</th>\n",
              "      <td>0.150746</td>\n",
              "    </tr>\n",
              "    <tr>\n",
              "      <th>20</th>\n",
              "      <td>0.714598</td>\n",
              "    </tr>\n",
              "    <tr>\n",
              "      <th>21</th>\n",
              "      <td>0.530537</td>\n",
              "    </tr>\n",
              "    <tr>\n",
              "      <th>22</th>\n",
              "      <td>0.498847</td>\n",
              "    </tr>\n",
              "    <tr>\n",
              "      <th>23</th>\n",
              "      <td>0.802097</td>\n",
              "    </tr>\n",
              "    <tr>\n",
              "      <th>24</th>\n",
              "      <td>0.007488</td>\n",
              "    </tr>\n",
              "    <tr>\n",
              "      <th>25</th>\n",
              "      <td>0.749392</td>\n",
              "    </tr>\n",
              "    <tr>\n",
              "      <th>26</th>\n",
              "      <td>0.000827</td>\n",
              "    </tr>\n",
              "    <tr>\n",
              "      <th>27</th>\n",
              "      <td>0.905242</td>\n",
              "    </tr>\n",
              "    <tr>\n",
              "      <th>28</th>\n",
              "      <td>0.385187</td>\n",
              "    </tr>\n",
              "    <tr>\n",
              "      <th>29</th>\n",
              "      <td>0.299841</td>\n",
              "    </tr>\n",
              "    <tr>\n",
              "      <th>...</th>\n",
              "      <td>...</td>\n",
              "    </tr>\n",
              "    <tr>\n",
              "      <th>628003570</th>\n",
              "      <td>0.883628</td>\n",
              "    </tr>\n",
              "    <tr>\n",
              "      <th>628003571</th>\n",
              "      <td>0.948044</td>\n",
              "    </tr>\n",
              "    <tr>\n",
              "      <th>628003572</th>\n",
              "      <td>0.031306</td>\n",
              "    </tr>\n",
              "    <tr>\n",
              "      <th>628003573</th>\n",
              "      <td>0.744854</td>\n",
              "    </tr>\n",
              "    <tr>\n",
              "      <th>628003574</th>\n",
              "      <td>0.734698</td>\n",
              "    </tr>\n",
              "    <tr>\n",
              "      <th>628003575</th>\n",
              "      <td>0.878342</td>\n",
              "    </tr>\n",
              "    <tr>\n",
              "      <th>628003576</th>\n",
              "      <td>0.739058</td>\n",
              "    </tr>\n",
              "    <tr>\n",
              "      <th>628003577</th>\n",
              "      <td>0.272329</td>\n",
              "    </tr>\n",
              "    <tr>\n",
              "      <th>628003578</th>\n",
              "      <td>0.076356</td>\n",
              "    </tr>\n",
              "    <tr>\n",
              "      <th>628003579</th>\n",
              "      <td>0.336141</td>\n",
              "    </tr>\n",
              "    <tr>\n",
              "      <th>628003580</th>\n",
              "      <td>0.289480</td>\n",
              "    </tr>\n",
              "    <tr>\n",
              "      <th>628003581</th>\n",
              "      <td>0.205675</td>\n",
              "    </tr>\n",
              "    <tr>\n",
              "      <th>628003582</th>\n",
              "      <td>0.312906</td>\n",
              "    </tr>\n",
              "    <tr>\n",
              "      <th>628003583</th>\n",
              "      <td>0.113988</td>\n",
              "    </tr>\n",
              "    <tr>\n",
              "      <th>628003584</th>\n",
              "      <td>0.365388</td>\n",
              "    </tr>\n",
              "    <tr>\n",
              "      <th>628003585</th>\n",
              "      <td>0.014617</td>\n",
              "    </tr>\n",
              "    <tr>\n",
              "      <th>628003586</th>\n",
              "      <td>0.215847</td>\n",
              "    </tr>\n",
              "    <tr>\n",
              "      <th>628003587</th>\n",
              "      <td>0.916255</td>\n",
              "    </tr>\n",
              "    <tr>\n",
              "      <th>628003588</th>\n",
              "      <td>0.077626</td>\n",
              "    </tr>\n",
              "    <tr>\n",
              "      <th>628003589</th>\n",
              "      <td>0.092233</td>\n",
              "    </tr>\n",
              "    <tr>\n",
              "      <th>628003590</th>\n",
              "      <td>0.844181</td>\n",
              "    </tr>\n",
              "    <tr>\n",
              "      <th>628003591</th>\n",
              "      <td>0.060477</td>\n",
              "    </tr>\n",
              "    <tr>\n",
              "      <th>628003592</th>\n",
              "      <td>0.316752</td>\n",
              "    </tr>\n",
              "    <tr>\n",
              "      <th>628003593</th>\n",
              "      <td>0.162693</td>\n",
              "    </tr>\n",
              "    <tr>\n",
              "      <th>628003594</th>\n",
              "      <td>0.551012</td>\n",
              "    </tr>\n",
              "    <tr>\n",
              "      <th>628003595</th>\n",
              "      <td>0.925939</td>\n",
              "    </tr>\n",
              "    <tr>\n",
              "      <th>628003596</th>\n",
              "      <td>0.836523</td>\n",
              "    </tr>\n",
              "    <tr>\n",
              "      <th>628003597</th>\n",
              "      <td>0.656712</td>\n",
              "    </tr>\n",
              "    <tr>\n",
              "      <th>628003598</th>\n",
              "      <td>0.074539</td>\n",
              "    </tr>\n",
              "    <tr>\n",
              "      <th>628003599</th>\n",
              "      <td>0.122190</td>\n",
              "    </tr>\n",
              "  </tbody>\n",
              "</table>\n",
              "<p>628003600 rows × 1 columns</p>\n",
              "</div>"
            ],
            "text/plain": [
              "                  0\n",
              "0          0.973580\n",
              "1          0.177345\n",
              "2          0.426417\n",
              "3          0.358090\n",
              "4          0.201263\n",
              "5          0.886273\n",
              "6          0.338781\n",
              "7          0.201203\n",
              "8          0.924915\n",
              "9          0.810528\n",
              "10         0.740258\n",
              "11         0.372954\n",
              "12         0.462337\n",
              "13         0.395237\n",
              "14         0.561212\n",
              "15         0.744218\n",
              "16         0.125406\n",
              "17         0.770104\n",
              "18         0.325724\n",
              "19         0.150746\n",
              "20         0.714598\n",
              "21         0.530537\n",
              "22         0.498847\n",
              "23         0.802097\n",
              "24         0.007488\n",
              "25         0.749392\n",
              "26         0.000827\n",
              "27         0.905242\n",
              "28         0.385187\n",
              "29         0.299841\n",
              "...             ...\n",
              "628003570  0.883628\n",
              "628003571  0.948044\n",
              "628003572  0.031306\n",
              "628003573  0.744854\n",
              "628003574  0.734698\n",
              "628003575  0.878342\n",
              "628003576  0.739058\n",
              "628003577  0.272329\n",
              "628003578  0.076356\n",
              "628003579  0.336141\n",
              "628003580  0.289480\n",
              "628003581  0.205675\n",
              "628003582  0.312906\n",
              "628003583  0.113988\n",
              "628003584  0.365388\n",
              "628003585  0.014617\n",
              "628003586  0.215847\n",
              "628003587  0.916255\n",
              "628003588  0.077626\n",
              "628003589  0.092233\n",
              "628003590  0.844181\n",
              "628003591  0.060477\n",
              "628003592  0.316752\n",
              "628003593  0.162693\n",
              "628003594  0.551012\n",
              "628003595  0.925939\n",
              "628003596  0.836523\n",
              "628003597  0.656712\n",
              "628003598  0.074539\n",
              "628003599  0.122190\n",
              "\n",
              "[628003600 rows x 1 columns]"
            ]
          },
          "metadata": {
            "tags": []
          },
          "execution_count": 27
        }
      ]
    },
    {
      "cell_type": "markdown",
      "metadata": {
        "id": "3cjAC5BNbebM",
        "colab_type": "text"
      },
      "source": [
        "ejercicio reportar el uso de memoria de la siguiente estructura:\n",
        "\n",
        "1.- memoria del arreglo 'celsius'\n",
        "2. -memoria total en mb del proceso _antes_de realizar la operacion en 3\n",
        "3.- convertir celsius a fahrenheit usando 9/5 *celsius +32\n",
        "4.- indicar la diferencia de memoria despues de la operacion\n",
        "5.- obtener la memoria del arreglo fahrenheit (sin usar el metodo)\n",
        "6.-  cual es la memoria del arreglo"
      ]
    },
    {
      "cell_type": "code",
      "metadata": {
        "id": "N58XUUZYcPyW",
        "colab_type": "code",
        "colab": {
          "base_uri": "https://localhost:8080/",
          "height": 34
        },
        "outputId": "0972fd07-1d89-412d-a921-431a267ce5b7"
      },
      "source": [
        "celsius = np.arange(-4., 0., 4/366000)\n",
        "celsius\n",
        "celsius.nbytes/(1024**2)"
      ],
      "execution_count": 49,
      "outputs": [
        {
          "output_type": "execute_result",
          "data": {
            "text/plain": [
              "2.7923583984375"
            ]
          },
          "metadata": {
            "tags": []
          },
          "execution_count": 49
        }
      ]
    },
    {
      "cell_type": "code",
      "metadata": {
        "id": "hLNQ92zGcwDY",
        "colab_type": "code",
        "colab": {
          "base_uri": "https://localhost:8080/",
          "height": 34
        },
        "outputId": "e3793629-f87f-450c-d79a-ab814e68ea71"
      },
      "source": [
        "antes=huella_de_memoria()\n",
        "farenheint = 32+celsius*9/5\n",
        "despues =huella_de_memoria()\n",
        "print(despues-antes)"
      ],
      "execution_count": 50,
      "outputs": [
        {
          "output_type": "stream",
          "text": [
            "0.0\n"
          ],
          "name": "stdout"
        }
      ]
    },
    {
      "cell_type": "code",
      "metadata": {
        "id": "dTCSoz2vfm5V",
        "colab_type": "code",
        "colab": {
          "base_uri": "https://localhost:8080/",
          "height": 34
        },
        "outputId": "b2b58b4c-42b0-43af-ca13-87ff949d03b9"
      },
      "source": [
        "farenheint.nbytes/(1024**2)"
      ],
      "execution_count": 51,
      "outputs": [
        {
          "output_type": "execute_result",
          "data": {
            "text/plain": [
              "2.7923583984375"
            ]
          },
          "metadata": {
            "tags": []
          },
          "execution_count": 51
        }
      ]
    }
  ]
}