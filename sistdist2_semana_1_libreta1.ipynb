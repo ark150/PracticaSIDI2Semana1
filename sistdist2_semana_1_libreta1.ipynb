{
  "nbformat": 4,
  "nbformat_minor": 0,
  "metadata": {
    "colab": {
      "name": "sistdist2 semana 1 libreta1.ipynb",
      "version": "0.3.2",
      "provenance": [],
      "include_colab_link": true
    },
    "kernelspec": {
      "name": "python3",
      "display_name": "Python 3"
    }
  },
  "cells": [
    {
      "cell_type": "markdown",
      "metadata": {
        "id": "view-in-github",
        "colab_type": "text"
      },
      "source": [
        "<a href=\"https://colab.research.google.com/github/ark150/PracticaSIDI2Semana1/blob/master/sistdist2_semana_1_libreta1.ipynb\" target=\"_parent\"><img src=\"https://colab.research.google.com/assets/colab-badge.svg\" alt=\"Open In Colab\"/></a>"
      ]
    },
    {
      "cell_type": "markdown",
      "metadata": {
        "id": "4z66yBZBVcQe",
        "colab_type": "text"
      },
      "source": [
        "practica de como se guardala informacion en memoria"
      ]
    },
    {
      "cell_type": "code",
      "metadata": {
        "id": "gQKVnXXFVXWR",
        "colab_type": "code",
        "colab": {}
      },
      "source": [
        "import psutil, os\n"
      ],
      "execution_count": 0,
      "outputs": []
    },
    {
      "cell_type": "code",
      "metadata": {
        "id": "_N-T_HMvWcVX",
        "colab_type": "code",
        "colab": {}
      },
      "source": [
        "def huella_de_memoria():\n",
        "  '''regresa la memoria usada por un proceso en python'''\n",
        "  mem= psutil.Process(os.getpid()).memory_info().rss\n",
        "  return (mem // 1024**2)"
      ],
      "execution_count": 0,
      "outputs": []
    },
    {
      "cell_type": "code",
      "metadata": {
        "id": "I6bvvTNoW3b5",
        "colab_type": "code",
        "outputId": "8e099101-c9c8-4e5a-e89b-426ce127bf3e",
        "colab": {
          "base_uri": "https://localhost:8080/",
          "height": 34
        }
      },
      "source": [
        "huella_de_memoria()"
      ],
      "execution_count": 6,
      "outputs": [
        {
          "output_type": "execute_result",
          "data": {
            "text/plain": [
              "113"
            ]
          },
          "metadata": {
            "tags": []
          },
          "execution_count": 6
        }
      ]
    },
    {
      "cell_type": "code",
      "metadata": {
        "id": "H_47CeXRW-sy",
        "colab_type": "code",
        "colab": {}
      },
      "source": [
        "import numpy as np "
      ],
      "execution_count": 0,
      "outputs": []
    },
    {
      "cell_type": "code",
      "metadata": {
        "id": "buC6v556XKsH",
        "colab_type": "code",
        "colab": {}
      },
      "source": [
        "antes = huella_de_memoria()"
      ],
      "execution_count": 0,
      "outputs": []
    },
    {
      "cell_type": "markdown",
      "metadata": {
        "id": "0V9xtbh3XWZf",
        "colab_type": "text"
      },
      "source": [
        "el profe dijo que N abajo es el numero de valores de punto flotante que llena 1MB"
      ]
    },
    {
      "cell_type": "code",
      "metadata": {
        "id": "Y4EWE17iXOE5",
        "colab_type": "code",
        "colab": {}
      },
      "source": [
        "N=(1024**2)//8"
      ],
      "execution_count": 0,
      "outputs": []
    },
    {
      "cell_type": "code",
      "metadata": {
        "id": "fNS_5IFRXsXq",
        "colab_type": "code",
        "colab": {}
      },
      "source": [
        "x = np.random.rand(50*N)"
      ],
      "execution_count": 0,
      "outputs": []
    },
    {
      "cell_type": "code",
      "metadata": {
        "id": "fWNGnkCLX3pl",
        "colab_type": "code",
        "colab": {}
      },
      "source": [
        "despues = huella_de_memoria()"
      ],
      "execution_count": 0,
      "outputs": []
    },
    {
      "cell_type": "code",
      "metadata": {
        "id": "YLRU8P53YDNA",
        "colab_type": "code",
        "outputId": "d7b9558d-3d61-4699-958b-b2005a0bc066",
        "colab": {
          "base_uri": "https://localhost:8080/",
          "height": 34
        }
      },
      "source": [
        "print(antes)"
      ],
      "execution_count": 12,
      "outputs": [
        {
          "output_type": "stream",
          "text": [
            "113\n"
          ],
          "name": "stdout"
        }
      ]
    },
    {
      "cell_type": "code",
      "metadata": {
        "id": "3c31Yr8PYFoW",
        "colab_type": "code",
        "outputId": "ba3201f0-0f3d-4431-dfbe-eeb8f0655a00",
        "colab": {
          "base_uri": "https://localhost:8080/",
          "height": 67
        }
      },
      "source": [
        "print(antes)\n",
        "print(despues)\n",
        "print(despues - antes)"
      ],
      "execution_count": 14,
      "outputs": [
        {
          "output_type": "stream",
          "text": [
            "113\n",
            "164\n",
            "51\n"
          ],
          "name": "stdout"
        }
      ]
    },
    {
      "cell_type": "code",
      "metadata": {
        "id": "K0E9pHDyMg0V",
        "colab_type": "code",
        "colab": {}
      },
      "source": [
        "antes = huella_de_memoria()\n",
        "\n"
      ],
      "execution_count": 0,
      "outputs": []
    },
    {
      "cell_type": "code",
      "metadata": {
        "id": "Ndk67bJLNdSe",
        "colab_type": "code",
        "colab": {
          "base_uri": "https://localhost:8080/",
          "height": 34
        },
        "outputId": "832b540d-c8db-42c7-bf21-163afc99c4f7"
      },
      "source": [
        "x**2\n",
        "despues = huella_de_memoria()\n",
        "print(despues - antes)"
      ],
      "execution_count": 17,
      "outputs": [
        {
          "output_type": "stream",
          "text": [
            "51\n"
          ],
          "name": "stdout"
        }
      ]
    },
    {
      "cell_type": "code",
      "metadata": {
        "id": "TesXCmuuNtuZ",
        "colab_type": "code",
        "colab": {
          "base_uri": "https://localhost:8080/",
          "height": 34
        },
        "outputId": "aa57dd31-970d-405a-a3bf-ef5389bc0d32"
      },
      "source": [
        "x.nbytes//1024**2"
      ],
      "execution_count": 19,
      "outputs": [
        {
          "output_type": "execute_result",
          "data": {
            "text/plain": [
              "50.0"
            ]
          },
          "metadata": {
            "tags": []
          },
          "execution_count": 19
        }
      ]
    },
    {
      "cell_type": "markdown",
      "metadata": {
        "id": "BixQ_wQDN-_h",
        "colab_type": "text"
      },
      "source": [
        "pandas"
      ]
    },
    {
      "cell_type": "code",
      "metadata": {
        "id": "cpbObi9gajGW",
        "colab_type": "code",
        "colab": {}
      },
      "source": [
        "import pandas as pd\n"
      ],
      "execution_count": 0,
      "outputs": []
    },
    {
      "cell_type": "code",
      "metadata": {
        "id": "5HyjMjl-an94",
        "colab_type": "code",
        "outputId": "e8da04f3-c7c3-4116-904f-e0ef2ba457fa",
        "colab": {
          "base_uri": "https://localhost:8080/",
          "height": 1882
        }
      },
      "source": [
        "df = pd.DataFrame(x)\n",
        "df"
      ],
      "execution_count": 21,
      "outputs": [
        {
          "output_type": "execute_result",
          "data": {
            "text/html": [
              "<div>\n",
              "<style scoped>\n",
              "    .dataframe tbody tr th:only-of-type {\n",
              "        vertical-align: middle;\n",
              "    }\n",
              "\n",
              "    .dataframe tbody tr th {\n",
              "        vertical-align: top;\n",
              "    }\n",
              "\n",
              "    .dataframe thead th {\n",
              "        text-align: right;\n",
              "    }\n",
              "</style>\n",
              "<table border=\"1\" class=\"dataframe\">\n",
              "  <thead>\n",
              "    <tr style=\"text-align: right;\">\n",
              "      <th></th>\n",
              "      <th>0</th>\n",
              "    </tr>\n",
              "  </thead>\n",
              "  <tbody>\n",
              "    <tr>\n",
              "      <th>0</th>\n",
              "      <td>0.644930</td>\n",
              "    </tr>\n",
              "    <tr>\n",
              "      <th>1</th>\n",
              "      <td>0.489914</td>\n",
              "    </tr>\n",
              "    <tr>\n",
              "      <th>2</th>\n",
              "      <td>0.946339</td>\n",
              "    </tr>\n",
              "    <tr>\n",
              "      <th>3</th>\n",
              "      <td>0.650175</td>\n",
              "    </tr>\n",
              "    <tr>\n",
              "      <th>4</th>\n",
              "      <td>0.602181</td>\n",
              "    </tr>\n",
              "    <tr>\n",
              "      <th>5</th>\n",
              "      <td>0.045864</td>\n",
              "    </tr>\n",
              "    <tr>\n",
              "      <th>6</th>\n",
              "      <td>0.944374</td>\n",
              "    </tr>\n",
              "    <tr>\n",
              "      <th>7</th>\n",
              "      <td>0.393662</td>\n",
              "    </tr>\n",
              "    <tr>\n",
              "      <th>8</th>\n",
              "      <td>0.853707</td>\n",
              "    </tr>\n",
              "    <tr>\n",
              "      <th>9</th>\n",
              "      <td>0.623262</td>\n",
              "    </tr>\n",
              "    <tr>\n",
              "      <th>10</th>\n",
              "      <td>0.093546</td>\n",
              "    </tr>\n",
              "    <tr>\n",
              "      <th>11</th>\n",
              "      <td>0.009971</td>\n",
              "    </tr>\n",
              "    <tr>\n",
              "      <th>12</th>\n",
              "      <td>0.121210</td>\n",
              "    </tr>\n",
              "    <tr>\n",
              "      <th>13</th>\n",
              "      <td>0.702940</td>\n",
              "    </tr>\n",
              "    <tr>\n",
              "      <th>14</th>\n",
              "      <td>0.408730</td>\n",
              "    </tr>\n",
              "    <tr>\n",
              "      <th>15</th>\n",
              "      <td>0.548019</td>\n",
              "    </tr>\n",
              "    <tr>\n",
              "      <th>16</th>\n",
              "      <td>0.758550</td>\n",
              "    </tr>\n",
              "    <tr>\n",
              "      <th>17</th>\n",
              "      <td>0.479181</td>\n",
              "    </tr>\n",
              "    <tr>\n",
              "      <th>18</th>\n",
              "      <td>0.059166</td>\n",
              "    </tr>\n",
              "    <tr>\n",
              "      <th>19</th>\n",
              "      <td>0.076286</td>\n",
              "    </tr>\n",
              "    <tr>\n",
              "      <th>20</th>\n",
              "      <td>0.624380</td>\n",
              "    </tr>\n",
              "    <tr>\n",
              "      <th>21</th>\n",
              "      <td>0.664752</td>\n",
              "    </tr>\n",
              "    <tr>\n",
              "      <th>22</th>\n",
              "      <td>0.710059</td>\n",
              "    </tr>\n",
              "    <tr>\n",
              "      <th>23</th>\n",
              "      <td>0.199515</td>\n",
              "    </tr>\n",
              "    <tr>\n",
              "      <th>24</th>\n",
              "      <td>0.491122</td>\n",
              "    </tr>\n",
              "    <tr>\n",
              "      <th>25</th>\n",
              "      <td>0.120381</td>\n",
              "    </tr>\n",
              "    <tr>\n",
              "      <th>26</th>\n",
              "      <td>0.138125</td>\n",
              "    </tr>\n",
              "    <tr>\n",
              "      <th>27</th>\n",
              "      <td>0.247151</td>\n",
              "    </tr>\n",
              "    <tr>\n",
              "      <th>28</th>\n",
              "      <td>0.660883</td>\n",
              "    </tr>\n",
              "    <tr>\n",
              "      <th>29</th>\n",
              "      <td>0.350012</td>\n",
              "    </tr>\n",
              "    <tr>\n",
              "      <th>...</th>\n",
              "      <td>...</td>\n",
              "    </tr>\n",
              "    <tr>\n",
              "      <th>6553570</th>\n",
              "      <td>0.492948</td>\n",
              "    </tr>\n",
              "    <tr>\n",
              "      <th>6553571</th>\n",
              "      <td>0.751553</td>\n",
              "    </tr>\n",
              "    <tr>\n",
              "      <th>6553572</th>\n",
              "      <td>0.420380</td>\n",
              "    </tr>\n",
              "    <tr>\n",
              "      <th>6553573</th>\n",
              "      <td>0.425848</td>\n",
              "    </tr>\n",
              "    <tr>\n",
              "      <th>6553574</th>\n",
              "      <td>0.907726</td>\n",
              "    </tr>\n",
              "    <tr>\n",
              "      <th>6553575</th>\n",
              "      <td>0.762133</td>\n",
              "    </tr>\n",
              "    <tr>\n",
              "      <th>6553576</th>\n",
              "      <td>0.353909</td>\n",
              "    </tr>\n",
              "    <tr>\n",
              "      <th>6553577</th>\n",
              "      <td>0.218727</td>\n",
              "    </tr>\n",
              "    <tr>\n",
              "      <th>6553578</th>\n",
              "      <td>0.180530</td>\n",
              "    </tr>\n",
              "    <tr>\n",
              "      <th>6553579</th>\n",
              "      <td>0.283487</td>\n",
              "    </tr>\n",
              "    <tr>\n",
              "      <th>6553580</th>\n",
              "      <td>0.454447</td>\n",
              "    </tr>\n",
              "    <tr>\n",
              "      <th>6553581</th>\n",
              "      <td>0.771325</td>\n",
              "    </tr>\n",
              "    <tr>\n",
              "      <th>6553582</th>\n",
              "      <td>0.890393</td>\n",
              "    </tr>\n",
              "    <tr>\n",
              "      <th>6553583</th>\n",
              "      <td>0.993297</td>\n",
              "    </tr>\n",
              "    <tr>\n",
              "      <th>6553584</th>\n",
              "      <td>0.887747</td>\n",
              "    </tr>\n",
              "    <tr>\n",
              "      <th>6553585</th>\n",
              "      <td>0.208062</td>\n",
              "    </tr>\n",
              "    <tr>\n",
              "      <th>6553586</th>\n",
              "      <td>0.588501</td>\n",
              "    </tr>\n",
              "    <tr>\n",
              "      <th>6553587</th>\n",
              "      <td>0.811229</td>\n",
              "    </tr>\n",
              "    <tr>\n",
              "      <th>6553588</th>\n",
              "      <td>0.574918</td>\n",
              "    </tr>\n",
              "    <tr>\n",
              "      <th>6553589</th>\n",
              "      <td>0.236814</td>\n",
              "    </tr>\n",
              "    <tr>\n",
              "      <th>6553590</th>\n",
              "      <td>0.729646</td>\n",
              "    </tr>\n",
              "    <tr>\n",
              "      <th>6553591</th>\n",
              "      <td>0.561113</td>\n",
              "    </tr>\n",
              "    <tr>\n",
              "      <th>6553592</th>\n",
              "      <td>0.934969</td>\n",
              "    </tr>\n",
              "    <tr>\n",
              "      <th>6553593</th>\n",
              "      <td>0.598178</td>\n",
              "    </tr>\n",
              "    <tr>\n",
              "      <th>6553594</th>\n",
              "      <td>0.965033</td>\n",
              "    </tr>\n",
              "    <tr>\n",
              "      <th>6553595</th>\n",
              "      <td>0.453306</td>\n",
              "    </tr>\n",
              "    <tr>\n",
              "      <th>6553596</th>\n",
              "      <td>0.268362</td>\n",
              "    </tr>\n",
              "    <tr>\n",
              "      <th>6553597</th>\n",
              "      <td>0.242486</td>\n",
              "    </tr>\n",
              "    <tr>\n",
              "      <th>6553598</th>\n",
              "      <td>0.978778</td>\n",
              "    </tr>\n",
              "    <tr>\n",
              "      <th>6553599</th>\n",
              "      <td>0.906664</td>\n",
              "    </tr>\n",
              "  </tbody>\n",
              "</table>\n",
              "<p>6553600 rows × 1 columns</p>\n",
              "</div>"
            ],
            "text/plain": [
              "                0\n",
              "0        0.644930\n",
              "1        0.489914\n",
              "2        0.946339\n",
              "3        0.650175\n",
              "4        0.602181\n",
              "5        0.045864\n",
              "6        0.944374\n",
              "7        0.393662\n",
              "8        0.853707\n",
              "9        0.623262\n",
              "10       0.093546\n",
              "11       0.009971\n",
              "12       0.121210\n",
              "13       0.702940\n",
              "14       0.408730\n",
              "15       0.548019\n",
              "16       0.758550\n",
              "17       0.479181\n",
              "18       0.059166\n",
              "19       0.076286\n",
              "20       0.624380\n",
              "21       0.664752\n",
              "22       0.710059\n",
              "23       0.199515\n",
              "24       0.491122\n",
              "25       0.120381\n",
              "26       0.138125\n",
              "27       0.247151\n",
              "28       0.660883\n",
              "29       0.350012\n",
              "...           ...\n",
              "6553570  0.492948\n",
              "6553571  0.751553\n",
              "6553572  0.420380\n",
              "6553573  0.425848\n",
              "6553574  0.907726\n",
              "6553575  0.762133\n",
              "6553576  0.353909\n",
              "6553577  0.218727\n",
              "6553578  0.180530\n",
              "6553579  0.283487\n",
              "6553580  0.454447\n",
              "6553581  0.771325\n",
              "6553582  0.890393\n",
              "6553583  0.993297\n",
              "6553584  0.887747\n",
              "6553585  0.208062\n",
              "6553586  0.588501\n",
              "6553587  0.811229\n",
              "6553588  0.574918\n",
              "6553589  0.236814\n",
              "6553590  0.729646\n",
              "6553591  0.561113\n",
              "6553592  0.934969\n",
              "6553593  0.598178\n",
              "6553594  0.965033\n",
              "6553595  0.453306\n",
              "6553596  0.268362\n",
              "6553597  0.242486\n",
              "6553598  0.978778\n",
              "6553599  0.906664\n",
              "\n",
              "[6553600 rows x 1 columns]"
            ]
          },
          "metadata": {
            "tags": []
          },
          "execution_count": 21
        }
      ]
    },
    {
      "cell_type": "markdown",
      "metadata": {
        "id": "mWeTSQRYOJV_",
        "colab_type": "text"
      },
      "source": [
        "df.info()"
      ]
    },
    {
      "cell_type": "code",
      "metadata": {
        "id": "dfUwX1e_OMK4",
        "colab_type": "code",
        "colab": {
          "base_uri": "https://localhost:8080/",
          "height": 118
        },
        "outputId": "cee50efe-3af9-42ef-b4ad-f2dddee3f50f"
      },
      "source": [
        "df.info()"
      ],
      "execution_count": 22,
      "outputs": [
        {
          "output_type": "stream",
          "text": [
            "<class 'pandas.core.frame.DataFrame'>\n",
            "RangeIndex: 6553600 entries, 0 to 6553599\n",
            "Data columns (total 1 columns):\n",
            "0    float64\n",
            "dtypes: float64(1)\n",
            "memory usage: 50.0 MB\n"
          ],
          "name": "stdout"
        }
      ]
    },
    {
      "cell_type": "code",
      "metadata": {
        "id": "lhJGSJDQOQGp",
        "colab_type": "code",
        "colab": {
          "base_uri": "https://localhost:8080/",
          "height": 50
        },
        "outputId": "fb30dc79-6cfd-4b61-b3b7-22a45380d8d6"
      },
      "source": [
        "df.memory_usage(index = False) / (1024**2)"
      ],
      "execution_count": 26,
      "outputs": [
        {
          "output_type": "execute_result",
          "data": {
            "text/plain": [
              "0    50.0\n",
              "dtype: float64"
            ]
          },
          "metadata": {
            "tags": []
          },
          "execution_count": 26
        }
      ]
    },
    {
      "cell_type": "markdown",
      "metadata": {
        "id": "3cjAC5BNbebM",
        "colab_type": "text"
      },
      "source": [
        "ejercicio reportar el uso de memoria de la siguiente estructura:\n",
        "\n",
        "1.- memoria del arreglo 'celsius'\n",
        "2. -memoria total en mb del proceso _antes_de realizar la operacion en 3\n",
        "3.- convertir celsius a fahrenheit usando 9/5 *celsius +32\n",
        "4.- indicar la diferencia de memoria despues de la operacion\n",
        "5.- obtener la memoria del arreglo fahrenheit (sin usar el metodo)\n",
        "6.-  cual es la memoria del arreglo"
      ]
    },
    {
      "cell_type": "code",
      "metadata": {
        "id": "Z9NDENRQOzjs",
        "colab_type": "code",
        "colab": {
          "base_uri": "https://localhost:8080/",
          "height": 34
        },
        "outputId": "800af410-f35d-4c9b-bc2d-133fed21dbab"
      },
      "source": [
        "huella_de_memoria()"
      ],
      "execution_count": 36,
      "outputs": [
        {
          "output_type": "execute_result",
          "data": {
            "text/plain": [
              "218"
            ]
          },
          "metadata": {
            "tags": []
          },
          "execution_count": 36
        }
      ]
    },
    {
      "cell_type": "code",
      "metadata": {
        "id": "N58XUUZYcPyW",
        "colab_type": "code",
        "outputId": "083d395b-cb56-4b99-8cfe-53f4b09830b3",
        "colab": {
          "base_uri": "https://localhost:8080/",
          "height": 50
        }
      },
      "source": [
        "celsius = np.arange(-4., 0., 4/366000)\n",
        "celsius\n"
      ],
      "execution_count": 37,
      "outputs": [
        {
          "output_type": "execute_result",
          "data": {
            "text/plain": [
              "array([-4.00000000e+00, -3.99998907e+00, -3.99997814e+00, ...,\n",
              "       -3.27869416e-05, -2.18579799e-05, -1.09290181e-05])"
            ]
          },
          "metadata": {
            "tags": []
          },
          "execution_count": 37
        }
      ]
    },
    {
      "cell_type": "code",
      "metadata": {
        "id": "q5c4vXdBO7Pw",
        "colab_type": "code",
        "colab": {
          "base_uri": "https://localhost:8080/",
          "height": 34
        },
        "outputId": "1df18676-7813-46a0-c700-cda44951ca9e"
      },
      "source": [
        "celsius.nbytes/(1024**2)"
      ],
      "execution_count": 38,
      "outputs": [
        {
          "output_type": "execute_result",
          "data": {
            "text/plain": [
              "2.7923583984375"
            ]
          },
          "metadata": {
            "tags": []
          },
          "execution_count": 38
        }
      ]
    },
    {
      "cell_type": "code",
      "metadata": {
        "id": "j9Tmlk2JPFX_",
        "colab_type": "code",
        "colab": {
          "base_uri": "https://localhost:8080/",
          "height": 34
        },
        "outputId": "e863a89d-beb6-44dd-e73f-f80ede719695"
      },
      "source": [
        "antes=huella_de_memoria()\n",
        "antes"
      ],
      "execution_count": 40,
      "outputs": [
        {
          "output_type": "execute_result",
          "data": {
            "text/plain": [
              "218"
            ]
          },
          "metadata": {
            "tags": []
          },
          "execution_count": 40
        }
      ]
    },
    {
      "cell_type": "code",
      "metadata": {
        "id": "hLNQ92zGcwDY",
        "colab_type": "code",
        "outputId": "4f490cde-f017-4fb4-c81d-923619ab241d",
        "colab": {
          "base_uri": "https://localhost:8080/",
          "height": 50
        }
      },
      "source": [
        "farenheint = 32+celsius*9/5\n",
        "farenheint"
      ],
      "execution_count": 41,
      "outputs": [
        {
          "output_type": "execute_result",
          "data": {
            "text/plain": [
              "array([24.8       , 24.80001967, 24.80003934, ..., 31.99994098,\n",
              "       31.99996066, 31.99998033])"
            ]
          },
          "metadata": {
            "tags": []
          },
          "execution_count": 41
        }
      ]
    },
    {
      "cell_type": "code",
      "metadata": {
        "id": "32wVkj9sPctr",
        "colab_type": "code",
        "colab": {
          "base_uri": "https://localhost:8080/",
          "height": 34
        },
        "outputId": "2720c6d6-ecaa-4bfc-d4d0-cba09aada194"
      },
      "source": [
        "despues =huella_de_memoria()\n",
        "despues\n"
      ],
      "execution_count": 43,
      "outputs": [
        {
          "output_type": "execute_result",
          "data": {
            "text/plain": [
              "218"
            ]
          },
          "metadata": {
            "tags": []
          },
          "execution_count": 43
        }
      ]
    },
    {
      "cell_type": "code",
      "metadata": {
        "id": "phmVYZn3QDTP",
        "colab_type": "code",
        "colab": {
          "base_uri": "https://localhost:8080/",
          "height": 34
        },
        "outputId": "ded24d68-9e59-4d92-e195-a7e032433d8d"
      },
      "source": [
        "print(despues-antes)"
      ],
      "execution_count": 44,
      "outputs": [
        {
          "output_type": "stream",
          "text": [
            "0\n"
          ],
          "name": "stdout"
        }
      ]
    },
    {
      "cell_type": "code",
      "metadata": {
        "id": "dTCSoz2vfm5V",
        "colab_type": "code",
        "outputId": "7c7ae6a9-34ec-4c3c-9fc4-d28465caf819",
        "colab": {
          "base_uri": "https://localhost:8080/",
          "height": 34
        }
      },
      "source": [
        "farenheint.nbytes/(1024**2)"
      ],
      "execution_count": 45,
      "outputs": [
        {
          "output_type": "execute_result",
          "data": {
            "text/plain": [
              "2.7923583984375"
            ]
          },
          "metadata": {
            "tags": []
          },
          "execution_count": 45
        }
      ]
    },
    {
      "cell_type": "code",
      "metadata": {
        "id": "3LjXOaa-Naoq",
        "colab_type": "code",
        "colab": {
          "base_uri": "https://localhost:8080/",
          "height": 118
        },
        "outputId": "2e0717cb-f16a-4e62-a55a-347eae3e2d50"
      },
      "source": [
        "f = pd.DataFrame(farenheint)\n",
        "f.info()"
      ],
      "execution_count": 47,
      "outputs": [
        {
          "output_type": "stream",
          "text": [
            "<class 'pandas.core.frame.DataFrame'>\n",
            "RangeIndex: 366000 entries, 0 to 365999\n",
            "Data columns (total 1 columns):\n",
            "0    366000 non-null float64\n",
            "dtypes: float64(1)\n",
            "memory usage: 2.8 MB\n"
          ],
          "name": "stdout"
        }
      ]
    }
  ]
}