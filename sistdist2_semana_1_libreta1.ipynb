{
  "nbformat": 4,
  "nbformat_minor": 0,
  "metadata": {
    "colab": {
      "name": "sistdist2 semana 1 libreta1.ipynb",
      "version": "0.3.2",
      "provenance": [],
      "include_colab_link": true
    },
    "kernelspec": {
      "name": "python3",
      "display_name": "Python 3"
    }
  },
  "cells": [
    {
      "cell_type": "markdown",
      "metadata": {
        "id": "view-in-github",
        "colab_type": "text"
      },
      "source": [
        "<a href=\"https://colab.research.google.com/github/ark150/PracticaSIDI2Semana1/blob/master/sistdist2_semana_1_libreta1.ipynb\" target=\"_parent\"><img src=\"https://colab.research.google.com/assets/colab-badge.svg\" alt=\"Open In Colab\"/></a>"
      ]
    },
    {
      "cell_type": "markdown",
      "metadata": {
        "id": "4z66yBZBVcQe",
        "colab_type": "text"
      },
      "source": [
        "practica de como se guardala informacion en memoria"
      ]
    },
    {
      "cell_type": "code",
      "metadata": {
        "id": "gQKVnXXFVXWR",
        "colab_type": "code",
        "colab": {}
      },
      "source": [
        "import psutil, os\n"
      ],
      "execution_count": 0,
      "outputs": []
    },
    {
      "cell_type": "code",
      "metadata": {
        "id": "_N-T_HMvWcVX",
        "colab_type": "code",
        "colab": {}
      },
      "source": [
        "def huella_de_memoria():\n",
        "  '''regresa la memoria usada por un proceso en python'''\n",
        "  mem= psutil.Process(os.getpid()).memory_info().rss\n",
        "  return (mem // 1024**2)"
      ],
      "execution_count": 0,
      "outputs": []
    },
    {
      "cell_type": "code",
      "metadata": {
        "id": "I6bvvTNoW3b5",
        "colab_type": "code",
        "outputId": "91a69e88-839e-4ed0-b894-5314019b5957",
        "colab": {
          "base_uri": "https://localhost:8080/",
          "height": 34
        }
      },
      "source": [
        "huella_de_memoria()"
      ],
      "execution_count": 36,
      "outputs": [
        {
          "output_type": "execute_result",
          "data": {
            "text/plain": [
              "214"
            ]
          },
          "metadata": {
            "tags": []
          },
          "execution_count": 36
        }
      ]
    },
    {
      "cell_type": "code",
      "metadata": {
        "id": "H_47CeXRW-sy",
        "colab_type": "code",
        "colab": {}
      },
      "source": [
        "import numpy as np "
      ],
      "execution_count": 0,
      "outputs": []
    },
    {
      "cell_type": "code",
      "metadata": {
        "id": "buC6v556XKsH",
        "colab_type": "code",
        "outputId": "aeae6f57-e5c9-467d-ba02-beaf7e2562a6",
        "colab": {
          "base_uri": "https://localhost:8080/",
          "height": 34
        }
      },
      "source": [
        "antes = huella_de_memoria()\n",
        "antes"
      ],
      "execution_count": 67,
      "outputs": [
        {
          "output_type": "execute_result",
          "data": {
            "text/plain": [
              "216"
            ]
          },
          "metadata": {
            "tags": []
          },
          "execution_count": 67
        }
      ]
    },
    {
      "cell_type": "markdown",
      "metadata": {
        "id": "0V9xtbh3XWZf",
        "colab_type": "text"
      },
      "source": [
        "el profe dijo que N abajo es el numero de valores de punto flotante que llena 1MB"
      ]
    },
    {
      "cell_type": "code",
      "metadata": {
        "id": "Y4EWE17iXOE5",
        "colab_type": "code",
        "colab": {}
      },
      "source": [
        "N=(1024**2)//8"
      ],
      "execution_count": 0,
      "outputs": []
    },
    {
      "cell_type": "code",
      "metadata": {
        "id": "fNS_5IFRXsXq",
        "colab_type": "code",
        "colab": {}
      },
      "source": [
        "x = np.random.rand(50*N)"
      ],
      "execution_count": 0,
      "outputs": []
    },
    {
      "cell_type": "code",
      "metadata": {
        "id": "fWNGnkCLX3pl",
        "colab_type": "code",
        "colab": {
          "base_uri": "https://localhost:8080/",
          "height": 34
        },
        "outputId": "0028fedb-0cc4-450e-ab09-07f3b3a94e89"
      },
      "source": [
        "despues = huella_de_memoria()\n",
        "print(despues)"
      ],
      "execution_count": 70,
      "outputs": [
        {
          "output_type": "stream",
          "text": [
            "266\n"
          ],
          "name": "stdout"
        }
      ]
    },
    {
      "cell_type": "code",
      "metadata": {
        "id": "3c31Yr8PYFoW",
        "colab_type": "code",
        "outputId": "f4bdd0fd-4389-47ed-df92-2c2509acaf40",
        "colab": {
          "base_uri": "https://localhost:8080/",
          "height": 67
        }
      },
      "source": [
        "print(antes)\n",
        "print(despues)\n",
        "print(despues - antes)"
      ],
      "execution_count": 71,
      "outputs": [
        {
          "output_type": "stream",
          "text": [
            "216\n",
            "266\n",
            "50\n"
          ],
          "name": "stdout"
        }
      ]
    },
    {
      "cell_type": "code",
      "metadata": {
        "id": "K0E9pHDyMg0V",
        "colab_type": "code",
        "colab": {}
      },
      "source": [
        "antes = huella_de_memoria()\n",
        "\n"
      ],
      "execution_count": 0,
      "outputs": []
    },
    {
      "cell_type": "code",
      "metadata": {
        "id": "Ndk67bJLNdSe",
        "colab_type": "code",
        "outputId": "49cce463-2bcc-4195-8d24-2e48fbccc2b1",
        "colab": {
          "base_uri": "https://localhost:8080/",
          "height": 67
        }
      },
      "source": [
        "x**2\n",
        "despues = huella_de_memoria()\n",
        "print(antes)\n",
        "print(despues)\n",
        "print(despues - antes)"
      ],
      "execution_count": 72,
      "outputs": [
        {
          "output_type": "stream",
          "text": [
            "216\n",
            "316\n",
            "100\n"
          ],
          "name": "stdout"
        }
      ]
    },
    {
      "cell_type": "code",
      "metadata": {
        "id": "TesXCmuuNtuZ",
        "colab_type": "code",
        "outputId": "c19713e0-fab0-4264-b22e-eec5d2b43f07",
        "colab": {
          "base_uri": "https://localhost:8080/",
          "height": 34
        }
      },
      "source": [
        "x.nbytes//1024**2"
      ],
      "execution_count": 53,
      "outputs": [
        {
          "output_type": "execute_result",
          "data": {
            "text/plain": [
              "50"
            ]
          },
          "metadata": {
            "tags": []
          },
          "execution_count": 53
        }
      ]
    },
    {
      "cell_type": "markdown",
      "metadata": {
        "id": "BixQ_wQDN-_h",
        "colab_type": "text"
      },
      "source": [
        "pandas"
      ]
    },
    {
      "cell_type": "code",
      "metadata": {
        "id": "cpbObi9gajGW",
        "colab_type": "code",
        "colab": {}
      },
      "source": [
        "import pandas as pd\n"
      ],
      "execution_count": 0,
      "outputs": []
    },
    {
      "cell_type": "code",
      "metadata": {
        "id": "5HyjMjl-an94",
        "colab_type": "code",
        "outputId": "93413022-bfca-49af-f5fa-df6f2705ccf5",
        "colab": {
          "base_uri": "https://localhost:8080/",
          "height": 1882
        }
      },
      "source": [
        "df = pd.DataFrame(x)\n",
        "df"
      ],
      "execution_count": 55,
      "outputs": [
        {
          "output_type": "execute_result",
          "data": {
            "text/html": [
              "<div>\n",
              "<style scoped>\n",
              "    .dataframe tbody tr th:only-of-type {\n",
              "        vertical-align: middle;\n",
              "    }\n",
              "\n",
              "    .dataframe tbody tr th {\n",
              "        vertical-align: top;\n",
              "    }\n",
              "\n",
              "    .dataframe thead th {\n",
              "        text-align: right;\n",
              "    }\n",
              "</style>\n",
              "<table border=\"1\" class=\"dataframe\">\n",
              "  <thead>\n",
              "    <tr style=\"text-align: right;\">\n",
              "      <th></th>\n",
              "      <th>0</th>\n",
              "    </tr>\n",
              "  </thead>\n",
              "  <tbody>\n",
              "    <tr>\n",
              "      <th>0</th>\n",
              "      <td>0.637176</td>\n",
              "    </tr>\n",
              "    <tr>\n",
              "      <th>1</th>\n",
              "      <td>0.020204</td>\n",
              "    </tr>\n",
              "    <tr>\n",
              "      <th>2</th>\n",
              "      <td>0.162283</td>\n",
              "    </tr>\n",
              "    <tr>\n",
              "      <th>3</th>\n",
              "      <td>0.701455</td>\n",
              "    </tr>\n",
              "    <tr>\n",
              "      <th>4</th>\n",
              "      <td>0.016666</td>\n",
              "    </tr>\n",
              "    <tr>\n",
              "      <th>5</th>\n",
              "      <td>0.935927</td>\n",
              "    </tr>\n",
              "    <tr>\n",
              "      <th>6</th>\n",
              "      <td>0.748688</td>\n",
              "    </tr>\n",
              "    <tr>\n",
              "      <th>7</th>\n",
              "      <td>0.750448</td>\n",
              "    </tr>\n",
              "    <tr>\n",
              "      <th>8</th>\n",
              "      <td>0.985250</td>\n",
              "    </tr>\n",
              "    <tr>\n",
              "      <th>9</th>\n",
              "      <td>0.799019</td>\n",
              "    </tr>\n",
              "    <tr>\n",
              "      <th>10</th>\n",
              "      <td>0.655751</td>\n",
              "    </tr>\n",
              "    <tr>\n",
              "      <th>11</th>\n",
              "      <td>0.969849</td>\n",
              "    </tr>\n",
              "    <tr>\n",
              "      <th>12</th>\n",
              "      <td>0.069842</td>\n",
              "    </tr>\n",
              "    <tr>\n",
              "      <th>13</th>\n",
              "      <td>0.999592</td>\n",
              "    </tr>\n",
              "    <tr>\n",
              "      <th>14</th>\n",
              "      <td>0.135500</td>\n",
              "    </tr>\n",
              "    <tr>\n",
              "      <th>15</th>\n",
              "      <td>0.846241</td>\n",
              "    </tr>\n",
              "    <tr>\n",
              "      <th>16</th>\n",
              "      <td>0.755715</td>\n",
              "    </tr>\n",
              "    <tr>\n",
              "      <th>17</th>\n",
              "      <td>0.500919</td>\n",
              "    </tr>\n",
              "    <tr>\n",
              "      <th>18</th>\n",
              "      <td>0.594916</td>\n",
              "    </tr>\n",
              "    <tr>\n",
              "      <th>19</th>\n",
              "      <td>0.038821</td>\n",
              "    </tr>\n",
              "    <tr>\n",
              "      <th>20</th>\n",
              "      <td>0.851922</td>\n",
              "    </tr>\n",
              "    <tr>\n",
              "      <th>21</th>\n",
              "      <td>0.035639</td>\n",
              "    </tr>\n",
              "    <tr>\n",
              "      <th>22</th>\n",
              "      <td>0.469564</td>\n",
              "    </tr>\n",
              "    <tr>\n",
              "      <th>23</th>\n",
              "      <td>0.581565</td>\n",
              "    </tr>\n",
              "    <tr>\n",
              "      <th>24</th>\n",
              "      <td>0.220114</td>\n",
              "    </tr>\n",
              "    <tr>\n",
              "      <th>25</th>\n",
              "      <td>0.272247</td>\n",
              "    </tr>\n",
              "    <tr>\n",
              "      <th>26</th>\n",
              "      <td>0.193157</td>\n",
              "    </tr>\n",
              "    <tr>\n",
              "      <th>27</th>\n",
              "      <td>0.080395</td>\n",
              "    </tr>\n",
              "    <tr>\n",
              "      <th>28</th>\n",
              "      <td>0.348293</td>\n",
              "    </tr>\n",
              "    <tr>\n",
              "      <th>29</th>\n",
              "      <td>0.082297</td>\n",
              "    </tr>\n",
              "    <tr>\n",
              "      <th>...</th>\n",
              "      <td>...</td>\n",
              "    </tr>\n",
              "    <tr>\n",
              "      <th>6553570</th>\n",
              "      <td>0.413954</td>\n",
              "    </tr>\n",
              "    <tr>\n",
              "      <th>6553571</th>\n",
              "      <td>0.427236</td>\n",
              "    </tr>\n",
              "    <tr>\n",
              "      <th>6553572</th>\n",
              "      <td>0.750036</td>\n",
              "    </tr>\n",
              "    <tr>\n",
              "      <th>6553573</th>\n",
              "      <td>0.605654</td>\n",
              "    </tr>\n",
              "    <tr>\n",
              "      <th>6553574</th>\n",
              "      <td>0.448867</td>\n",
              "    </tr>\n",
              "    <tr>\n",
              "      <th>6553575</th>\n",
              "      <td>0.761738</td>\n",
              "    </tr>\n",
              "    <tr>\n",
              "      <th>6553576</th>\n",
              "      <td>0.000763</td>\n",
              "    </tr>\n",
              "    <tr>\n",
              "      <th>6553577</th>\n",
              "      <td>0.930903</td>\n",
              "    </tr>\n",
              "    <tr>\n",
              "      <th>6553578</th>\n",
              "      <td>0.943817</td>\n",
              "    </tr>\n",
              "    <tr>\n",
              "      <th>6553579</th>\n",
              "      <td>0.349475</td>\n",
              "    </tr>\n",
              "    <tr>\n",
              "      <th>6553580</th>\n",
              "      <td>0.960238</td>\n",
              "    </tr>\n",
              "    <tr>\n",
              "      <th>6553581</th>\n",
              "      <td>0.740740</td>\n",
              "    </tr>\n",
              "    <tr>\n",
              "      <th>6553582</th>\n",
              "      <td>0.127440</td>\n",
              "    </tr>\n",
              "    <tr>\n",
              "      <th>6553583</th>\n",
              "      <td>0.500302</td>\n",
              "    </tr>\n",
              "    <tr>\n",
              "      <th>6553584</th>\n",
              "      <td>0.443073</td>\n",
              "    </tr>\n",
              "    <tr>\n",
              "      <th>6553585</th>\n",
              "      <td>0.074848</td>\n",
              "    </tr>\n",
              "    <tr>\n",
              "      <th>6553586</th>\n",
              "      <td>0.510010</td>\n",
              "    </tr>\n",
              "    <tr>\n",
              "      <th>6553587</th>\n",
              "      <td>0.553851</td>\n",
              "    </tr>\n",
              "    <tr>\n",
              "      <th>6553588</th>\n",
              "      <td>0.942684</td>\n",
              "    </tr>\n",
              "    <tr>\n",
              "      <th>6553589</th>\n",
              "      <td>0.440612</td>\n",
              "    </tr>\n",
              "    <tr>\n",
              "      <th>6553590</th>\n",
              "      <td>0.290709</td>\n",
              "    </tr>\n",
              "    <tr>\n",
              "      <th>6553591</th>\n",
              "      <td>0.165113</td>\n",
              "    </tr>\n",
              "    <tr>\n",
              "      <th>6553592</th>\n",
              "      <td>0.420889</td>\n",
              "    </tr>\n",
              "    <tr>\n",
              "      <th>6553593</th>\n",
              "      <td>0.543250</td>\n",
              "    </tr>\n",
              "    <tr>\n",
              "      <th>6553594</th>\n",
              "      <td>0.177088</td>\n",
              "    </tr>\n",
              "    <tr>\n",
              "      <th>6553595</th>\n",
              "      <td>0.943960</td>\n",
              "    </tr>\n",
              "    <tr>\n",
              "      <th>6553596</th>\n",
              "      <td>0.975055</td>\n",
              "    </tr>\n",
              "    <tr>\n",
              "      <th>6553597</th>\n",
              "      <td>0.226564</td>\n",
              "    </tr>\n",
              "    <tr>\n",
              "      <th>6553598</th>\n",
              "      <td>0.644494</td>\n",
              "    </tr>\n",
              "    <tr>\n",
              "      <th>6553599</th>\n",
              "      <td>0.788270</td>\n",
              "    </tr>\n",
              "  </tbody>\n",
              "</table>\n",
              "<p>6553600 rows × 1 columns</p>\n",
              "</div>"
            ],
            "text/plain": [
              "                0\n",
              "0        0.637176\n",
              "1        0.020204\n",
              "2        0.162283\n",
              "3        0.701455\n",
              "4        0.016666\n",
              "5        0.935927\n",
              "6        0.748688\n",
              "7        0.750448\n",
              "8        0.985250\n",
              "9        0.799019\n",
              "10       0.655751\n",
              "11       0.969849\n",
              "12       0.069842\n",
              "13       0.999592\n",
              "14       0.135500\n",
              "15       0.846241\n",
              "16       0.755715\n",
              "17       0.500919\n",
              "18       0.594916\n",
              "19       0.038821\n",
              "20       0.851922\n",
              "21       0.035639\n",
              "22       0.469564\n",
              "23       0.581565\n",
              "24       0.220114\n",
              "25       0.272247\n",
              "26       0.193157\n",
              "27       0.080395\n",
              "28       0.348293\n",
              "29       0.082297\n",
              "...           ...\n",
              "6553570  0.413954\n",
              "6553571  0.427236\n",
              "6553572  0.750036\n",
              "6553573  0.605654\n",
              "6553574  0.448867\n",
              "6553575  0.761738\n",
              "6553576  0.000763\n",
              "6553577  0.930903\n",
              "6553578  0.943817\n",
              "6553579  0.349475\n",
              "6553580  0.960238\n",
              "6553581  0.740740\n",
              "6553582  0.127440\n",
              "6553583  0.500302\n",
              "6553584  0.443073\n",
              "6553585  0.074848\n",
              "6553586  0.510010\n",
              "6553587  0.553851\n",
              "6553588  0.942684\n",
              "6553589  0.440612\n",
              "6553590  0.290709\n",
              "6553591  0.165113\n",
              "6553592  0.420889\n",
              "6553593  0.543250\n",
              "6553594  0.177088\n",
              "6553595  0.943960\n",
              "6553596  0.975055\n",
              "6553597  0.226564\n",
              "6553598  0.644494\n",
              "6553599  0.788270\n",
              "\n",
              "[6553600 rows x 1 columns]"
            ]
          },
          "metadata": {
            "tags": []
          },
          "execution_count": 55
        }
      ]
    },
    {
      "cell_type": "markdown",
      "metadata": {
        "id": "mWeTSQRYOJV_",
        "colab_type": "text"
      },
      "source": [
        "df.info()"
      ]
    },
    {
      "cell_type": "code",
      "metadata": {
        "id": "dfUwX1e_OMK4",
        "colab_type": "code",
        "outputId": "ebfd33e6-8dbd-4109-d5bd-0ca2612fa8be",
        "colab": {
          "base_uri": "https://localhost:8080/",
          "height": 118
        }
      },
      "source": [
        "df.info()"
      ],
      "execution_count": 56,
      "outputs": [
        {
          "output_type": "stream",
          "text": [
            "<class 'pandas.core.frame.DataFrame'>\n",
            "RangeIndex: 6553600 entries, 0 to 6553599\n",
            "Data columns (total 1 columns):\n",
            "0    float64\n",
            "dtypes: float64(1)\n",
            "memory usage: 50.0 MB\n"
          ],
          "name": "stdout"
        }
      ]
    },
    {
      "cell_type": "code",
      "metadata": {
        "id": "lhJGSJDQOQGp",
        "colab_type": "code",
        "outputId": "3bbd5707-9ee5-44be-e537-0f84d798f864",
        "colab": {
          "base_uri": "https://localhost:8080/",
          "height": 50
        }
      },
      "source": [
        "df.memory_usage(index = False) / (1024**2)"
      ],
      "execution_count": 57,
      "outputs": [
        {
          "output_type": "execute_result",
          "data": {
            "text/plain": [
              "0    50.0\n",
              "dtype: float64"
            ]
          },
          "metadata": {
            "tags": []
          },
          "execution_count": 57
        }
      ]
    },
    {
      "cell_type": "markdown",
      "metadata": {
        "id": "3cjAC5BNbebM",
        "colab_type": "text"
      },
      "source": [
        "ejercicio reportar el uso de memoria de la siguiente estructura:\n",
        "\n",
        "1.- memoria del arreglo 'celsius'\n",
        "2. -memoria total en mb del proceso _antes_de realizar la operacion en 3\n",
        "3.- convertir celsius a fahrenheit usando 9/5 *celsius +32\n",
        "4.- indicar la diferencia de memoria despues de la operacion\n",
        "5.- obtener la memoria del arreglo fahrenheit (sin usar el metodo)\n",
        "6.-  cual es la memoria del arreglo"
      ]
    },
    {
      "cell_type": "code",
      "metadata": {
        "id": "Z9NDENRQOzjs",
        "colab_type": "code",
        "outputId": "23a25758-6b4b-4fdb-c54e-aedd25c1c853",
        "colab": {
          "base_uri": "https://localhost:8080/",
          "height": 34
        }
      },
      "source": [
        "huella_de_memoria()"
      ],
      "execution_count": 58,
      "outputs": [
        {
          "output_type": "execute_result",
          "data": {
            "text/plain": [
              "216"
            ]
          },
          "metadata": {
            "tags": []
          },
          "execution_count": 58
        }
      ]
    },
    {
      "cell_type": "code",
      "metadata": {
        "id": "N58XUUZYcPyW",
        "colab_type": "code",
        "outputId": "9b0385af-b322-435d-e11b-29f9fe18b08e",
        "colab": {
          "base_uri": "https://localhost:8080/",
          "height": 50
        }
      },
      "source": [
        "celsius = np.arange(-4., 0., 4/366000)\n",
        "celsius\n"
      ],
      "execution_count": 59,
      "outputs": [
        {
          "output_type": "execute_result",
          "data": {
            "text/plain": [
              "array([-4.00000000e+00, -3.99998907e+00, -3.99997814e+00, ...,\n",
              "       -3.27869416e-05, -2.18579799e-05, -1.09290181e-05])"
            ]
          },
          "metadata": {
            "tags": []
          },
          "execution_count": 59
        }
      ]
    },
    {
      "cell_type": "code",
      "metadata": {
        "id": "q5c4vXdBO7Pw",
        "colab_type": "code",
        "outputId": "18bf3245-a089-4300-9dda-7f86a01f1a20",
        "colab": {
          "base_uri": "https://localhost:8080/",
          "height": 34
        }
      },
      "source": [
        "celsius.nbytes/(1024**2)"
      ],
      "execution_count": 60,
      "outputs": [
        {
          "output_type": "execute_result",
          "data": {
            "text/plain": [
              "2.7923583984375"
            ]
          },
          "metadata": {
            "tags": []
          },
          "execution_count": 60
        }
      ]
    },
    {
      "cell_type": "code",
      "metadata": {
        "id": "j9Tmlk2JPFX_",
        "colab_type": "code",
        "outputId": "65cc3cb5-a478-48c0-eea4-52997700d4cd",
        "colab": {
          "base_uri": "https://localhost:8080/",
          "height": 34
        }
      },
      "source": [
        "antes=huella_de_memoria()\n",
        "antes"
      ],
      "execution_count": 61,
      "outputs": [
        {
          "output_type": "execute_result",
          "data": {
            "text/plain": [
              "216"
            ]
          },
          "metadata": {
            "tags": []
          },
          "execution_count": 61
        }
      ]
    },
    {
      "cell_type": "code",
      "metadata": {
        "id": "hLNQ92zGcwDY",
        "colab_type": "code",
        "outputId": "895adb33-4bd1-4a82-9676-f3d97b0a3bf3",
        "colab": {
          "base_uri": "https://localhost:8080/",
          "height": 50
        }
      },
      "source": [
        "farenheint = 32+celsius*9/5\n",
        "farenheint"
      ],
      "execution_count": 62,
      "outputs": [
        {
          "output_type": "execute_result",
          "data": {
            "text/plain": [
              "array([24.8       , 24.80001967, 24.80003934, ..., 31.99994098,\n",
              "       31.99996066, 31.99998033])"
            ]
          },
          "metadata": {
            "tags": []
          },
          "execution_count": 62
        }
      ]
    },
    {
      "cell_type": "code",
      "metadata": {
        "id": "32wVkj9sPctr",
        "colab_type": "code",
        "outputId": "035fc080-5efe-4d36-fe27-fd6adee6ab21",
        "colab": {
          "base_uri": "https://localhost:8080/",
          "height": 34
        }
      },
      "source": [
        "despues =huella_de_memoria()\n",
        "despues\n"
      ],
      "execution_count": 63,
      "outputs": [
        {
          "output_type": "execute_result",
          "data": {
            "text/plain": [
              "216"
            ]
          },
          "metadata": {
            "tags": []
          },
          "execution_count": 63
        }
      ]
    },
    {
      "cell_type": "code",
      "metadata": {
        "id": "phmVYZn3QDTP",
        "colab_type": "code",
        "outputId": "1fe05ae1-6335-4606-d87d-122e6c02d600",
        "colab": {
          "base_uri": "https://localhost:8080/",
          "height": 34
        }
      },
      "source": [
        "print(despues-antes)"
      ],
      "execution_count": 64,
      "outputs": [
        {
          "output_type": "stream",
          "text": [
            "0\n"
          ],
          "name": "stdout"
        }
      ]
    },
    {
      "cell_type": "code",
      "metadata": {
        "id": "dTCSoz2vfm5V",
        "colab_type": "code",
        "outputId": "f953861a-1020-4391-e027-cc32c346bc5f",
        "colab": {
          "base_uri": "https://localhost:8080/",
          "height": 34
        }
      },
      "source": [
        "farenheint.nbytes/(1024**2)"
      ],
      "execution_count": 65,
      "outputs": [
        {
          "output_type": "execute_result",
          "data": {
            "text/plain": [
              "2.7923583984375"
            ]
          },
          "metadata": {
            "tags": []
          },
          "execution_count": 65
        }
      ]
    },
    {
      "cell_type": "code",
      "metadata": {
        "id": "3LjXOaa-Naoq",
        "colab_type": "code",
        "outputId": "5445ccf0-8570-40cb-f3ee-8f8c3c4341b3",
        "colab": {
          "base_uri": "https://localhost:8080/",
          "height": 118
        }
      },
      "source": [
        "f = pd.DataFrame(farenheint)\n",
        "f.info()"
      ],
      "execution_count": 66,
      "outputs": [
        {
          "output_type": "stream",
          "text": [
            "<class 'pandas.core.frame.DataFrame'>\n",
            "RangeIndex: 366000 entries, 0 to 365999\n",
            "Data columns (total 1 columns):\n",
            "0    366000 non-null float64\n",
            "dtypes: float64(1)\n",
            "memory usage: 2.8 MB\n"
          ],
          "name": "stdout"
        }
      ]
    }
  ]
}