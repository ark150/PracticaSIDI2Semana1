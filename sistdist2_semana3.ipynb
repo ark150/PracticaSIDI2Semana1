{
  "nbformat": 4,
  "nbformat_minor": 0,
  "metadata": {
    "colab": {
      "name": "sistdist2 semana3.ipynb",
      "version": "0.3.2",
      "provenance": [],
      "include_colab_link": true
    },
    "kernelspec": {
      "name": "python3",
      "display_name": "Python 3"
    }
  },
  "cells": [
    {
      "cell_type": "markdown",
      "metadata": {
        "id": "view-in-github",
        "colab_type": "text"
      },
      "source": [
        "<a href=\"https://colab.research.google.com/github/ark150/PracticaSIDI2Semana1/blob/master/sistdist2_semana3.ipynb\" target=\"_parent\"><img src=\"https://colab.research.google.com/assets/colab-badge.svg\" alt=\"Open In Colab\"/></a>"
      ]
    },
    {
      "cell_type": "markdown",
      "metadata": {
        "id": "QHq5e4G0-GTN",
        "colab_type": "text"
      },
      "source": [
        "#Repaso semana 2\n",
        "la mayoria de los datos de los cuales se quiere sacar cierta informacion, por su gran volumen tienden a usar muchos recursos en los cuales se puede dividir el trabajo de manera que estos sean menos costoso.\n"
      ]
    },
    {
      "cell_type": "code",
      "metadata": {
        "id": "nXz_9nCZk5Oa",
        "colab_type": "code",
        "colab": {}
      },
      "source": [
        ""
      ],
      "execution_count": 0,
      "outputs": []
    },
    {
      "cell_type": "markdown",
      "metadata": {
        "id": "wNXxvsm0E6xD",
        "colab_type": "text"
      },
      "source": [
        "codigo reutilizable"
      ]
    },
    {
      "cell_type": "code",
      "metadata": {
        "id": "C3f2BuA5E5ny",
        "colab_type": "code",
        "colab": {}
      },
      "source": [
        "import numpy as np\n",
        "import pandas as pd\n",
        "import psutil, os\n",
        "from time import time\n",
        "def huella_de_memoria():\n",
        "  '''regresa la memoria usada por un proceso en python'''\n",
        "  mem= psutil.Process(os.getpid()).memory_info().rss\n",
        "  return (mem / 1024**2)"
      ],
      "execution_count": 0,
      "outputs": []
    },
    {
      "cell_type": "markdown",
      "metadata": {
        "id": "8SJtmMcaFKhj",
        "colab_type": "text"
      },
      "source": [
        "comando para obtener achivos"
      ]
    },
    {
      "cell_type": "code",
      "metadata": {
        "id": "bQRub4ok-B6a",
        "colab_type": "code",
        "colab": {}
      },
      "source": [
        "plantilla = 'yellow_tripdata_2018-{:02d}.csv'\n",
        "plantillaURL = 'wget https://s3.amazonaws.com/nyc-tlc/trip+data/'+plantilla\n",
        "comandos= [plantillaURL.format(y) for y in range(1,13)]\n",
        "for cmd in comandos:\n",
        "  os.system(cmd)"
      ],
      "execution_count": 0,
      "outputs": []
    },
    {
      "cell_type": "markdown",
      "metadata": {
        "id": "RhWSHPAlFOyW",
        "colab_type": "text"
      },
      "source": [
        ""
      ]
    },
    {
      "cell_type": "code",
      "metadata": {
        "id": "_IftNn78FPBj",
        "colab_type": "code",
        "colab": {}
      },
      "source": [
        "from math import sqrt"
      ],
      "execution_count": 0,
      "outputs": []
    },
    {
      "cell_type": "markdown",
      "metadata": {
        "id": "xVJ9wy-VKXYz",
        "colab_type": "text"
      },
      "source": [
        "x=4\n",
        "\n",
        "y=h(x)\n",
        "\n",
        "z=g(y)\n",
        "\n",
        "w=f(z)\n",
        "\n",
        "w=?"
      ]
    },
    {
      "cell_type": "code",
      "metadata": {
        "id": "bicJBkT7KBBO",
        "colab_type": "code",
        "colab": {}
      },
      "source": [
        "def f(z):\n",
        "  return sqrt(z +4)\n",
        "\n",
        "def g(y):\n",
        "  return y-3\n",
        "\n",
        "def h(x):\n",
        "  return x**2\n"
      ],
      "execution_count": 0,
      "outputs": []
    },
    {
      "cell_type": "code",
      "metadata": {
        "id": "L-sF2wk9K_bC",
        "colab_type": "code",
        "colab": {}
      },
      "source": [
        "x= 4\n",
        "y=h(x)\n",
        "z=g(y)\n",
        "w=f(z)"
      ],
      "execution_count": 0,
      "outputs": []
    },
    {
      "cell_type": "code",
      "metadata": {
        "id": "f8q2ciHhLHhR",
        "colab_type": "code",
        "outputId": "2e33be65-daaf-4eba-92bb-f816cb5070eb",
        "colab": {
          "base_uri": "https://localhost:8080/",
          "height": 34
        }
      },
      "source": [
        "print(w)"
      ],
      "execution_count": 0,
      "outputs": [
        {
          "output_type": "stream",
          "text": [
            "4.123105625617661\n"
          ],
          "name": "stdout"
        }
      ]
    },
    {
      "cell_type": "code",
      "metadata": {
        "id": "4aCPdcg-LLOb",
        "colab_type": "code",
        "outputId": "95b82b19-5656-4863-ce5f-b990c9e3e425",
        "colab": {
          "base_uri": "https://localhost:8080/",
          "height": 34
        }
      },
      "source": [
        "print(f(g(h(x)))) #composicion de funciones"
      ],
      "execution_count": 0,
      "outputs": [
        {
          "output_type": "stream",
          "text": [
            "4.123105625617661\n"
          ],
          "name": "stdout"
        }
      ]
    },
    {
      "cell_type": "code",
      "metadata": {
        "id": "T5nIm393Lwlk",
        "colab_type": "code",
        "colab": {}
      },
      "source": [
        "data=[1, 2, 3, 4, 5]"
      ],
      "execution_count": 0,
      "outputs": []
    },
    {
      "cell_type": "code",
      "metadata": {
        "id": "LuPBgr9eL8O_",
        "colab_type": "code",
        "outputId": "705dd135-6cfd-4973-d6c1-b2272669e847",
        "colab": {
          "base_uri": "https://localhost:8080/",
          "height": 101
        }
      },
      "source": [
        "for x in data:\n",
        "  print(f(g(h(x))))"
      ],
      "execution_count": 0,
      "outputs": [
        {
          "output_type": "stream",
          "text": [
            "1.4142135623730951\n",
            "2.23606797749979\n",
            "3.1622776601683795\n",
            "4.123105625617661\n",
            "5.0990195135927845\n"
          ],
          "name": "stdout"
        }
      ]
    },
    {
      "cell_type": "code",
      "metadata": {
        "id": "m7wF7fM4MJhF",
        "colab_type": "code",
        "outputId": "ad512464-1cf2-4ca3-9809-4e22ad14028a",
        "colab": {
          "base_uri": "https://localhost:8080/",
          "height": 134
        }
      },
      "source": [
        "%%time\n",
        "[f(g(h(x))) for x in data] # comprension de listas"
      ],
      "execution_count": 0,
      "outputs": [
        {
          "output_type": "stream",
          "text": [
            "CPU times: user 10 µs, sys: 2 µs, total: 12 µs\n",
            "Wall time: 14.8 µs\n"
          ],
          "name": "stdout"
        },
        {
          "output_type": "execute_result",
          "data": {
            "text/plain": [
              "[1.4142135623730951,\n",
              " 2.23606797749979,\n",
              " 3.1622776601683795,\n",
              " 4.123105625617661,\n",
              " 5.0990195135927845]"
            ]
          },
          "metadata": {
            "tags": []
          },
          "execution_count": 11
        }
      ]
    },
    {
      "cell_type": "markdown",
      "metadata": {
        "id": "TByzgqGGNgmN",
        "colab_type": "text"
      },
      "source": [
        "la lista anterior se genera secuencialmente, como la podemos generar en forma paralela?\n"
      ]
    },
    {
      "cell_type": "code",
      "metadata": {
        "id": "6fOOkGeHNmld",
        "colab_type": "code",
        "colab": {}
      },
      "source": [
        "from dask import delayed"
      ],
      "execution_count": 0,
      "outputs": []
    },
    {
      "cell_type": "code",
      "metadata": {
        "id": "5N1RYXH3N8X4",
        "colab_type": "code",
        "colab": {}
      },
      "source": [
        "x=4\n",
        "y = delayed(h)(x) \n",
        "z=delayed(g)(y)\n",
        "w=delayed(f)(z)"
      ],
      "execution_count": 0,
      "outputs": []
    },
    {
      "cell_type": "code",
      "metadata": {
        "id": "ixlg75RNOSr6",
        "colab_type": "code",
        "outputId": "3e30c0b9-705d-4616-ebb7-5c84b53050f1",
        "colab": {
          "base_uri": "https://localhost:8080/",
          "height": 34
        }
      },
      "source": [
        "print(w)"
      ],
      "execution_count": 0,
      "outputs": [
        {
          "output_type": "stream",
          "text": [
            "Delayed('f-3585c13f-0bab-46b6-bc8c-e2f79f374568')\n"
          ],
          "name": "stdout"
        }
      ]
    },
    {
      "cell_type": "code",
      "metadata": {
        "id": "lZ2WLhW6OYYM",
        "colab_type": "code",
        "outputId": "9c35f15f-5873-4856-cab5-6c5b6a667fb1",
        "colab": {
          "base_uri": "https://localhost:8080/",
          "height": 34
        }
      },
      "source": [
        "type(w)"
      ],
      "execution_count": 0,
      "outputs": [
        {
          "output_type": "execute_result",
          "data": {
            "text/plain": [
              "dask.delayed.Delayed"
            ]
          },
          "metadata": {
            "tags": []
          },
          "execution_count": 16
        }
      ]
    },
    {
      "cell_type": "code",
      "metadata": {
        "id": "sfSCpUghOi1Q",
        "colab_type": "code",
        "outputId": "8bd338b8-486a-4749-8551-f883d5c514c7",
        "colab": {
          "base_uri": "https://localhost:8080/",
          "height": 34
        }
      },
      "source": [
        "w.compute()"
      ],
      "execution_count": 0,
      "outputs": [
        {
          "output_type": "execute_result",
          "data": {
            "text/plain": [
              "4.123105625617661"
            ]
          },
          "metadata": {
            "tags": []
          },
          "execution_count": 18
        }
      ]
    },
    {
      "cell_type": "code",
      "metadata": {
        "id": "d9KAbVO2OshQ",
        "colab_type": "code",
        "outputId": "e8ece741-0856-4231-ff41-75b8581a39dd",
        "colab": {
          "base_uri": "https://localhost:8080/",
          "height": 76
        }
      },
      "source": [
        "w.visualize(rankdir='LR')"
      ],
      "execution_count": 0,
      "outputs": [
        {
          "output_type": "execute_result",
          "data": {
            "image/png": "[encoded data removed]",
            "text/plain": [
              "<IPython.core.display.Image object>"
            ]
          },
          "metadata": {
            "tags": []
          },
          "execution_count": 20
        }
      ]
    },
    {
      "cell_type": "code",
      "metadata": {
        "id": "xUQuACCCQU7n",
        "colab_type": "code",
        "colab": {}
      },
      "source": [
        "def f(x):\n",
        "  return sqrt(x+4)\n",
        "f= delayed(f)"
      ],
      "execution_count": 0,
      "outputs": []
    },
    {
      "cell_type": "code",
      "metadata": {
        "id": "8M2C3vXeQu5n",
        "colab_type": "code",
        "outputId": "b7bd7fe2-5fe0-48ae-e09e-8eb5454ed89a",
        "colab": {
          "base_uri": "https://localhost:8080/",
          "height": 34
        }
      },
      "source": [
        "@delayed\n",
        "def f(x):\n",
        "  return sqrt(x+4)\n",
        "\n",
        "print(type(f))"
      ],
      "execution_count": 0,
      "outputs": [
        {
          "output_type": "stream",
          "text": [
            "<class 'dask.delayed.DelayedLeaf'>\n"
          ],
          "name": "stdout"
        }
      ]
    },
    {
      "cell_type": "markdown",
      "metadata": {
        "id": "_B5pSGKbRJZd",
        "colab_type": "text"
      },
      "source": [
        "ejemplo usando decoradores"
      ]
    },
    {
      "cell_type": "code",
      "metadata": {
        "id": "qSe8ZLjQRjBN",
        "colab_type": "code",
        "outputId": "27a0d7af-3249-441f-86fa-ac619904b4ac",
        "colab": {
          "base_uri": "https://localhost:8080/",
          "height": 34
        }
      },
      "source": [
        "data"
      ],
      "execution_count": 0,
      "outputs": [
        {
          "output_type": "execute_result",
          "data": {
            "text/plain": [
              "[1, 2, 3, 4, 5]"
            ]
          },
          "metadata": {
            "tags": []
          },
          "execution_count": 26
        }
      ]
    },
    {
      "cell_type": "code",
      "metadata": {
        "id": "2Cl9wePFRlRp",
        "colab_type": "code",
        "colab": {}
      },
      "source": [
        "output = []\n",
        "for x in data:\n",
        "  a= incrementa(x)\n",
        "  b=dobla(x)\n",
        "  c=suma(a, b)\n",
        "  output.append(c)"
      ],
      "execution_count": 0,
      "outputs": []
    },
    {
      "cell_type": "code",
      "metadata": {
        "id": "DYTE85DfSCze",
        "colab_type": "code",
        "outputId": "808958d8-a4a9-45f3-f370-c82f24d577a4",
        "colab": {
          "base_uri": "https://localhost:8080/",
          "height": 34
        }
      },
      "source": [
        "type(output)"
      ],
      "execution_count": 0,
      "outputs": [
        {
          "output_type": "execute_result",
          "data": {
            "text/plain": [
              "list"
            ]
          },
          "metadata": {
            "tags": []
          },
          "execution_count": 28
        }
      ]
    },
    {
      "cell_type": "code",
      "metadata": {
        "id": "JTtYOON6SJcJ",
        "colab_type": "code",
        "outputId": "640c96df-91f4-4342-8199-cf8df564b7bd",
        "colab": {
          "base_uri": "https://localhost:8080/",
          "height": 101
        }
      },
      "source": [
        "output"
      ],
      "execution_count": 0,
      "outputs": [
        {
          "output_type": "execute_result",
          "data": {
            "text/plain": [
              "[Delayed('suma-fa8910ed-25cb-4bde-9a5c-6831ebbf9674'),\n",
              " Delayed('suma-353056f0-bfc9-4858-9632-a615bddd675d'),\n",
              " Delayed('suma-b2ceae9d-46f6-4fac-8bb8-1f5890f1e488'),\n",
              " Delayed('suma-f1505989-efd3-45ae-9fce-352ab3df393e'),\n",
              " Delayed('suma-ecd04527-fd2a-4a52-8a7f-b02204dfac02')]"
            ]
          },
          "metadata": {
            "tags": []
          },
          "execution_count": 29
        }
      ]
    },
    {
      "cell_type": "code",
      "metadata": {
        "id": "N5opZ80-SQkc",
        "colab_type": "code",
        "outputId": "bb2bb8b5-3dbd-4761-f701-33b8af0fa8fa",
        "colab": {
          "base_uri": "https://localhost:8080/",
          "height": 34
        }
      },
      "source": [
        "total= sum(output)\n",
        "type(total)"
      ],
      "execution_count": 0,
      "outputs": [
        {
          "output_type": "execute_result",
          "data": {
            "text/plain": [
              "dask.delayed.Delayed"
            ]
          },
          "metadata": {
            "tags": []
          },
          "execution_count": 30
        }
      ]
    },
    {
      "cell_type": "code",
      "metadata": {
        "id": "es0lglQCSf0T",
        "colab_type": "code",
        "colab": {}
      },
      "source": [
        "total.visualize(rankdir='LR')"
      ],
      "execution_count": 0,
      "outputs": []
    },
    {
      "cell_type": "code",
      "metadata": {
        "id": "YxcZDHh-UY_l",
        "colab_type": "code",
        "outputId": "2a7174ae-6d18-4a9f-b484-6c50589dee8a",
        "colab": {
          "base_uri": "https://localhost:8080/",
          "height": 34
        }
      },
      "source": [
        "sum([res.compute() for res in output])"
      ],
      "execution_count": 0,
      "outputs": [
        {
          "output_type": "execute_result",
          "data": {
            "text/plain": [
              "50"
            ]
          },
          "metadata": {
            "tags": []
          },
          "execution_count": 36
        }
      ]
    },
    {
      "cell_type": "code",
      "metadata": {
        "id": "ut64J8F2Tk2K",
        "colab_type": "code",
        "outputId": "cb171bd6-eeba-46bd-ee31-1a300e90d6cc",
        "colab": {
          "base_uri": "https://localhost:8080/",
          "height": 34
        }
      },
      "source": [
        "total.compute()"
      ],
      "execution_count": 0,
      "outputs": [
        {
          "output_type": "execute_result",
          "data": {
            "text/plain": [
              "50"
            ]
          },
          "metadata": {
            "tags": []
          },
          "execution_count": 32
        }
      ]
    },
    {
      "cell_type": "code",
      "metadata": {
        "id": "buvC1T41RLjG",
        "colab_type": "code",
        "colab": {}
      },
      "source": [
        "#@delayed\n",
        "def incrementa(x):\n",
        "  return x+1\n",
        "\n",
        "#@delayed\n",
        "def dobla(x):\n",
        "  return 2*x\n",
        "\n",
        "#@delayed\n",
        "def suma(x, y):\n",
        "  return x+y\n"
      ],
      "execution_count": 0,
      "outputs": []
    },
    {
      "cell_type": "code",
      "metadata": {
        "id": "BDIdSTiUVkbz",
        "colab_type": "code",
        "outputId": "e38ae8e8-256c-4753-c2b4-add3d9ab8cec",
        "colab": {
          "base_uri": "https://localhost:8080/",
          "height": 34
        }
      },
      "source": [
        "type(suma)"
      ],
      "execution_count": 0,
      "outputs": [
        {
          "output_type": "execute_result",
          "data": {
            "text/plain": [
              "function"
            ]
          },
          "metadata": {
            "tags": []
          },
          "execution_count": 38
        }
      ]
    },
    {
      "cell_type": "code",
      "metadata": {
        "id": "thDriCWkVKIo",
        "colab_type": "code",
        "outputId": "36c38f14-0464-437b-868a-bde5a1f3892b",
        "colab": {
          "base_uri": "https://localhost:8080/",
          "height": 50
        }
      },
      "source": [
        "%%time\n",
        "a=delayed(incrementa)(1)\n",
        "b=delayed(dobla)(2)\n",
        "c=delayed(suma)(a, b)\n"
      ],
      "execution_count": 0,
      "outputs": [
        {
          "output_type": "stream",
          "text": [
            "CPU times: user 613 µs, sys: 137 µs, total: 750 µs\n",
            "Wall time: 618 µs\n"
          ],
          "name": "stdout"
        }
      ]
    },
    {
      "cell_type": "code",
      "metadata": {
        "id": "NkGDUr4BWKiy",
        "colab_type": "code",
        "outputId": "851bdf22-2164-4b9a-8682-08be7854e593",
        "colab": {
          "base_uri": "https://localhost:8080/",
          "height": 67
        }
      },
      "source": [
        "%%time\n",
        "c.compute()"
      ],
      "execution_count": 0,
      "outputs": [
        {
          "output_type": "stream",
          "text": [
            "CPU times: user 1.69 ms, sys: 1.17 ms, total: 2.86 ms\n",
            "Wall time: 2.48 ms\n"
          ],
          "name": "stdout"
        },
        {
          "output_type": "execute_result",
          "data": {
            "text/plain": [
              "6"
            ]
          },
          "metadata": {
            "tags": []
          },
          "execution_count": 43
        }
      ]
    },
    {
      "cell_type": "code",
      "metadata": {
        "id": "vQixmqxNXi7R",
        "colab_type": "code",
        "colab": {}
      },
      "source": [
        "import numpy as np\n",
        "import pandas as pd\n",
        "import psutil, os\n",
        "from time import time\n",
        "def huella_de_memoria():\n",
        "  '''regresa la memoria usada por un proceso en python'''\n",
        "  mem= psutil.Process(os.getpid()).memory_info().rss\n",
        "  return (mem / 1024**2)"
      ],
      "execution_count": 0,
      "outputs": []
    },
    {
      "cell_type": "code",
      "metadata": {
        "id": "8wLDerlGY0Dw",
        "colab_type": "code",
        "colab": {}
      },
      "source": [
        "from time import sleep\n",
        "def inc(x):\n",
        "  sleep(1)\n",
        "  return x+1"
      ],
      "execution_count": 0,
      "outputs": []
    },
    {
      "cell_type": "code",
      "metadata": {
        "id": "HjzJfIRAbK_-",
        "colab_type": "code",
        "outputId": "a812f089-9763-4d41-8d4e-dded7303fc75",
        "colab": {
          "base_uri": "https://localhost:8080/",
          "height": 50
        }
      },
      "source": [
        "%%time\n",
        "res = []\n",
        "for x in data:\n",
        "  y= inc(x)\n",
        "  res.append(y)\n",
        "\n",
        "total = sum(res)"
      ],
      "execution_count": 0,
      "outputs": [
        {
          "output_type": "stream",
          "text": [
            "CPU times: user 4.8 ms, sys: 3.5 ms, total: 8.3 ms\n",
            "Wall time: 5.01 s\n"
          ],
          "name": "stdout"
        }
      ]
    },
    {
      "cell_type": "code",
      "metadata": {
        "id": "zFealp5vb5DZ",
        "colab_type": "code",
        "outputId": "a8994e1e-5551-4727-d03b-b82c53e3e0cf",
        "colab": {
          "base_uri": "https://localhost:8080/",
          "height": 50
        }
      },
      "source": [
        "%%time \n",
        "res = []\n",
        "for x in data:\n",
        "  y= delayed(inc)(x)\n",
        "  res.append(y)\n",
        "\n",
        "total = delayed(sum)(res)\n",
        "total.compute()\n"
      ],
      "execution_count": 0,
      "outputs": [
        {
          "output_type": "stream",
          "text": [
            "CPU times: user 11.5 ms, sys: 1.55 ms, total: 13.1 ms\n",
            "Wall time: 3.02 s\n"
          ],
          "name": "stdout"
        }
      ]
    },
    {
      "cell_type": "code",
      "metadata": {
        "id": "djPHlTJlcd_N",
        "colab_type": "code",
        "outputId": "400694c0-9147-476f-83d8-2d610ef54dcb",
        "colab": {
          "base_uri": "https://localhost:8080/",
          "height": 398
        }
      },
      "source": [
        "total.visualize()"
      ],
      "execution_count": 0,
      "outputs": [
        {
          "output_type": "execute_result",
          "data": {
            "image/png": "[encoded data removed]",
            "text/plain": [
              "<IPython.core.display.Image object>"
            ]
          },
          "metadata": {
            "tags": []
          },
          "execution_count": 55
        }
      ]
    },
    {
      "cell_type": "markdown",
      "metadata": {
        "id": "nPhjWe5Ifx6k",
        "colab_type": "text"
      },
      "source": [
        "calcular el calculo siguiente entre generadores y usando delayed"
      ]
    },
    {
      "cell_type": "code",
      "metadata": {
        "id": "HgoVW1vRXnEP",
        "colab_type": "code",
        "colab": {}
      },
      "source": [
        "plantilla = 'yellow_tripdata_2018-{:02d}.csv'\n",
        "plantillaURL = 'wget https://s3.amazonaws.com/nyc-tlc/trip+data/'+plantilla\n",
        "comandos= [plantillaURL.format(y) for y in range(1,13)]\n",
        "for cmd in comandos:\n",
        "  os.system(cmd)"
      ],
      "execution_count": 0,
      "outputs": []
    },
    {
      "cell_type": "code",
      "metadata": {
        "id": "AXtDYVO8cxXC",
        "colab_type": "code",
        "colab": {}
      },
      "source": [
        "@delayed\n",
        "def cuenta_viajes_tardados(df):\n",
        "  df['duracion'] =(df.tpep_dropoff_datetime - df.tpep_pickup_datetime).dt.seconds\n",
        "  es_viaje_tardado = df.duracion > 1200\n",
        "  result_dict = {'n_long': [sum(es_viaje_tardado)],\n",
        "                'n_total': [len(df)]}\n",
        "  return pd.DataFrame(result_dict)\n",
        "\n",
        "@delayed\n",
        "def abre_archivo(nombre):\n",
        "  return pd.read_csv(nombre, parse_dates=[1,2])"
      ],
      "execution_count": 0,
      "outputs": []
    },
    {
      "cell_type": "code",
      "metadata": {
        "id": "doLxvfIld8RQ",
        "colab_type": "code",
        "colab": {}
      },
      "source": [
        "archivos = (plantilla.format(y) for y in range(1,7))"
      ],
      "execution_count": 0,
      "outputs": []
    },
    {
      "cell_type": "code",
      "metadata": {
        "id": "PygHBPfhdZRS",
        "colab_type": "code",
        "colab": {}
      },
      "source": [
        "totales= (cuenta_viajes_tardados(abre_archivo(archivo)) for archivo in archivos)"
      ],
      "execution_count": 0,
      "outputs": []
    },
    {
      "cell_type": "code",
      "metadata": {
        "id": "sg1khE4deLc8",
        "colab_type": "code",
        "colab": {}
      },
      "source": [
        "semi_anuales = sum(totales)"
      ],
      "execution_count": 0,
      "outputs": []
    },
    {
      "cell_type": "code",
      "metadata": {
        "id": "7Zg35vJ1eUXv",
        "colab_type": "code",
        "outputId": "e85876de-618b-4654-e16a-fa7bcdd25bc0",
        "colab": {
          "base_uri": "https://localhost:8080/",
          "height": 110
        }
      },
      "source": [
        "%%time\n",
        "semi_anuales.compute()"
      ],
      "execution_count": 0,
      "outputs": [
        {
          "output_type": "stream",
          "text": [
            "CPU times: user 3min 28s, sys: 12.9 s, total: 3min 40s\n",
            "Wall time: 4min 1s\n"
          ],
          "name": "stdout"
        },
        {
          "output_type": "execute_result",
          "data": {
            "text/html": [
              "<div>\n",
              "<style scoped>\n",
              "    .dataframe tbody tr th:only-of-type {\n",
              "        vertical-align: middle;\n",
              "    }\n",
              "\n",
              "    .dataframe tbody tr th {\n",
              "        vertical-align: top;\n",
              "    }\n",
              "\n",
              "    .dataframe thead th {\n",
              "        text-align: right;\n",
              "    }\n",
              "</style>\n",
              "<table border=\"1\" class=\"dataframe\">\n",
              "  <thead>\n",
              "    <tr style=\"text-align: right;\">\n",
              "      <th></th>\n",
              "      <th>n_long</th>\n",
              "      <th>n_total</th>\n",
              "    </tr>\n",
              "  </thead>\n",
              "  <tbody>\n",
              "    <tr>\n",
              "      <th>0</th>\n",
              "      <td>10954358</td>\n",
              "      <td>53925735</td>\n",
              "    </tr>\n",
              "  </tbody>\n",
              "</table>\n",
              "</div>"
            ],
            "text/plain": [
              "     n_long   n_total\n",
              "0  10954358  53925735"
            ]
          },
          "metadata": {
            "tags": []
          },
          "execution_count": 67
        }
      ]
    },
    {
      "cell_type": "markdown",
      "metadata": {
        "id": "Ux8ovL0qgd3V",
        "colab_type": "text"
      },
      "source": [
        "# arreglos y matrices usando dask\n"
      ]
    },
    {
      "cell_type": "code",
      "metadata": {
        "id": "gbGfMoeAgh7M",
        "colab_type": "code",
        "colab": {}
      },
      "source": [
        "import numpy as np"
      ],
      "execution_count": 0,
      "outputs": []
    },
    {
      "cell_type": "code",
      "metadata": {
        "id": "g40WGanYgkjA",
        "colab_type": "code",
        "colab": {}
      },
      "source": [
        "a= np.random.rand(10000)"
      ],
      "execution_count": 0,
      "outputs": []
    },
    {
      "cell_type": "code",
      "metadata": {
        "id": "Imw5aocyhP0n",
        "colab_type": "code",
        "outputId": "e22d762e-88ea-408f-feec-e3da0df7921b",
        "colab": {
          "base_uri": "https://localhost:8080/",
          "height": 34
        }
      },
      "source": [
        "print(a.shape, a.dtype, a.nbytes)"
      ],
      "execution_count": 5,
      "outputs": [
        {
          "output_type": "stream",
          "text": [
            "(10000,) float64 80000\n"
          ],
          "name": "stdout"
        }
      ]
    },
    {
      "cell_type": "code",
      "metadata": {
        "id": "Uox8a-RyhgTA",
        "colab_type": "code",
        "outputId": "b3cb4d9a-563e-4218-a10c-9e020f2eee95",
        "colab": {
          "base_uri": "https://localhost:8080/",
          "height": 34
        }
      },
      "source": [
        "a.sum()"
      ],
      "execution_count": 6,
      "outputs": [
        {
          "output_type": "execute_result",
          "data": {
            "text/plain": [
              "4977.7777339229415"
            ]
          },
          "metadata": {
            "tags": []
          },
          "execution_count": 6
        }
      ]
    },
    {
      "cell_type": "code",
      "metadata": {
        "id": "CzQeftNlhsCb",
        "colab_type": "code",
        "outputId": "350758c4-47f4-4c05-aa02-25c17e72618e",
        "colab": {
          "base_uri": "https://localhost:8080/",
          "height": 34
        }
      },
      "source": [
        "a.mean()"
      ],
      "execution_count": 7,
      "outputs": [
        {
          "output_type": "execute_result",
          "data": {
            "text/plain": [
              "0.4977777733922941"
            ]
          },
          "metadata": {
            "tags": []
          },
          "execution_count": 7
        }
      ]
    },
    {
      "cell_type": "code",
      "metadata": {
        "id": "tw01PlwrhvLo",
        "colab_type": "code",
        "colab": {}
      },
      "source": [
        "import dask.array as da"
      ],
      "execution_count": 0,
      "outputs": []
    },
    {
      "cell_type": "code",
      "metadata": {
        "id": "dwx0FPx9h0rW",
        "colab_type": "code",
        "colab": {}
      },
      "source": [
        "a_dask = da.from_array(a, chunks=len(a)//6)"
      ],
      "execution_count": 0,
      "outputs": []
    },
    {
      "cell_type": "code",
      "metadata": {
        "id": "HAWlm8xOiY8u",
        "colab_type": "code",
        "outputId": "65f7d4f9-5763-48ad-a55a-3852886d7f8a",
        "colab": {
          "base_uri": "https://localhost:8080/",
          "height": 34
        }
      },
      "source": [
        "type(a_dask)"
      ],
      "execution_count": 10,
      "outputs": [
        {
          "output_type": "execute_result",
          "data": {
            "text/plain": [
              "dask.array.core.Array"
            ]
          },
          "metadata": {
            "tags": []
          },
          "execution_count": 10
        }
      ]
    },
    {
      "cell_type": "code",
      "metadata": {
        "id": "TX2wbg9wibzL",
        "colab_type": "code",
        "outputId": "77e1e173-9a7f-4dae-9211-0a8a6e2708b2",
        "colab": {
          "base_uri": "https://localhost:8080/",
          "height": 34
        }
      },
      "source": [
        "a_dask.chunks"
      ],
      "execution_count": 24,
      "outputs": [
        {
          "output_type": "execute_result",
          "data": {
            "text/plain": [
              "((1111, 1111, 1111, 1111, 1111, 1111, 1111, 1111, 1111, 1),)"
            ]
          },
          "metadata": {
            "tags": []
          },
          "execution_count": 24
        }
      ]
    },
    {
      "cell_type": "code",
      "metadata": {
        "id": "Uu2wcNfQijKg",
        "colab_type": "code",
        "colab": {}
      },
      "source": [
        "n_chunks=8\n",
        "chunk_size=len(a)// n_chunks\n",
        "result=0\n"
      ],
      "execution_count": 0,
      "outputs": []
    },
    {
      "cell_type": "code",
      "metadata": {
        "id": "DYuq7ph6jH7L",
        "colab_type": "code",
        "colab": {}
      },
      "source": [
        "for k in range(n_chunks):\n",
        "  offset = k*chunk_size\n",
        "  a_chunk = a[offset:offset+chunk_size]\n",
        "  result += a_chunk.sum()\n",
        "  "
      ],
      "execution_count": 0,
      "outputs": []
    },
    {
      "cell_type": "code",
      "metadata": {
        "id": "VqoVnU2fkw3F",
        "colab_type": "code",
        "outputId": "6ba72401-8c82-46a3-f108-ae4fa5fa5831",
        "colab": {
          "base_uri": "https://localhost:8080/",
          "height": 34
        }
      },
      "source": [
        "print(result)"
      ],
      "execution_count": 14,
      "outputs": [
        {
          "output_type": "stream",
          "text": [
            "4977.7777339229415\n"
          ],
          "name": "stdout"
        }
      ]
    },
    {
      "cell_type": "code",
      "metadata": {
        "id": "UQDmUN7Mk1rx",
        "colab_type": "code",
        "outputId": "31ea22e4-7cf4-4b38-d1b0-54f077d8e2d6",
        "colab": {
          "base_uri": "https://localhost:8080/",
          "height": 34
        }
      },
      "source": [
        "a.sum()"
      ],
      "execution_count": 15,
      "outputs": [
        {
          "output_type": "execute_result",
          "data": {
            "text/plain": [
              "4977.7777339229415"
            ]
          },
          "metadata": {
            "tags": []
          },
          "execution_count": 15
        }
      ]
    },
    {
      "cell_type": "code",
      "metadata": {
        "id": "wzmJKlUJk37M",
        "colab_type": "code",
        "colab": {}
      },
      "source": [
        "result_dask = a_dask.sum()"
      ],
      "execution_count": 0,
      "outputs": []
    },
    {
      "cell_type": "code",
      "metadata": {
        "id": "ygr8CeZbk_kN",
        "colab_type": "code",
        "outputId": "7c6533c6-90a9-4073-d094-cff79ef35a10",
        "colab": {
          "base_uri": "https://localhost:8080/",
          "height": 34
        }
      },
      "source": [
        "result_dask"
      ],
      "execution_count": 35,
      "outputs": [
        {
          "output_type": "execute_result",
          "data": {
            "text/plain": [
              "dask.array<sum-aggregate, shape=(), dtype=float64, chunksize=()>"
            ]
          },
          "metadata": {
            "tags": []
          },
          "execution_count": 35
        }
      ]
    },
    {
      "cell_type": "code",
      "metadata": {
        "id": "xtQ5EOsFlB1B",
        "colab_type": "code",
        "outputId": "86936e3a-1e4d-42c9-dfb5-7ed0ba52c780",
        "colab": {
          "base_uri": "https://localhost:8080/",
          "height": 34
        }
      },
      "source": [
        "result_dask.compute()"
      ],
      "execution_count": 36,
      "outputs": [
        {
          "output_type": "execute_result",
          "data": {
            "text/plain": [
              "4977.7777339229415"
            ]
          },
          "metadata": {
            "tags": []
          },
          "execution_count": 36
        }
      ]
    },
    {
      "cell_type": "code",
      "metadata": {
        "id": "0bCEOddnlRAU",
        "colab_type": "code",
        "colab": {
          "base_uri": "https://localhost:8080/",
          "height": 714
        },
        "outputId": "f9ae223d-3938-4a2c-960a-a562d3b35c7f"
      },
      "source": [
        "result_dask.visualize(rankdir='LR')"
      ],
      "execution_count": 37,
      "outputs": [
        {
          "output_type": "execute_result",
          "data": {
            "image/png": "[encoded data removed]",
            "text/plain": [
              "<IPython.core.display.Image object>"
            ]
          },
          "metadata": {
            "tags": []
          },
          "execution_count": 37
        }
      ]
    },
    {
      "cell_type": "markdown",
      "metadata": {
        "id": "rhf-Qb7ulvJU",
        "colab_type": "text"
      },
      "source": [
        "tarea cuantificar tiempos, y como se veria modificada la tabla si se divide de otra forma"
      ]
    },
    {
      "cell_type": "markdown",
      "metadata": {
        "id": "LDmodc3_nCf9",
        "colab_type": "text"
      },
      "source": [
        "medir el tiempo de computo sobre arreglos"
      ]
    },
    {
      "cell_type": "code",
      "metadata": {
        "id": "qMRWv5dSnF0T",
        "colab_type": "code",
        "outputId": "7d1fffa7-7ae1-4510-8060-0e04643ee030",
        "colab": {
          "base_uri": "https://localhost:8080/",
          "height": 352
        }
      },
      "source": [
        "!wget https://www.gw-osc.org/archive/data/S5/814743552/H-H1_LOSC_4_V1-815411200-4096.hdf5"
      ],
      "execution_count": 28,
      "outputs": [
        {
          "output_type": "stream",
          "text": [
            "--2019-05-27 21:57:38--  https://www.gw-osc.org/archive/data/S5/814743552/H-H1_LOSC_4_V1-815411200-4096.hdf5\n",
            "Resolving www.gw-osc.org (www.gw-osc.org)... 131.215.125.179\n",
            "Connecting to www.gw-osc.org (www.gw-osc.org)|131.215.125.179|:443... connected.\n",
            "HTTP request sent, awaiting response... 302 Found\n",
            "Location: https://www.gw-openscience.org/archive/data/S5/814743552/H-H1_LOSC_4_V1-815411200-4096.hdf5 [following]\n",
            "--2019-05-27 21:57:38--  https://www.gw-openscience.org/archive/data/S5/814743552/H-H1_LOSC_4_V1-815411200-4096.hdf5\n",
            "Resolving www.gw-openscience.org (www.gw-openscience.org)... 131.215.125.179\n",
            "Connecting to www.gw-openscience.org (www.gw-openscience.org)|131.215.125.179|:443... connected.\n",
            "HTTP request sent, awaiting response... 301 Moved Permanently\n",
            "Location: /archive/data/S5/814743552/H-H1_LOSC_4_V1-815411200-4096.hdf5/ [following]\n",
            "--2019-05-27 21:57:38--  https://www.gw-openscience.org/archive/data/S5/814743552/H-H1_LOSC_4_V1-815411200-4096.hdf5/\n",
            "Reusing existing connection to www.gw-openscience.org:443.\n",
            "HTTP request sent, awaiting response... 200 OK\n",
            "Length: 95071329 (91M) [application/octet-stream]\n",
            "Saving to: ‘H-H1_LOSC_4_V1-815411200-4096.hdf5.1’\n",
            "\n",
            "H-H1_LOSC_4_V1-8154 100%[===================>]  90.67M  83.9MB/s    in 1.1s    \n",
            "\n",
            "2019-05-27 21:57:39 (83.9 MB/s) - ‘H-H1_LOSC_4_V1-815411200-4096.hdf5.1’ saved [95071329/95071329]\n",
            "\n"
          ],
          "name": "stdout"
        }
      ]
    },
    {
      "cell_type": "code",
      "metadata": {
        "id": "qq1LfVY_nyfF",
        "colab_type": "code",
        "colab": {}
      },
      "source": [
        "!cp H-H1_LOSC_4_V1-815411200-4096.hdf5 LIGO_data.hdf5"
      ],
      "execution_count": 0,
      "outputs": []
    },
    {
      "cell_type": "code",
      "metadata": {
        "id": "3gTdD2E9oABk",
        "colab_type": "code",
        "colab": {}
      },
      "source": [
        "import h5py, time"
      ],
      "execution_count": 0,
      "outputs": []
    },
    {
      "cell_type": "code",
      "metadata": {
        "id": "esixmfcVTRnG",
        "colab_type": "code",
        "colab": {
          "base_uri": "https://localhost:8080/",
          "height": 151
        },
        "outputId": "a6f17323-f3f6-4ac0-bd90-8d382aa13452"
      },
      "source": [
        "ls"
      ],
      "execution_count": 2,
      "outputs": [
        {
          "output_type": "stream",
          "text": [
            "H-H1_LOSC_4_V1-815411200-4096.hdf5  yellow_tripdata_2018-05.csv\n",
            "LIGO_data.hdf5                      yellow_tripdata_2018-06.csv\n",
            "mydask.png                          yellow_tripdata_2018-07.csv\n",
            "\u001b[0m\u001b[01;34msample_data\u001b[0m/                        yellow_tripdata_2018-08.csv\n",
            "yellow_tripdata_2018-01.csv         yellow_tripdata_2018-09.csv\n",
            "yellow_tripdata_2018-02.csv         yellow_tripdata_2018-10.csv\n",
            "yellow_tripdata_2018-03.csv         yellow_tripdata_2018-11.csv\n",
            "yellow_tripdata_2018-04.csv         yellow_tripdata_2018-12.csv\n"
          ],
          "name": "stdout"
        }
      ]
    },
    {
      "cell_type": "code",
      "metadata": {
        "id": "t0U7tDHfoEJQ",
        "colab_type": "code",
        "outputId": "0aca8297-e551-4d25-afb3-1c9faf122ef2",
        "colab": {
          "base_uri": "https://localhost:8080/",
          "height": 34
        }
      },
      "source": [
        "datos= h5py.File('./LIGO_data.hdf5')\n",
        "type(datos)"
      ],
      "execution_count": 5,
      "outputs": [
        {
          "output_type": "execute_result",
          "data": {
            "text/plain": [
              "h5py._hl.files.File"
            ]
          },
          "metadata": {
            "tags": []
          },
          "execution_count": 5
        }
      ]
    },
    {
      "cell_type": "code",
      "metadata": {
        "id": "ArkawMM7oPGP",
        "colab_type": "code",
        "outputId": "a337a3bf-e7e8-4549-d681-bf9d205bc399",
        "colab": {
          "base_uri": "https://localhost:8080/",
          "height": 67
        }
      },
      "source": [
        "for key in datos.keys():\n",
        "  print(key)"
      ],
      "execution_count": 6,
      "outputs": [
        {
          "output_type": "stream",
          "text": [
            "meta\n",
            "quality\n",
            "strain\n"
          ],
          "name": "stdout"
        }
      ]
    },
    {
      "cell_type": "code",
      "metadata": {
        "id": "qPYeIngsoVQ2",
        "colab_type": "code",
        "colab": {}
      },
      "source": [
        "with h5py.File('./LIGO_data.hdf5') as dset:\n",
        "  strain =dset['strain']['Strain'][:]"
      ],
      "execution_count": 0,
      "outputs": []
    },
    {
      "cell_type": "code",
      "metadata": {
        "id": "uM2kmg8Hoy8m",
        "colab_type": "code",
        "outputId": "639ca0e0-8aa3-4007-8f1c-ba89aeeab216",
        "colab": {
          "base_uri": "https://localhost:8080/",
          "height": 34
        }
      },
      "source": [
        "strain.shape"
      ],
      "execution_count": 8,
      "outputs": [
        {
          "output_type": "execute_result",
          "data": {
            "text/plain": [
              "(16777216,)"
            ]
          },
          "metadata": {
            "tags": []
          },
          "execution_count": 8
        }
      ]
    },
    {
      "cell_type": "code",
      "metadata": {
        "id": "3Vi3xFw5o49Q",
        "colab_type": "code",
        "colab": {}
      },
      "source": [
        "strain_dask8 = da.from_array(strain, chunks=strain.shape[0]//8)"
      ],
      "execution_count": 0,
      "outputs": []
    },
    {
      "cell_type": "code",
      "metadata": {
        "id": "PjaWDHVbpOod",
        "colab_type": "code",
        "outputId": "11b97632-40c1-4551-bb3d-a998a43fe718",
        "colab": {
          "base_uri": "https://localhost:8080/",
          "height": 34
        }
      },
      "source": [
        "ti = time.time()\n",
        "promedio8= strain_dask8.mean().compute()\n",
        "tf = time.time()\n",
        "print('tiempo transcurrido: {} ms'.format((tf-ti)*1000))"
      ],
      "execution_count": 12,
      "outputs": [
        {
          "output_type": "stream",
          "text": [
            "tiempo transcurrido: 97.98026084899902 ms\n"
          ],
          "name": "stdout"
        }
      ]
    },
    {
      "cell_type": "code",
      "metadata": {
        "id": "uOUBwkn1WI_N",
        "colab_type": "code",
        "colab": {
          "base_uri": "https://localhost:8080/",
          "height": 162
        },
        "outputId": "5625fcab-619e-40bd-fa22-4ceae7886e0c"
      },
      "source": [
        "promedio8"
      ],
      "execution_count": 2,
      "outputs": [
        {
          "output_type": "error",
          "ename": "NameError",
          "evalue": "ignored",
          "traceback": [
            "\u001b[0;31m---------------------------------------------------------------------------\u001b[0m",
            "\u001b[0;31mNameError\u001b[0m                                 Traceback (most recent call last)",
            "\u001b[0;32m<ipython-input-2-216f32e0469e>\u001b[0m in \u001b[0;36m<module>\u001b[0;34m()\u001b[0m\n\u001b[0;32m----> 1\u001b[0;31m \u001b[0mpromedio8\u001b[0m\u001b[0;34m\u001b[0m\u001b[0;34m\u001b[0m\u001b[0m\n\u001b[0m",
            "\u001b[0;31mNameError\u001b[0m: name 'promedio8' is not defined"
          ]
        }
      ]
    },
    {
      "cell_type": "markdown",
      "metadata": {
        "id": "K92X2sd5p_I0",
        "colab_type": "text"
      },
      "source": [
        "medir el tiempo de ejecucion anterio usando como chunks de arreglo de dask 2,4,8,16,32 y comparara con los mismos usando numpy"
      ]
    },
    {
      "cell_type": "code",
      "metadata": {
        "id": "hWI1xbskqeDr",
        "colab_type": "code",
        "outputId": "e7be16cc-2637-4c5e-fe7d-aafd9b995d66",
        "colab": {
          "base_uri": "https://localhost:8080/",
          "height": 34
        }
      },
      "source": [
        "strain_dask8.chunks"
      ],
      "execution_count": 13,
      "outputs": [
        {
          "output_type": "execute_result",
          "data": {
            "text/plain": [
              "((2097152, 2097152, 2097152, 2097152, 2097152, 2097152, 2097152, 2097152),)"
            ]
          },
          "metadata": {
            "tags": []
          },
          "execution_count": 13
        }
      ]
    },
    {
      "cell_type": "code",
      "metadata": {
        "id": "bmFij-cjqhyt",
        "colab_type": "code",
        "outputId": "60dbbc3e-f1cb-4774-e1a5-800285d48098",
        "colab": {
          "base_uri": "https://localhost:8080/",
          "height": 34
        }
      },
      "source": [
        "strain[0:2097152].mean()\n",
        "strain[2097152:2*2097152].mean()"
      ],
      "execution_count": 14,
      "outputs": [
        {
          "output_type": "execute_result",
          "data": {
            "text/plain": [
              "-1.2622019494042042e-20"
            ]
          },
          "metadata": {
            "tags": []
          },
          "execution_count": 14
        }
      ]
    }
  ]
}