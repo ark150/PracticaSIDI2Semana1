{
  "nbformat": 4,
  "nbformat_minor": 0,
  "metadata": {
    "colab": {
      "name": "sistdist2 semana 2.ipynb",
      "version": "0.3.2",
      "provenance": [],
      "collapsed_sections": [],
      "include_colab_link": true
    },
    "kernelspec": {
      "name": "python3",
      "display_name": "Python 3"
    }
  },
  "cells": [
    {
      "cell_type": "markdown",
      "metadata": {
        "id": "view-in-github",
        "colab_type": "text"
      },
      "source": [
        "<a href=\"https://colab.research.google.com/github/ark150/PracticaSIDI2Semana1/blob/master/sistdist2_semana_2.ipynb\" target=\"_parent\"><img src=\"https://colab.research.google.com/assets/colab-badge.svg\" alt=\"Open In Colab\"/></a>"
      ]
    },
    {
      "cell_type": "markdown",
      "metadata": {
        "id": "6Nw2WWUs6b6W",
        "colab_type": "text"
      },
      "source": [
        "documento de practica de sistemas distribuidos semana 2\n"
      ]
    },
    {
      "cell_type": "markdown",
      "metadata": {
        "id": "rUp-264C65um",
        "colab_type": "text"
      },
      "source": [
        "# Resumen semana 1\n",
        "\n",
        "* como se gurada la informacion en la computadora, uso de memoria"
      ]
    },
    {
      "cell_type": "code",
      "metadata": {
        "id": "8HhAh5KF6VZP",
        "colab_type": "code",
        "colab": {}
      },
      "source": [
        "import numpy as np\n",
        "import pandas as pd\n",
        "import psutil, os\n",
        "def huella_de_memoria():\n",
        "  '''regresa la memoria usada por un proceso en python'''\n",
        "  mem= psutil.Process(os.getpid()).memory_info().rss\n",
        "  return (mem / 1024**2)"
      ],
      "execution_count": 0,
      "outputs": []
    },
    {
      "cell_type": "code",
      "metadata": {
        "id": "F6oOeDY-7-Bf",
        "colab_type": "code",
        "colab": {
          "base_uri": "https://localhost:8080/",
          "height": 50
        },
        "outputId": "243423c9-5e1b-4706-884d-8db7e6c48c25"
      },
      "source": [
        "antes = huella_de_memoria()\n",
        "N=(1024**2)//8\n",
        "x = np.random.rand(50*N)\n",
        "despues = huella_de_memoria()\n",
        "print(despues-antes)\n",
        "print(format(x.nbytes/ (1024**2)))"
      ],
      "execution_count": 3,
      "outputs": [
        {
          "output_type": "stream",
          "text": [
            "50.2578125\n",
            "50.0\n"
          ],
          "name": "stdout"
        }
      ]
    },
    {
      "cell_type": "code",
      "metadata": {
        "id": "7ITmVMFM8wfC",
        "colab_type": "code",
        "colab": {
          "base_uri": "https://localhost:8080/",
          "height": 50
        },
        "outputId": "18cd618d-f9cc-4500-b95c-b0a75b3809a3"
      },
      "source": [
        "antes=huella_de_memoria()\n",
        "x**2\n",
        "despues = huella_de_memoria()\n",
        "print(despues-antes)\n",
        "print(format(x.nbytes/ (1024**2)))"
      ],
      "execution_count": 5,
      "outputs": [
        {
          "output_type": "stream",
          "text": [
            "0.0\n",
            "50.0\n"
          ],
          "name": "stdout"
        }
      ]
    },
    {
      "cell_type": "code",
      "metadata": {
        "id": "AyjbAf9-87w8",
        "colab_type": "code",
        "colab": {
          "base_uri": "https://localhost:8080/",
          "height": 50
        },
        "outputId": "bf674bf7-c8da-4e22-ec69-71d1fd67e2e3"
      },
      "source": [
        "df = pd.DataFrame(x)\n",
        "print(format(df.memory_usage(index=False) / (1024**2)))"
      ],
      "execution_count": 6,
      "outputs": [
        {
          "output_type": "stream",
          "text": [
            "0    50.0\n",
            "dtype: float64\n"
          ],
          "name": "stdout"
        }
      ]
    },
    {
      "cell_type": "markdown",
      "metadata": {
        "id": "TuyKZuGz9TpW",
        "colab_type": "text"
      },
      "source": [
        "#semana 2\n",
        "comenzamos descargando los datos que usaremos\n",
        "\n",
        "https://www1.nyc.gov/site/tlc/about/tlc-trip-record-data.page"
      ]
    },
    {
      "cell_type": "markdown",
      "metadata": {
        "id": "To7TLl2ACagy",
        "colab_type": "text"
      },
      "source": [
        "Links de los datos: \n",
        "\n",
        "Enero:\n",
        "\n",
        "https://s3.amazonaws.com/nyc-tlc/trip+data/yellow_tripdata_2018-01.csv\n",
        "\n",
        "Julio:\n",
        "\n",
        "https://s3.amazonaws.com/nyc-tlc/trip+data/yellow_tripdata_2018-07.csv"
      ]
    },
    {
      "cell_type": "code",
      "metadata": {
        "id": "8-ZHybyk_Y8_",
        "colab_type": "code",
        "colab": {
          "base_uri": "https://localhost:8080/",
          "height": 202
        },
        "outputId": "33137d24-9127-4b1f-b517-117389322da1"
      },
      "source": [
        "!wget https://s3.amazonaws.com/nyc-tlc/trip+data/yellow_tripdata_2018-01.csv"
      ],
      "execution_count": 7,
      "outputs": [
        {
          "output_type": "stream",
          "text": [
            "--2019-05-14 15:53:11--  https://s3.amazonaws.com/nyc-tlc/trip+data/yellow_tripdata_2018-01.csv\n",
            "Resolving s3.amazonaws.com (s3.amazonaws.com)... 52.216.86.85\n",
            "Connecting to s3.amazonaws.com (s3.amazonaws.com)|52.216.86.85|:443... connected.\n",
            "HTTP request sent, awaiting response... 200 OK\n",
            "Length: 772098307 (736M) [text/csv]\n",
            "Saving to: ‘yellow_tripdata_2018-01.csv’\n",
            "\n",
            "yellow_tripdata_201 100%[===================>] 736.33M  95.3MB/s    in 7.7s    \n",
            "\n",
            "2019-05-14 15:53:19 (95.6 MB/s) - ‘yellow_tripdata_2018-01.csv’ saved [772098307/772098307]\n",
            "\n"
          ],
          "name": "stdout"
        }
      ]
    },
    {
      "cell_type": "code",
      "metadata": {
        "id": "1VmnDxDyDidr",
        "colab_type": "code",
        "colab": {
          "base_uri": "https://localhost:8080/",
          "height": 67
        },
        "outputId": "0e574370-0679-447b-8994-77d01d2a0f3b"
      },
      "source": [
        "ls -l"
      ],
      "execution_count": 9,
      "outputs": [
        {
          "output_type": "stream",
          "text": [
            "total 754012\n",
            "drwxr-xr-x 1 root root      4096 May  8 16:22 \u001b[0m\u001b[01;34msample_data\u001b[0m/\n",
            "-rw-r--r-- 1 root root 772098307 Aug  3  2018 yellow_tripdata_2018-01.csv\n"
          ],
          "name": "stdout"
        }
      ]
    },
    {
      "cell_type": "code",
      "metadata": {
        "id": "c7TSaAw9Dxyz",
        "colab_type": "code",
        "colab": {
          "base_uri": "https://localhost:8080/",
          "height": 34
        },
        "outputId": "f24bfd10-10b2-4f3b-b178-f2d4e3631ede"
      },
      "source": [
        "!wc -l yellow_tripdata_2018-01.csv"
      ],
      "execution_count": 10,
      "outputs": [
        {
          "output_type": "stream",
          "text": [
            "8759876 yellow_tripdata_2018-01.csv\n"
          ],
          "name": "stdout"
        }
      ]
    },
    {
      "cell_type": "markdown",
      "metadata": {
        "id": "Ymj1BNVFEVoe",
        "colab_type": "text"
      },
      "source": [
        "Vamos a escribir un programa para automatizar la descargar todo 2018 "
      ]
    },
    {
      "cell_type": "code",
      "metadata": {
        "id": "IW8KvdZKEUIx",
        "colab_type": "code",
        "colab": {}
      },
      "source": [
        "plantilla = 'yellow_tripdata_2018-{:02d}.csv'\n",
        "plantillaURL = 'wget https://s3.amazonaws.com/nyc-tlc/trip+data/'+plantilla"
      ],
      "execution_count": 0,
      "outputs": []
    },
    {
      "cell_type": "code",
      "metadata": {
        "id": "mchi1igiFBbJ",
        "colab_type": "code",
        "colab": {
          "base_uri": "https://localhost:8080/",
          "height": 218
        },
        "outputId": "e7b6e98e-8254-4509-87d2-8a88d7881ce7"
      },
      "source": [
        "for y in range(1,13):\n",
        "  print(plantillaURL.format(y))"
      ],
      "execution_count": 13,
      "outputs": [
        {
          "output_type": "stream",
          "text": [
            "wget https://s3.amazonaws.com/nyc-tlc/trip+data/yellow_tripdata_2018-01.csv\n",
            "wget https://s3.amazonaws.com/nyc-tlc/trip+data/yellow_tripdata_2018-02.csv\n",
            "wget https://s3.amazonaws.com/nyc-tlc/trip+data/yellow_tripdata_2018-03.csv\n",
            "wget https://s3.amazonaws.com/nyc-tlc/trip+data/yellow_tripdata_2018-04.csv\n",
            "wget https://s3.amazonaws.com/nyc-tlc/trip+data/yellow_tripdata_2018-05.csv\n",
            "wget https://s3.amazonaws.com/nyc-tlc/trip+data/yellow_tripdata_2018-06.csv\n",
            "wget https://s3.amazonaws.com/nyc-tlc/trip+data/yellow_tripdata_2018-07.csv\n",
            "wget https://s3.amazonaws.com/nyc-tlc/trip+data/yellow_tripdata_2018-08.csv\n",
            "wget https://s3.amazonaws.com/nyc-tlc/trip+data/yellow_tripdata_2018-09.csv\n",
            "wget https://s3.amazonaws.com/nyc-tlc/trip+data/yellow_tripdata_2018-10.csv\n",
            "wget https://s3.amazonaws.com/nyc-tlc/trip+data/yellow_tripdata_2018-11.csv\n",
            "wget https://s3.amazonaws.com/nyc-tlc/trip+data/yellow_tripdata_2018-12.csv\n"
          ],
          "name": "stdout"
        }
      ]
    },
    {
      "cell_type": "markdown",
      "metadata": {
        "id": "FYuTl-gwHAms",
        "colab_type": "text"
      },
      "source": [
        "Generar una lista"
      ]
    },
    {
      "cell_type": "code",
      "metadata": {
        "id": "dhH4PRk0F0Xa",
        "colab_type": "code",
        "colab": {}
      },
      "source": [
        "comandos= [plantillaURL.format(y) for y in range(1,13)]"
      ],
      "execution_count": 0,
      "outputs": []
    },
    {
      "cell_type": "markdown",
      "metadata": {
        "id": "nhno-X-bHEDx",
        "colab_type": "text"
      },
      "source": [
        "Generar un generador"
      ]
    },
    {
      "cell_type": "code",
      "metadata": {
        "id": "SV9vpRBaGIOm",
        "colab_type": "code",
        "colab": {
          "base_uri": "https://localhost:8080/",
          "height": 34
        },
        "outputId": "6c57a8e4-d825-4aa3-b777-566046b804e1"
      },
      "source": [
        "(plantillaURL.format(y) for y in range(1,13))"
      ],
      "execution_count": 17,
      "outputs": [
        {
          "output_type": "execute_result",
          "data": {
            "text/plain": [
              "<generator object <genexpr> at 0x7fd4fde03e60>"
            ]
          },
          "metadata": {
            "tags": []
          },
          "execution_count": 17
        }
      ]
    },
    {
      "cell_type": "markdown",
      "metadata": {
        "id": "hUCmYi44HXOt",
        "colab_type": "text"
      },
      "source": [
        "DEscargar los datos usando la instruccion en la lista comando"
      ]
    },
    {
      "cell_type": "code",
      "metadata": {
        "id": "g5gc67RwGjrH",
        "colab_type": "code",
        "colab": {}
      },
      "source": [
        "comandos= [plantillaURL.format(y) for y in range(2,4)]\n",
        "for cmd in comandos:\n",
        "  os.system(cmd)"
      ],
      "execution_count": 0,
      "outputs": []
    },
    {
      "cell_type": "markdown",
      "metadata": {
        "id": "VkMCUAr_IGEC",
        "colab_type": "text"
      },
      "source": [
        "Accediendo a los datos con pandas"
      ]
    },
    {
      "cell_type": "code",
      "metadata": {
        "id": "2tcihQb0INSb",
        "colab_type": "code",
        "colab": {
          "base_uri": "https://localhost:8080/",
          "height": 67
        },
        "outputId": "a4544e9f-7805-4a29-ef16-4597e10fb683"
      },
      "source": [
        "ls"
      ],
      "execution_count": 20,
      "outputs": [
        {
          "output_type": "stream",
          "text": [
            "\u001b[0m\u001b[01;34msample_data\u001b[0m/                 yellow_tripdata_2018-02.csv.1\n",
            "yellow_tripdata_2018-01.csv  yellow_tripdata_2018-03.csv\n",
            "yellow_tripdata_2018-02.csv  yellow_tripdata_2018-03.csv.1\n"
          ],
          "name": "stdout"
        }
      ]
    },
    {
      "cell_type": "code",
      "metadata": {
        "id": "uPMMtXRHIRsI",
        "colab_type": "code",
        "colab": {}
      },
      "source": [
        "archivo = 'yellow_tripdata_2018-01.csv'"
      ],
      "execution_count": 0,
      "outputs": []
    },
    {
      "cell_type": "markdown",
      "metadata": {
        "id": "qjsAIn9mIknc",
        "colab_type": "text"
      },
      "source": [
        "Calcular la huella antes y despues de cargar el archivo"
      ]
    },
    {
      "cell_type": "code",
      "metadata": {
        "id": "kr3y0H-rIXSL",
        "colab_type": "code",
        "colab": {}
      },
      "source": [
        "df= pd.read_csv(archivo)"
      ],
      "execution_count": 0,
      "outputs": []
    },
    {
      "cell_type": "code",
      "metadata": {
        "id": "C417Kjo5Iq0L",
        "colab_type": "code",
        "colab": {
          "base_uri": "https://localhost:8080/",
          "height": 319
        },
        "outputId": "6b085844-bb86-47ac-8228-20f62d5fa3e7"
      },
      "source": [
        "df.memory_usage(index=False)/(1024**2)"
      ],
      "execution_count": 25,
      "outputs": [
        {
          "output_type": "execute_result",
          "data": {
            "text/plain": [
              "VendorID                 66.832535\n",
              "tpep_pickup_datetime     66.832535\n",
              "tpep_dropoff_datetime    66.832535\n",
              "passenger_count          66.832535\n",
              "trip_distance            66.832535\n",
              "RatecodeID               66.832535\n",
              "store_and_fwd_flag       66.832535\n",
              "PULocationID             66.832535\n",
              "DOLocationID             66.832535\n",
              "payment_type             66.832535\n",
              "fare_amount              66.832535\n",
              "extra                    66.832535\n",
              "mta_tax                  66.832535\n",
              "tip_amount               66.832535\n",
              "tolls_amount             66.832535\n",
              "improvement_surcharge    66.832535\n",
              "total_amount             66.832535\n",
              "dtype: float64"
            ]
          },
          "metadata": {
            "tags": []
          },
          "execution_count": 25
        }
      ]
    },
    {
      "cell_type": "code",
      "metadata": {
        "id": "x9ChQUFNI9Ws",
        "colab_type": "code",
        "colab": {
          "base_uri": "https://localhost:8080/",
          "height": 34
        },
        "outputId": "d73b43cf-51b6-4ab1-a4fe-cc3866f7a677"
      },
      "source": [
        "sum(df.memory_usage(index=False)/(1024**2))"
      ],
      "execution_count": 26,
      "outputs": [
        {
          "output_type": "execute_result",
          "data": {
            "text/plain": [
              "1136.153091430664"
            ]
          },
          "metadata": {
            "tags": []
          },
          "execution_count": 26
        }
      ]
    },
    {
      "cell_type": "code",
      "metadata": {
        "id": "u4MIa42xJukr",
        "colab_type": "code",
        "colab": {}
      },
      "source": [
        "dfcs= pd.read_csv(archivo, chunksize=50000)"
      ],
      "execution_count": 0,
      "outputs": []
    },
    {
      "cell_type": "code",
      "metadata": {
        "id": "l7ov1NHbKlVM",
        "colab_type": "code",
        "colab": {}
      },
      "source": [
        "for trozo in pd.read_csv(archivo, chunksize=50000):\n",
        "  print('type: %s shape %s' % (type(trozo), trozo.shape))"
      ],
      "execution_count": 0,
      "outputs": []
    },
    {
      "cell_type": "code",
      "metadata": {
        "id": "cRuk1WkjLmPV",
        "colab_type": "code",
        "colab": {
          "base_uri": "https://localhost:8080/",
          "height": 34
        },
        "outputId": "5b38eaa9-d90a-41d6-e2b5-44ac3e507435"
      },
      "source": [
        "trozo.shape"
      ],
      "execution_count": 33,
      "outputs": [
        {
          "output_type": "execute_result",
          "data": {
            "text/plain": [
              "(9874, 17)"
            ]
          },
          "metadata": {
            "tags": []
          },
          "execution_count": 33
        }
      ]
    },
    {
      "cell_type": "code",
      "metadata": {
        "id": "q9GluvBCL7tc",
        "colab_type": "code",
        "colab": {
          "base_uri": "https://localhost:8080/",
          "height": 386
        },
        "outputId": "41cd50ca-7dbd-4139-eb2b-b64737c3a735"
      },
      "source": [
        "trozo.info()"
      ],
      "execution_count": 35,
      "outputs": [
        {
          "output_type": "stream",
          "text": [
            "<class 'pandas.core.frame.DataFrame'>\n",
            "RangeIndex: 9874 entries, 8750000 to 8759873\n",
            "Data columns (total 17 columns):\n",
            "VendorID                 9874 non-null int64\n",
            "tpep_pickup_datetime     9874 non-null object\n",
            "tpep_dropoff_datetime    9874 non-null object\n",
            "passenger_count          9874 non-null int64\n",
            "trip_distance            9874 non-null float64\n",
            "RatecodeID               9874 non-null int64\n",
            "store_and_fwd_flag       9874 non-null object\n",
            "PULocationID             9874 non-null int64\n",
            "DOLocationID             9874 non-null int64\n",
            "payment_type             9874 non-null int64\n",
            "fare_amount              9874 non-null float64\n",
            "extra                    9874 non-null float64\n",
            "mta_tax                  9874 non-null float64\n",
            "tip_amount               9874 non-null float64\n",
            "tolls_amount             9874 non-null float64\n",
            "improvement_surcharge    9874 non-null float64\n",
            "total_amount             9874 non-null float64\n",
            "dtypes: float64(8), int64(6), object(3)\n",
            "memory usage: 1.3+ MB\n"
          ],
          "name": "stdout"
        }
      ]
    },
    {
      "cell_type": "code",
      "metadata": {
        "id": "dl19-5P6Mhp4",
        "colab_type": "code",
        "colab": {
          "base_uri": "https://localhost:8080/",
          "height": 215
        },
        "outputId": "b8d87916-c018-4dbe-d073-9c527015adad"
      },
      "source": [
        "trozo.head()"
      ],
      "execution_count": 36,
      "outputs": [
        {
          "output_type": "execute_result",
          "data": {
            "text/html": [
              "<div>\n",
              "<style scoped>\n",
              "    .dataframe tbody tr th:only-of-type {\n",
              "        vertical-align: middle;\n",
              "    }\n",
              "\n",
              "    .dataframe tbody tr th {\n",
              "        vertical-align: top;\n",
              "    }\n",
              "\n",
              "    .dataframe thead th {\n",
              "        text-align: right;\n",
              "    }\n",
              "</style>\n",
              "<table border=\"1\" class=\"dataframe\">\n",
              "  <thead>\n",
              "    <tr style=\"text-align: right;\">\n",
              "      <th></th>\n",
              "      <th>VendorID</th>\n",
              "      <th>tpep_pickup_datetime</th>\n",
              "      <th>tpep_dropoff_datetime</th>\n",
              "      <th>passenger_count</th>\n",
              "      <th>trip_distance</th>\n",
              "      <th>RatecodeID</th>\n",
              "      <th>store_and_fwd_flag</th>\n",
              "      <th>PULocationID</th>\n",
              "      <th>DOLocationID</th>\n",
              "      <th>payment_type</th>\n",
              "      <th>fare_amount</th>\n",
              "      <th>extra</th>\n",
              "      <th>mta_tax</th>\n",
              "      <th>tip_amount</th>\n",
              "      <th>tolls_amount</th>\n",
              "      <th>improvement_surcharge</th>\n",
              "      <th>total_amount</th>\n",
              "    </tr>\n",
              "  </thead>\n",
              "  <tbody>\n",
              "    <tr>\n",
              "      <th>8750000</th>\n",
              "      <td>2</td>\n",
              "      <td>2018-01-31 23:36:22</td>\n",
              "      <td>2018-01-31 23:46:11</td>\n",
              "      <td>1</td>\n",
              "      <td>1.8</td>\n",
              "      <td>1</td>\n",
              "      <td>N</td>\n",
              "      <td>162</td>\n",
              "      <td>186</td>\n",
              "      <td>1</td>\n",
              "      <td>8.5</td>\n",
              "      <td>0.5</td>\n",
              "      <td>0.5</td>\n",
              "      <td>1.96</td>\n",
              "      <td>0.0</td>\n",
              "      <td>0.3</td>\n",
              "      <td>11.76</td>\n",
              "    </tr>\n",
              "    <tr>\n",
              "      <th>8750001</th>\n",
              "      <td>1</td>\n",
              "      <td>2018-01-31 23:41:34</td>\n",
              "      <td>2018-01-31 23:45:40</td>\n",
              "      <td>2</td>\n",
              "      <td>1.0</td>\n",
              "      <td>1</td>\n",
              "      <td>N</td>\n",
              "      <td>234</td>\n",
              "      <td>79</td>\n",
              "      <td>1</td>\n",
              "      <td>5.5</td>\n",
              "      <td>0.5</td>\n",
              "      <td>0.5</td>\n",
              "      <td>2.00</td>\n",
              "      <td>0.0</td>\n",
              "      <td>0.3</td>\n",
              "      <td>8.80</td>\n",
              "    </tr>\n",
              "    <tr>\n",
              "      <th>8750002</th>\n",
              "      <td>1</td>\n",
              "      <td>2018-01-31 23:26:35</td>\n",
              "      <td>2018-01-31 23:29:48</td>\n",
              "      <td>2</td>\n",
              "      <td>0.6</td>\n",
              "      <td>1</td>\n",
              "      <td>N</td>\n",
              "      <td>234</td>\n",
              "      <td>170</td>\n",
              "      <td>1</td>\n",
              "      <td>4.5</td>\n",
              "      <td>0.5</td>\n",
              "      <td>0.5</td>\n",
              "      <td>1.15</td>\n",
              "      <td>0.0</td>\n",
              "      <td>0.3</td>\n",
              "      <td>6.95</td>\n",
              "    </tr>\n",
              "    <tr>\n",
              "      <th>8750003</th>\n",
              "      <td>1</td>\n",
              "      <td>2018-01-31 23:15:56</td>\n",
              "      <td>2018-01-31 23:16:09</td>\n",
              "      <td>1</td>\n",
              "      <td>9.6</td>\n",
              "      <td>1</td>\n",
              "      <td>N</td>\n",
              "      <td>77</td>\n",
              "      <td>77</td>\n",
              "      <td>3</td>\n",
              "      <td>2.5</td>\n",
              "      <td>0.5</td>\n",
              "      <td>0.5</td>\n",
              "      <td>0.00</td>\n",
              "      <td>0.0</td>\n",
              "      <td>0.3</td>\n",
              "      <td>3.80</td>\n",
              "    </tr>\n",
              "    <tr>\n",
              "      <th>8750004</th>\n",
              "      <td>1</td>\n",
              "      <td>2018-01-31 23:17:26</td>\n",
              "      <td>2018-01-31 23:17:42</td>\n",
              "      <td>1</td>\n",
              "      <td>9.6</td>\n",
              "      <td>1</td>\n",
              "      <td>N</td>\n",
              "      <td>77</td>\n",
              "      <td>77</td>\n",
              "      <td>3</td>\n",
              "      <td>2.5</td>\n",
              "      <td>0.5</td>\n",
              "      <td>0.5</td>\n",
              "      <td>0.00</td>\n",
              "      <td>0.0</td>\n",
              "      <td>0.3</td>\n",
              "      <td>3.80</td>\n",
              "    </tr>\n",
              "  </tbody>\n",
              "</table>\n",
              "</div>"
            ],
            "text/plain": [
              "         VendorID tpep_pickup_datetime tpep_dropoff_datetime  passenger_count  \\\n",
              "8750000         2  2018-01-31 23:36:22   2018-01-31 23:46:11                1   \n",
              "8750001         1  2018-01-31 23:41:34   2018-01-31 23:45:40                2   \n",
              "8750002         1  2018-01-31 23:26:35   2018-01-31 23:29:48                2   \n",
              "8750003         1  2018-01-31 23:15:56   2018-01-31 23:16:09                1   \n",
              "8750004         1  2018-01-31 23:17:26   2018-01-31 23:17:42                1   \n",
              "\n",
              "         trip_distance  RatecodeID store_and_fwd_flag  PULocationID  \\\n",
              "8750000            1.8           1                  N           162   \n",
              "8750001            1.0           1                  N           234   \n",
              "8750002            0.6           1                  N           234   \n",
              "8750003            9.6           1                  N            77   \n",
              "8750004            9.6           1                  N            77   \n",
              "\n",
              "         DOLocationID  payment_type  fare_amount  extra  mta_tax  tip_amount  \\\n",
              "8750000           186             1          8.5    0.5      0.5        1.96   \n",
              "8750001            79             1          5.5    0.5      0.5        2.00   \n",
              "8750002           170             1          4.5    0.5      0.5        1.15   \n",
              "8750003            77             3          2.5    0.5      0.5        0.00   \n",
              "8750004            77             3          2.5    0.5      0.5        0.00   \n",
              "\n",
              "         tolls_amount  improvement_surcharge  total_amount  \n",
              "8750000           0.0                    0.3         11.76  \n",
              "8750001           0.0                    0.3          8.80  \n",
              "8750002           0.0                    0.3          6.95  \n",
              "8750003           0.0                    0.3          3.80  \n",
              "8750004           0.0                    0.3          3.80  "
            ]
          },
          "metadata": {
            "tags": []
          },
          "execution_count": 36
        }
      ]
    },
    {
      "cell_type": "markdown",
      "metadata": {
        "id": "aRTdX6bMOBpO",
        "colab_type": "text"
      },
      "source": [
        "tarea hacer el filtrado de los 8 millones"
      ]
    },
    {
      "cell_type": "markdown",
      "metadata": {
        "id": "TcLwlI0MOYTg",
        "colab_type": "text"
      },
      "source": [
        "DEfinir una condicion de 'es_un_viaje_largo' si el valor de la columna trip_distance es mayor a 10(millas aprox)"
      ]
    },
    {
      "cell_type": "code",
      "metadata": {
        "id": "RhQvHDPGOoJe",
        "colab_type": "code",
        "colab": {
          "base_uri": "https://localhost:8080/",
          "height": 118
        },
        "outputId": "c73535e3-3034-471a-f567-7bc461fa5bc6"
      },
      "source": [
        "es_un_viaje_largo=(trozo.trip_distance > 10)\n",
        "es_un_viaje_largo.head()"
      ],
      "execution_count": 37,
      "outputs": [
        {
          "output_type": "execute_result",
          "data": {
            "text/plain": [
              "8750000    False\n",
              "8750001    False\n",
              "8750002    False\n",
              "8750003    False\n",
              "8750004    False\n",
              "Name: trip_distance, dtype: bool"
            ]
          },
          "metadata": {
            "tags": []
          },
          "execution_count": 37
        }
      ]
    },
    {
      "cell_type": "code",
      "metadata": {
        "id": "sjbCWIy5OWvx",
        "colab_type": "code",
        "colab": {
          "base_uri": "https://localhost:8080/",
          "height": 34
        },
        "outputId": "712b9c73-f35f-4cf8-ace3-6478c05b2446"
      },
      "source": [
        "trozo.loc[es_un_viaje_largo].shape"
      ],
      "execution_count": 41,
      "outputs": [
        {
          "output_type": "execute_result",
          "data": {
            "text/plain": [
              "(431, 17)"
            ]
          },
          "metadata": {
            "tags": []
          },
          "execution_count": 41
        }
      ]
    },
    {
      "cell_type": "markdown",
      "metadata": {
        "id": "QufvIFinPs3L",
        "colab_type": "text"
      },
      "source": [
        "Encapsulemos esta funcion de filtrado en una funcion"
      ]
    },
    {
      "cell_type": "code",
      "metadata": {
        "id": "7m_GtFUbPrQx",
        "colab_type": "code",
        "colab": {}
      },
      "source": [
        "def filtra_es_un_viaje_largo(data):\n",
        "  es_un_viaje_largo =(data.trip_distance >10)\n",
        "  return data.loc[es_un_viaje_largo]"
      ],
      "execution_count": 0,
      "outputs": []
    },
    {
      "cell_type": "code",
      "metadata": {
        "id": "-nXf5dubQF9r",
        "colab_type": "code",
        "colab": {}
      },
      "source": [
        "trozos=[]\n",
        "for trozo in pd.read_csv(archivo, chunksize=500000):\n",
        "  trozos.append(filtra_es_un_viaje_largo(trozo))"
      ],
      "execution_count": 0,
      "outputs": []
    },
    {
      "cell_type": "code",
      "metadata": {
        "id": "xDahPu1tQzLR",
        "colab_type": "code",
        "colab": {
          "base_uri": "https://localhost:8080/",
          "height": 34
        },
        "outputId": "fda5ba20-5427-4cb8-e78d-b1d2ac9569e9"
      },
      "source": [
        "len(trozos)"
      ],
      "execution_count": 45,
      "outputs": [
        {
          "output_type": "execute_result",
          "data": {
            "text/plain": [
              "18"
            ]
          },
          "metadata": {
            "tags": []
          },
          "execution_count": 45
        }
      ]
    },
    {
      "cell_type": "markdown",
      "metadata": {
        "id": "SOwjqXmbRZV-",
        "colab_type": "text"
      },
      "source": [
        "es conveniente usar una *comprension de lista* para generar la lista anterior"
      ]
    },
    {
      "cell_type": "code",
      "metadata": {
        "id": "esJzom15RAgS",
        "colab_type": "code",
        "colab": {
          "base_uri": "https://localhost:8080/",
          "height": 34
        },
        "outputId": "edb13bd4-39b2-4a7d-91b2-411a56efd20f"
      },
      "source": [
        "trozos=[filtra_es_un_viaje_largo(trozo) for trozo in pd.read_csv(archivo, chunksize=500000)]\n",
        "len(trozos)"
      ],
      "execution_count": 58,
      "outputs": [
        {
          "output_type": "execute_result",
          "data": {
            "text/plain": [
              "18"
            ]
          },
          "metadata": {
            "tags": []
          },
          "execution_count": 58
        }
      ]
    },
    {
      "cell_type": "code",
      "metadata": {
        "id": "WExbFXKLR9SG",
        "colab_type": "code",
        "colab": {
          "base_uri": "https://localhost:8080/",
          "height": 319
        },
        "outputId": "4e648147-577a-4c75-9ff1-ab823fecffc1"
      },
      "source": [
        "tamaños = [ len(trozo) for trozo in trozos]\n",
        "tamaños"
      ],
      "execution_count": 59,
      "outputs": [
        {
          "output_type": "execute_result",
          "data": {
            "text/plain": [
              "[36840,\n",
              " 24360,\n",
              " 27249,\n",
              " 32064,\n",
              " 26497,\n",
              " 27405,\n",
              " 23502,\n",
              " 30812,\n",
              " 25838,\n",
              " 24353,\n",
              " 22569,\n",
              " 30044,\n",
              " 24992,\n",
              " 24950,\n",
              " 22277,\n",
              " 27423,\n",
              " 23822,\n",
              " 11817]"
            ]
          },
          "metadata": {
            "tags": []
          },
          "execution_count": 59
        }
      ]
    },
    {
      "cell_type": "code",
      "metadata": {
        "id": "-J4XUqOjTNRP",
        "colab_type": "code",
        "colab": {
          "base_uri": "https://localhost:8080/",
          "height": 34
        },
        "outputId": "148107c5-96a0-4ea5-c2d4-586c0ff75208"
      },
      "source": [
        "np.mean(tamaños)"
      ],
      "execution_count": 60,
      "outputs": [
        {
          "output_type": "execute_result",
          "data": {
            "text/plain": [
              "25934.11111111111"
            ]
          },
          "metadata": {
            "tags": []
          },
          "execution_count": 60
        }
      ]
    },
    {
      "cell_type": "code",
      "metadata": {
        "id": "o8oWRJ2KS_ti",
        "colab_type": "code",
        "colab": {
          "base_uri": "https://localhost:8080/",
          "height": 34
        },
        "outputId": "62f5eaf3-6393-4dec-b0b4-ce95aabe928f"
      },
      "source": [
        "sum(tamaños)"
      ],
      "execution_count": 64,
      "outputs": [
        {
          "output_type": "execute_result",
          "data": {
            "text/plain": [
              "466814"
            ]
          },
          "metadata": {
            "tags": []
          },
          "execution_count": 64
        }
      ]
    },
    {
      "cell_type": "markdown",
      "metadata": {
        "id": "MPhSW8t2SqA2",
        "colab_type": "text"
      },
      "source": [
        "vamos a concatenar todos estos trozos en una nueva estructura  de datos DataFrame\n",
        "dicha estructura debera tener cuantos registros?"
      ]
    },
    {
      "cell_type": "code",
      "metadata": {
        "id": "ZOB9hK4OTiuh",
        "colab_type": "code",
        "colab": {
          "base_uri": "https://localhost:8080/",
          "height": 34
        },
        "outputId": "a26680e9-bf29-4317-c624-387c118441c0"
      },
      "source": [
        "viajes_largos_df= pd.concat(trozos)\n",
        "viajes_largos_df.shape"
      ],
      "execution_count": 62,
      "outputs": [
        {
          "output_type": "execute_result",
          "data": {
            "text/plain": [
              "(466814, 17)"
            ]
          },
          "metadata": {
            "tags": []
          },
          "execution_count": 62
        }
      ]
    },
    {
      "cell_type": "code",
      "metadata": {
        "id": "g1uPBwwWTu6W",
        "colab_type": "code",
        "colab": {}
      },
      "source": [
        "import matplotlib.pyplot as plt"
      ],
      "execution_count": 0,
      "outputs": []
    },
    {
      "cell_type": "code",
      "metadata": {
        "id": "N_gK--BNT3gv",
        "colab_type": "code",
        "colab": {
          "base_uri": "https://localhost:8080/",
          "height": 296
        },
        "outputId": "fdb7b325-4567-491f-b0c5-61121285be49"
      },
      "source": [
        "viajes_largos_df.plot.scatter(x='trip_distance', y='fare_amount', title='viajes largos> 10 ml',xlim=(0,200), ylim=(0,1000));"
      ],
      "execution_count": 71,
      "outputs": [
        {
          "output_type": "display_data",
          "data": {
            "image/png": "[encoded data removed]",
            "text/plain": [
              "<Figure size 432x288 with 1 Axes>"
            ]
          },
          "metadata": {
            "tags": []
          }
        }
      ]
    },
    {
      "cell_type": "markdown",
      "metadata": {
        "id": "_YzOR9VNUokV",
        "colab_type": "text"
      },
      "source": [
        "tarea hacer un workflow para detectar outlayer\n",
        "\n",
        "tarea hacer el calculo con comprension de listas\n"
      ]
    },
    {
      "cell_type": "markdown",
      "metadata": {
        "id": "HaoDLYi-XwSn",
        "colab_type": "text"
      },
      "source": [
        "#generadores\n"
      ]
    },
    {
      "cell_type": "code",
      "metadata": {
        "id": "NbfxCxcJU4Q7",
        "colab_type": "code",
        "colab": {
          "base_uri": "https://localhost:8080/",
          "height": 34
        },
        "outputId": "bd2d1c26-1166-4e71-915b-e0ed93cafb3b"
      },
      "source": [
        "trozos=(filtra_es_un_viaje_largo(trozo) for trozo in pd.read_csv(archivo, chunksize=500000))"
      ],
      "execution_count": 78,
      "outputs": [
        {
          "output_type": "execute_result",
          "data": {
            "text/plain": [
              "<generator object <genexpr> at 0x7fd4e3ef4888>"
            ]
          },
          "metadata": {
            "tags": []
          },
          "execution_count": 78
        }
      ]
    },
    {
      "cell_type": "markdown",
      "metadata": {
        "id": "lvysBuk4YTeU",
        "colab_type": "text"
      },
      "source": [
        "tarea cual es la huella de memoria del generador anterior\n",
        "\n",
        "antes y despues de generarlo"
      ]
    },
    {
      "cell_type": "code",
      "metadata": {
        "id": "KSYCnZYNZPM2",
        "colab_type": "code",
        "colab": {}
      },
      "source": [
        "[trozo['trip_distance'].sum() for trozo in trozos]"
      ],
      "execution_count": 0,
      "outputs": []
    },
    {
      "cell_type": "code",
      "metadata": {
        "id": "gpvwHromYS8t",
        "colab_type": "code",
        "colab": {}
      },
      "source": [
        "distancias =(trozo['trip_distance'].sum() for trozo in trozos)"
      ],
      "execution_count": 0,
      "outputs": []
    },
    {
      "cell_type": "code",
      "metadata": {
        "id": "sbPUMkqpZFJ6",
        "colab_type": "code",
        "colab": {
          "base_uri": "https://localhost:8080/",
          "height": 34
        },
        "outputId": "1ad6e327-4600-454b-b08e-de6c6f34a57b"
      },
      "source": [
        "sum(distancias)"
      ],
      "execution_count": 80,
      "outputs": [
        {
          "output_type": "execute_result",
          "data": {
            "text/plain": [
              "7339629.629999999"
            ]
          },
          "metadata": {
            "tags": []
          },
          "execution_count": 80
        }
      ]
    },
    {
      "cell_type": "markdown",
      "metadata": {
        "id": "97plrsOfbCT6",
        "colab_type": "text"
      },
      "source": [
        "Vamos a leer muchos archivos"
      ]
    },
    {
      "cell_type": "code",
      "metadata": {
        "id": "M5ZUcIXcaN19",
        "colab_type": "code",
        "colab": {}
      },
      "source": [
        "df = pd.read_csv('yellow_tripdata_2018-01.csv', parse_dates=[1,2])"
      ],
      "execution_count": 0,
      "outputs": []
    },
    {
      "cell_type": "code",
      "metadata": {
        "id": "r1f5Sf-5bbZ5",
        "colab_type": "code",
        "colab": {
          "base_uri": "https://localhost:8080/",
          "height": 386
        },
        "outputId": "8e28a965-c685-4bd3-dc46-ea75f6966caf"
      },
      "source": [
        "df.info()"
      ],
      "execution_count": 84,
      "outputs": [
        {
          "output_type": "stream",
          "text": [
            "<class 'pandas.core.frame.DataFrame'>\n",
            "RangeIndex: 8759874 entries, 0 to 8759873\n",
            "Data columns (total 17 columns):\n",
            "VendorID                 int64\n",
            "tpep_pickup_datetime     datetime64[ns]\n",
            "tpep_dropoff_datetime    datetime64[ns]\n",
            "passenger_count          int64\n",
            "trip_distance            float64\n",
            "RatecodeID               int64\n",
            "store_and_fwd_flag       object\n",
            "PULocationID             int64\n",
            "DOLocationID             int64\n",
            "payment_type             int64\n",
            "fare_amount              float64\n",
            "extra                    float64\n",
            "mta_tax                  float64\n",
            "tip_amount               float64\n",
            "tolls_amount             float64\n",
            "improvement_surcharge    float64\n",
            "total_amount             float64\n",
            "dtypes: datetime64[ns](2), float64(8), int64(6), object(1)\n",
            "memory usage: 1.1+ GB\n"
          ],
          "name": "stdout"
        }
      ]
    },
    {
      "cell_type": "code",
      "metadata": {
        "id": "rC4p37PTbdoS",
        "colab_type": "code",
        "colab": {
          "base_uri": "https://localhost:8080/",
          "height": 215
        },
        "outputId": "64941e06-5179-442c-d073-e5d03bbb03bb"
      },
      "source": [
        "df.head()"
      ],
      "execution_count": 85,
      "outputs": [
        {
          "output_type": "execute_result",
          "data": {
            "text/html": [
              "<div>\n",
              "<style scoped>\n",
              "    .dataframe tbody tr th:only-of-type {\n",
              "        vertical-align: middle;\n",
              "    }\n",
              "\n",
              "    .dataframe tbody tr th {\n",
              "        vertical-align: top;\n",
              "    }\n",
              "\n",
              "    .dataframe thead th {\n",
              "        text-align: right;\n",
              "    }\n",
              "</style>\n",
              "<table border=\"1\" class=\"dataframe\">\n",
              "  <thead>\n",
              "    <tr style=\"text-align: right;\">\n",
              "      <th></th>\n",
              "      <th>VendorID</th>\n",
              "      <th>tpep_pickup_datetime</th>\n",
              "      <th>tpep_dropoff_datetime</th>\n",
              "      <th>passenger_count</th>\n",
              "      <th>trip_distance</th>\n",
              "      <th>RatecodeID</th>\n",
              "      <th>store_and_fwd_flag</th>\n",
              "      <th>PULocationID</th>\n",
              "      <th>DOLocationID</th>\n",
              "      <th>payment_type</th>\n",
              "      <th>fare_amount</th>\n",
              "      <th>extra</th>\n",
              "      <th>mta_tax</th>\n",
              "      <th>tip_amount</th>\n",
              "      <th>tolls_amount</th>\n",
              "      <th>improvement_surcharge</th>\n",
              "      <th>total_amount</th>\n",
              "    </tr>\n",
              "  </thead>\n",
              "  <tbody>\n",
              "    <tr>\n",
              "      <th>0</th>\n",
              "      <td>1</td>\n",
              "      <td>2018-01-01 00:21:05</td>\n",
              "      <td>2018-01-01 00:24:23</td>\n",
              "      <td>1</td>\n",
              "      <td>0.5</td>\n",
              "      <td>1</td>\n",
              "      <td>N</td>\n",
              "      <td>41</td>\n",
              "      <td>24</td>\n",
              "      <td>2</td>\n",
              "      <td>4.5</td>\n",
              "      <td>0.5</td>\n",
              "      <td>0.5</td>\n",
              "      <td>0.00</td>\n",
              "      <td>0.0</td>\n",
              "      <td>0.3</td>\n",
              "      <td>5.80</td>\n",
              "    </tr>\n",
              "    <tr>\n",
              "      <th>1</th>\n",
              "      <td>1</td>\n",
              "      <td>2018-01-01 00:44:55</td>\n",
              "      <td>2018-01-01 01:03:05</td>\n",
              "      <td>1</td>\n",
              "      <td>2.7</td>\n",
              "      <td>1</td>\n",
              "      <td>N</td>\n",
              "      <td>239</td>\n",
              "      <td>140</td>\n",
              "      <td>2</td>\n",
              "      <td>14.0</td>\n",
              "      <td>0.5</td>\n",
              "      <td>0.5</td>\n",
              "      <td>0.00</td>\n",
              "      <td>0.0</td>\n",
              "      <td>0.3</td>\n",
              "      <td>15.30</td>\n",
              "    </tr>\n",
              "    <tr>\n",
              "      <th>2</th>\n",
              "      <td>1</td>\n",
              "      <td>2018-01-01 00:08:26</td>\n",
              "      <td>2018-01-01 00:14:21</td>\n",
              "      <td>2</td>\n",
              "      <td>0.8</td>\n",
              "      <td>1</td>\n",
              "      <td>N</td>\n",
              "      <td>262</td>\n",
              "      <td>141</td>\n",
              "      <td>1</td>\n",
              "      <td>6.0</td>\n",
              "      <td>0.5</td>\n",
              "      <td>0.5</td>\n",
              "      <td>1.00</td>\n",
              "      <td>0.0</td>\n",
              "      <td>0.3</td>\n",
              "      <td>8.30</td>\n",
              "    </tr>\n",
              "    <tr>\n",
              "      <th>3</th>\n",
              "      <td>1</td>\n",
              "      <td>2018-01-01 00:20:22</td>\n",
              "      <td>2018-01-01 00:52:51</td>\n",
              "      <td>1</td>\n",
              "      <td>10.2</td>\n",
              "      <td>1</td>\n",
              "      <td>N</td>\n",
              "      <td>140</td>\n",
              "      <td>257</td>\n",
              "      <td>2</td>\n",
              "      <td>33.5</td>\n",
              "      <td>0.5</td>\n",
              "      <td>0.5</td>\n",
              "      <td>0.00</td>\n",
              "      <td>0.0</td>\n",
              "      <td>0.3</td>\n",
              "      <td>34.80</td>\n",
              "    </tr>\n",
              "    <tr>\n",
              "      <th>4</th>\n",
              "      <td>1</td>\n",
              "      <td>2018-01-01 00:09:18</td>\n",
              "      <td>2018-01-01 00:27:06</td>\n",
              "      <td>2</td>\n",
              "      <td>2.5</td>\n",
              "      <td>1</td>\n",
              "      <td>N</td>\n",
              "      <td>246</td>\n",
              "      <td>239</td>\n",
              "      <td>1</td>\n",
              "      <td>12.5</td>\n",
              "      <td>0.5</td>\n",
              "      <td>0.5</td>\n",
              "      <td>2.75</td>\n",
              "      <td>0.0</td>\n",
              "      <td>0.3</td>\n",
              "      <td>16.55</td>\n",
              "    </tr>\n",
              "  </tbody>\n",
              "</table>\n",
              "</div>"
            ],
            "text/plain": [
              "   VendorID tpep_pickup_datetime tpep_dropoff_datetime  passenger_count  \\\n",
              "0         1  2018-01-01 00:21:05   2018-01-01 00:24:23                1   \n",
              "1         1  2018-01-01 00:44:55   2018-01-01 01:03:05                1   \n",
              "2         1  2018-01-01 00:08:26   2018-01-01 00:14:21                2   \n",
              "3         1  2018-01-01 00:20:22   2018-01-01 00:52:51                1   \n",
              "4         1  2018-01-01 00:09:18   2018-01-01 00:27:06                2   \n",
              "\n",
              "   trip_distance  RatecodeID store_and_fwd_flag  PULocationID  DOLocationID  \\\n",
              "0            0.5           1                  N            41            24   \n",
              "1            2.7           1                  N           239           140   \n",
              "2            0.8           1                  N           262           141   \n",
              "3           10.2           1                  N           140           257   \n",
              "4            2.5           1                  N           246           239   \n",
              "\n",
              "   payment_type  fare_amount  extra  mta_tax  tip_amount  tolls_amount  \\\n",
              "0             2          4.5    0.5      0.5        0.00           0.0   \n",
              "1             2         14.0    0.5      0.5        0.00           0.0   \n",
              "2             1          6.0    0.5      0.5        1.00           0.0   \n",
              "3             2         33.5    0.5      0.5        0.00           0.0   \n",
              "4             1         12.5    0.5      0.5        2.75           0.0   \n",
              "\n",
              "   improvement_surcharge  total_amount  \n",
              "0                    0.3          5.80  \n",
              "1                    0.3         15.30  \n",
              "2                    0.3          8.30  \n",
              "3                    0.3         34.80  \n",
              "4                    0.3         16.55  "
            ]
          },
          "metadata": {
            "tags": []
          },
          "execution_count": 85
        }
      ]
    },
    {
      "cell_type": "code",
      "metadata": {
        "id": "7ifDL4ZQbsDw",
        "colab_type": "code",
        "colab": {}
      },
      "source": [
        "def cuenta_viajes_tardados(df):\n",
        "  df['duracion'] =(df.tpep_dropoff_datetime - df.tpep_pickup_datetime).dt.seconds\n",
        "  es_viaje_tardado = df.duracion > 1200\n",
        "  result_dict = {'n_long': [sum(es_viaje_tardado)],\n",
        "                'n_total': [len(df)]}\n",
        "  return pd.DataFrame(result_dict)"
      ],
      "execution_count": 0,
      "outputs": []
    },
    {
      "cell_type": "code",
      "metadata": {
        "id": "QV39DPdSdYr2",
        "colab_type": "code",
        "colab": {}
      },
      "source": [
        "archivos = [plantilla.format(y) for y in range(1,4)]"
      ],
      "execution_count": 0,
      "outputs": []
    },
    {
      "cell_type": "code",
      "metadata": {
        "id": "wVnHR3VidhUg",
        "colab_type": "code",
        "colab": {}
      },
      "source": [
        "dataframes = (pd.read_csv(archivo, parse_dates=[1,2]) for archivo in archivos)"
      ],
      "execution_count": 0,
      "outputs": []
    },
    {
      "cell_type": "code",
      "metadata": {
        "id": "BoxH-XGQdzut",
        "colab_type": "code",
        "colab": {}
      },
      "source": [
        "totales = (cuenta_viajes_tardados(df) for df in dataframes)"
      ],
      "execution_count": 0,
      "outputs": []
    },
    {
      "cell_type": "code",
      "metadata": {
        "id": "gCjcaFMhd_37",
        "colab_type": "code",
        "colab": {}
      },
      "source": [
        "totales_trimestrales = sum(totales)"
      ],
      "execution_count": 0,
      "outputs": []
    },
    {
      "cell_type": "code",
      "metadata": {
        "id": "p2PNRnxEfGGa",
        "colab_type": "code",
        "colab": {
          "base_uri": "https://localhost:8080/",
          "height": 50
        },
        "outputId": "3cbfb14e-0ac3-490f-e612-086da0dffba7"
      },
      "source": [
        "print(totales_trimestrales)"
      ],
      "execution_count": 131,
      "outputs": [
        {
          "output_type": "stream",
          "text": [
            "    n_long   n_total\n",
            "0  4942465  26682326\n"
          ],
          "name": "stdout"
        }
      ]
    },
    {
      "cell_type": "code",
      "metadata": {
        "id": "z8IoEqoCfK8e",
        "colab_type": "code",
        "colab": {
          "base_uri": "https://localhost:8080/",
          "height": 50
        },
        "outputId": "4936c3ce-997b-47e4-9820-bb7f6a90b22d"
      },
      "source": [
        "totales_trimestrales['n_long']/totales_trimestrales['n_total']"
      ],
      "execution_count": 133,
      "outputs": [
        {
          "output_type": "execute_result",
          "data": {
            "text/plain": [
              "0    0.185234\n",
              "dtype: float64"
            ]
          },
          "metadata": {
            "tags": []
          },
          "execution_count": 133
        }
      ]
    },
    {
      "cell_type": "code",
      "metadata": {
        "id": "xmEWpYkwfekj",
        "colab_type": "code",
        "colab": {}
      },
      "source": [
        "import time"
      ],
      "execution_count": 0,
      "outputs": []
    }
  ]
}