{
  "nbformat": 4,
  "nbformat_minor": 0,
  "metadata": {
    "colab": {
      "name": "SistDist2 Semana 4.ipynb",
      "version": "0.3.2",
      "provenance": [],
      "include_colab_link": true
    },
    "kernelspec": {
      "name": "python3",
      "display_name": "Python 3"
    }
  },
  "cells": [
    {
      "cell_type": "markdown",
      "metadata": {
        "id": "view-in-github",
        "colab_type": "text"
      },
      "source": [
        "<a href=\"https://colab.research.google.com/github/ark150/PracticaSIDI2Semana1/blob/master/SistDist2_Semana_4.ipynb\" target=\"_parent\"><img src=\"https://colab.research.google.com/assets/colab-badge.svg\" alt=\"Open In Colab\"/></a>"
      ]
    },
    {
      "cell_type": "markdown",
      "metadata": {
        "id": "886noa0rCqVb",
        "colab_type": "text"
      },
      "source": [
        "#"
      ]
    },
    {
      "cell_type": "code",
      "metadata": {
        "id": "OR20n1JbCnJ9",
        "colab_type": "code",
        "colab": {}
      },
      "source": [
        "import numpy as np\n",
        "a = np.random.rand(10000)"
      ],
      "execution_count": 0,
      "outputs": []
    },
    {
      "cell_type": "code",
      "metadata": {
        "id": "SAUe-OiTDX4V",
        "colab_type": "code",
        "colab": {
          "base_uri": "https://localhost:8080/",
          "height": 34
        },
        "outputId": "4bcddc23-e940-41e5-d43e-32d5b21405ee"
      },
      "source": [
        "a.shape"
      ],
      "execution_count": 4,
      "outputs": [
        {
          "output_type": "execute_result",
          "data": {
            "text/plain": [
              "(10000,)"
            ]
          },
          "metadata": {
            "tags": []
          },
          "execution_count": 4
        }
      ]
    },
    {
      "cell_type": "code",
      "metadata": {
        "id": "yhdlPFXqDewF",
        "colab_type": "code",
        "colab": {
          "base_uri": "https://localhost:8080/",
          "height": 34
        },
        "outputId": "b8cd4fc6-3f96-4983-d839-e1d17f0d46fe"
      },
      "source": [
        "a.dtype"
      ],
      "execution_count": 5,
      "outputs": [
        {
          "output_type": "execute_result",
          "data": {
            "text/plain": [
              "dtype('float64')"
            ]
          },
          "metadata": {
            "tags": []
          },
          "execution_count": 5
        }
      ]
    },
    {
      "cell_type": "code",
      "metadata": {
        "id": "-za8An-XDgam",
        "colab_type": "code",
        "colab": {
          "base_uri": "https://localhost:8080/",
          "height": 34
        },
        "outputId": "91b8fa66-eefd-48b3-9633-768cdea94fdc"
      },
      "source": [
        "a.nbytes"
      ],
      "execution_count": 6,
      "outputs": [
        {
          "output_type": "execute_result",
          "data": {
            "text/plain": [
              "80000"
            ]
          },
          "metadata": {
            "tags": []
          },
          "execution_count": 6
        }
      ]
    },
    {
      "cell_type": "code",
      "metadata": {
        "id": "QBvwo014Di-6",
        "colab_type": "code",
        "colab": {
          "base_uri": "https://localhost:8080/",
          "height": 67
        },
        "outputId": "b2f0512c-3e0d-4497-e7d4-54563ab7cac4"
      },
      "source": [
        "%time a.sum()"
      ],
      "execution_count": 8,
      "outputs": [
        {
          "output_type": "stream",
          "text": [
            "CPU times: user 458 µs, sys: 60 µs, total: 518 µs\n",
            "Wall time: 462 µs\n"
          ],
          "name": "stdout"
        },
        {
          "output_type": "execute_result",
          "data": {
            "text/plain": [
              "4994.7113528091895"
            ]
          },
          "metadata": {
            "tags": []
          },
          "execution_count": 8
        }
      ]
    },
    {
      "cell_type": "code",
      "metadata": {
        "id": "PflQIf3WDreG",
        "colab_type": "code",
        "colab": {}
      },
      "source": [
        "import dask.array as da"
      ],
      "execution_count": 0,
      "outputs": []
    },
    {
      "cell_type": "code",
      "metadata": {
        "id": "NeshvMyJEKph",
        "colab_type": "code",
        "colab": {}
      },
      "source": [
        "a_dask = da.from_array(a, chunks=len(a)//3)"
      ],
      "execution_count": 0,
      "outputs": []
    },
    {
      "cell_type": "code",
      "metadata": {
        "id": "bIpy-5aTEVae",
        "colab_type": "code",
        "colab": {
          "base_uri": "https://localhost:8080/",
          "height": 34
        },
        "outputId": "61d36613-1ae0-4547-cd6c-181accd4e09f"
      },
      "source": [
        "type(a_dask)"
      ],
      "execution_count": 12,
      "outputs": [
        {
          "output_type": "execute_result",
          "data": {
            "text/plain": [
              "dask.array.core.Array"
            ]
          },
          "metadata": {
            "tags": []
          },
          "execution_count": 12
        }
      ]
    },
    {
      "cell_type": "code",
      "metadata": {
        "id": "1d6V-47sEbMI",
        "colab_type": "code",
        "colab": {
          "base_uri": "https://localhost:8080/",
          "height": 34
        },
        "outputId": "ff8bf71f-ead7-4449-f277-f536b86514b1"
      },
      "source": [
        "a_dask.chunks"
      ],
      "execution_count": 13,
      "outputs": [
        {
          "output_type": "execute_result",
          "data": {
            "text/plain": [
              "((3333, 3333, 3333, 1),)"
            ]
          },
          "metadata": {
            "tags": []
          },
          "execution_count": 13
        }
      ]
    },
    {
      "cell_type": "code",
      "metadata": {
        "id": "ThXmLGwbEdNW",
        "colab_type": "code",
        "colab": {}
      },
      "source": [
        "n_chunks = 8\n",
        "chunks_size = len(a) // n_chunks\n",
        "res = 0"
      ],
      "execution_count": 0,
      "outputs": []
    },
    {
      "cell_type": "markdown",
      "metadata": {
        "id": "DY4UYprDHSj4",
        "colab_type": "text"
      },
      "source": [
        "time con 2 % es para toda las lineas que se ejecutan\n",
        "\n",
        "time con un % es para una linea y tiene que estar junto de esa linea"
      ]
    },
    {
      "cell_type": "code",
      "metadata": {
        "id": "VPJzy8OBGJ8Q",
        "colab_type": "code",
        "colab": {
          "base_uri": "https://localhost:8080/",
          "height": 50
        },
        "outputId": "84290b02-021e-4e31-9d78-259b53b9ad75"
      },
      "source": [
        "%%time\n",
        "for k in range (n_chunks):\n",
        "  offset = k*chunks_size\n",
        "  a_chunks = a[offset:offset + chunks_size]\n",
        "  res += a_chunks.sum()"
      ],
      "execution_count": 19,
      "outputs": [
        {
          "output_type": "stream",
          "text": [
            "CPU times: user 221 µs, sys: 53 µs, total: 274 µs\n",
            "Wall time: 207 µs\n"
          ],
          "name": "stdout"
        }
      ]
    },
    {
      "cell_type": "code",
      "metadata": {
        "id": "_zCHO2xmHILr",
        "colab_type": "code",
        "colab": {
          "base_uri": "https://localhost:8080/",
          "height": 50
        },
        "outputId": "41f31f66-305d-4df2-882b-6705d8bdc81b"
      },
      "source": [
        "%time res_dask = a_dask.sum()"
      ],
      "execution_count": 20,
      "outputs": [
        {
          "output_type": "stream",
          "text": [
            "CPU times: user 188 µs, sys: 1.05 ms, total: 1.24 ms\n",
            "Wall time: 1.24 ms\n"
          ],
          "name": "stdout"
        }
      ]
    },
    {
      "cell_type": "code",
      "metadata": {
        "id": "H_bDLYLyHhUB",
        "colab_type": "code",
        "colab": {
          "base_uri": "https://localhost:8080/",
          "height": 67
        },
        "outputId": "ca9b0da8-1563-4f9e-bc2a-ff19c4b8dcfc"
      },
      "source": [
        "%time res_dask.compute()"
      ],
      "execution_count": 22,
      "outputs": [
        {
          "output_type": "stream",
          "text": [
            "CPU times: user 2.51 ms, sys: 2.9 ms, total: 5.4 ms\n",
            "Wall time: 5.7 ms\n"
          ],
          "name": "stdout"
        },
        {
          "output_type": "execute_result",
          "data": {
            "text/plain": [
              "4994.7113528091895"
            ]
          },
          "metadata": {
            "tags": []
          },
          "execution_count": 22
        }
      ]
    },
    {
      "cell_type": "code",
      "metadata": {
        "id": "SSd-qEIcIV-s",
        "colab_type": "code",
        "colab": {}
      },
      "source": [
        "res_dask.visualize(rankdir='LR')"
      ],
      "execution_count": 0,
      "outputs": []
    },
    {
      "cell_type": "markdown",
      "metadata": {
        "id": "ul96vTYdJtS7",
        "colab_type": "text"
      },
      "source": [
        "##ejercicio \n",
        "\n",
        "redefinir el arreglo a_dask usando trozos equivalentes a los usados en el for y comparar tiempos de ejecucion\n",
        "\n",
        "Discutir lo obtenido"
      ]
    },
    {
      "cell_type": "markdown",
      "metadata": {
        "id": "ESpRIJ0MKFW2",
        "colab_type": "text"
      },
      "source": [
        "#medir tiempos de operacion sobre arreglos con dask"
      ]
    },
    {
      "cell_type": "code",
      "metadata": {
        "id": "ucvJAQ-4Jc54",
        "colab_type": "code",
        "colab": {
          "base_uri": "https://localhost:8080/",
          "height": 353
        },
        "outputId": "f256872c-17ea-4077-b7a2-1c6f9b7168d2"
      },
      "source": [
        "!wget https://www.gw-osc.org/archive/data/S5/814743552/H-H1_LOSC_4_V1-815411200-4096.hdf5"
      ],
      "execution_count": 24,
      "outputs": [
        {
          "output_type": "stream",
          "text": [
            "--2019-05-28 15:57:07--  https://www.gw-osc.org/archive/data/S5/814743552/H-H1_LOSC_4_V1-815411200-4096.hdf5\n",
            "Resolving www.gw-osc.org (www.gw-osc.org)... 131.215.125.179\n",
            "Connecting to www.gw-osc.org (www.gw-osc.org)|131.215.125.179|:443... connected.\n",
            "HTTP request sent, awaiting response... 302 Found\n",
            "Location: https://www.gw-openscience.org/archive/data/S5/814743552/H-H1_LOSC_4_V1-815411200-4096.hdf5 [following]\n",
            "--2019-05-28 15:57:08--  https://www.gw-openscience.org/archive/data/S5/814743552/H-H1_LOSC_4_V1-815411200-4096.hdf5\n",
            "Resolving www.gw-openscience.org (www.gw-openscience.org)... 131.215.125.179\n",
            "Connecting to www.gw-openscience.org (www.gw-openscience.org)|131.215.125.179|:443... connected.\n",
            "HTTP request sent, awaiting response... 301 Moved Permanently\n",
            "Location: /archive/data/S5/814743552/H-H1_LOSC_4_V1-815411200-4096.hdf5/ [following]\n",
            "--2019-05-28 15:57:09--  https://www.gw-openscience.org/archive/data/S5/814743552/H-H1_LOSC_4_V1-815411200-4096.hdf5/\n",
            "Reusing existing connection to www.gw-openscience.org:443.\n",
            "HTTP request sent, awaiting response... 200 OK\n",
            "Length: 95071329 (91M) [application/octet-stream]\n",
            "Saving to: ‘H-H1_LOSC_4_V1-815411200-4096.hdf5’\n",
            "\n",
            "H-H1_LOSC_4_V1-8154 100%[===================>]  90.67M  37.0MB/s    in 2.4s    \n",
            "\n",
            "2019-05-28 15:57:12 (37.0 MB/s) - ‘H-H1_LOSC_4_V1-815411200-4096.hdf5’ saved [95071329/95071329]\n",
            "\n"
          ],
          "name": "stdout"
        }
      ]
    },
    {
      "cell_type": "code",
      "metadata": {
        "id": "gRdu3uiEKNbm",
        "colab_type": "code",
        "colab": {}
      },
      "source": [
        "!cp H-H1_LOSC_4_V1-815411200-4096.hdf5 LIGO_data.hdf5"
      ],
      "execution_count": 0,
      "outputs": []
    },
    {
      "cell_type": "code",
      "metadata": {
        "id": "cOM7omWeKQis",
        "colab_type": "code",
        "colab": {}
      },
      "source": [
        "import h5py, time"
      ],
      "execution_count": 0,
      "outputs": []
    },
    {
      "cell_type": "code",
      "metadata": {
        "id": "SypuILMIKTcX",
        "colab_type": "code",
        "colab": {
          "base_uri": "https://localhost:8080/",
          "height": 34
        },
        "outputId": "d28c8bea-892f-419c-8016-ac0bed313156"
      },
      "source": [
        "datos = h5py.File('./LIGO_data.hdf5')\n",
        "type(datos)"
      ],
      "execution_count": 27,
      "outputs": [
        {
          "output_type": "execute_result",
          "data": {
            "text/plain": [
              "h5py._hl.files.File"
            ]
          },
          "metadata": {
            "tags": []
          },
          "execution_count": 27
        }
      ]
    },
    {
      "cell_type": "code",
      "metadata": {
        "id": "0O8R1uD8Koyd",
        "colab_type": "code",
        "colab": {
          "base_uri": "https://localhost:8080/",
          "height": 67
        },
        "outputId": "bd6d7815-4772-433a-d5b4-c1dbda066fed"
      },
      "source": [
        "for key in datos.keys():\n",
        "  print(key)"
      ],
      "execution_count": 29,
      "outputs": [
        {
          "output_type": "stream",
          "text": [
            "meta\n",
            "quality\n",
            "strain\n"
          ],
          "name": "stdout"
        }
      ]
    },
    {
      "cell_type": "code",
      "metadata": {
        "id": "9K_cO9xbKsSl",
        "colab_type": "code",
        "colab": {}
      },
      "source": [
        "with datos as dset:\n",
        "  strain = dset['strain']['Strain'][:]"
      ],
      "execution_count": 0,
      "outputs": []
    },
    {
      "cell_type": "code",
      "metadata": {
        "id": "QktzBganLWS5",
        "colab_type": "code",
        "colab": {
          "base_uri": "https://localhost:8080/",
          "height": 50
        },
        "outputId": "5d411cd5-dcd8-429d-d1ea-0a8933f77c98"
      },
      "source": [
        "strain"
      ],
      "execution_count": 32,
      "outputs": [
        {
          "output_type": "execute_result",
          "data": {
            "text/plain": [
              "array([-2.37884722e-16, -2.55453801e-16, -2.72831053e-16, ...,\n",
              "                   nan,             nan,             nan])"
            ]
          },
          "metadata": {
            "tags": []
          },
          "execution_count": 32
        }
      ]
    },
    {
      "cell_type": "code",
      "metadata": {
        "id": "IAwaQ4CaLaQP",
        "colab_type": "code",
        "colab": {
          "base_uri": "https://localhost:8080/",
          "height": 34
        },
        "outputId": "8c8b658b-f5ca-418b-e0b6-891f86e3347c"
      },
      "source": [
        "type(strain)"
      ],
      "execution_count": 34,
      "outputs": [
        {
          "output_type": "execute_result",
          "data": {
            "text/plain": [
              "numpy.ndarray"
            ]
          },
          "metadata": {
            "tags": []
          },
          "execution_count": 34
        }
      ]
    },
    {
      "cell_type": "code",
      "metadata": {
        "id": "4J_G8wtoMnp6",
        "colab_type": "code",
        "colab": {
          "base_uri": "https://localhost:8080/",
          "height": 34
        },
        "outputId": "adf971b2-836c-4926-f3bb-841d43530a84"
      },
      "source": [
        "strain.shape"
      ],
      "execution_count": 35,
      "outputs": [
        {
          "output_type": "execute_result",
          "data": {
            "text/plain": [
              "(16777216,)"
            ]
          },
          "metadata": {
            "tags": []
          },
          "execution_count": 35
        }
      ]
    },
    {
      "cell_type": "markdown",
      "metadata": {
        "id": "5CpA7LraNOJK",
        "colab_type": "text"
      },
      "source": [
        "nan = no a number"
      ]
    },
    {
      "cell_type": "code",
      "metadata": {
        "id": "d_-HvFbLNAsb",
        "colab_type": "code",
        "colab": {
          "base_uri": "https://localhost:8080/",
          "height": 34
        },
        "outputId": "5bde6d43-ebc9-4618-892b-1273bbdd17f2"
      },
      "source": [
        "strain.sum()"
      ],
      "execution_count": 39,
      "outputs": [
        {
          "output_type": "execute_result",
          "data": {
            "text/plain": [
              "nan"
            ]
          },
          "metadata": {
            "tags": []
          },
          "execution_count": 39
        }
      ]
    },
    {
      "cell_type": "markdown",
      "metadata": {
        "id": "7XKL6-XzOzZy",
        "colab_type": "text"
      },
      "source": [
        "dividir los chunsk de la linea de abajo usando 2,4,8,16,32,64,128"
      ]
    },
    {
      "cell_type": "code",
      "metadata": {
        "id": "qAVn0ImLNFLh",
        "colab_type": "code",
        "colab": {}
      },
      "source": [
        "strain_dask8 = da.from_array(strain, chunks = strain.shape[0]//8)"
      ],
      "execution_count": 0,
      "outputs": []
    },
    {
      "cell_type": "code",
      "metadata": {
        "id": "sVCJbsL3OAzt",
        "colab_type": "code",
        "colab": {
          "base_uri": "https://localhost:8080/",
          "height": 34
        },
        "outputId": "30696dd0-f5ac-4537-943c-2f670f3192c8"
      },
      "source": [
        "ti = time.time()\n",
        "promedio8 = strain_dask8.mean().compute()\n",
        "tf = time.time()\n",
        "print('Tiempo transcurrido: {} ms'.format((tf-ti)*1000))"
      ],
      "execution_count": 45,
      "outputs": [
        {
          "output_type": "stream",
          "text": [
            "Tiempo transcurrido: 76.18045806884766 ms\n"
          ],
          "name": "stdout"
        }
      ]
    },
    {
      "cell_type": "code",
      "metadata": {
        "id": "9mONDNs-OYDa",
        "colab_type": "code",
        "colab": {
          "base_uri": "https://localhost:8080/",
          "height": 34
        },
        "outputId": "d21db366-0a0d-4a75-a109-944e51e93e41"
      },
      "source": [
        "print(promedio8)"
      ],
      "execution_count": 44,
      "outputs": [
        {
          "output_type": "stream",
          "text": [
            "nan\n"
          ],
          "name": "stdout"
        }
      ]
    },
    {
      "cell_type": "code",
      "metadata": {
        "id": "SeQMnGAGOeMM",
        "colab_type": "code",
        "colab": {}
      },
      "source": [
        "strain_dask8.visualize()"
      ],
      "execution_count": 0,
      "outputs": []
    },
    {
      "cell_type": "markdown",
      "metadata": {
        "id": "SUub-7l5QePq",
        "colab_type": "text"
      },
      "source": [
        "#arreglos numpy mutidimensionales"
      ]
    },
    {
      "cell_type": "code",
      "metadata": {
        "id": "Lh7hIuf8PHRg",
        "colab_type": "code",
        "colab": {}
      },
      "source": [
        "ts = np.array([49,51,60,54,47,50,64,58,47,43,50,63,67,68,64,48,55,46,66,51,52])\n",
        "np.savetxt('temp_max.csv', ts.astype(int), fmt='%i')"
      ],
      "execution_count": 0,
      "outputs": []
    },
    {
      "cell_type": "code",
      "metadata": {
        "id": "H1LKGX_8RF4G",
        "colab_type": "code",
        "colab": {
          "base_uri": "https://localhost:8080/",
          "height": 50
        },
        "outputId": "5bb8c8c9-0ccf-4ea3-9914-e7d1e8b3408c"
      },
      "source": [
        "ls"
      ],
      "execution_count": 48,
      "outputs": [
        {
          "output_type": "stream",
          "text": [
            "H-H1_LOSC_4_V1-815411200-4096.hdf5  mydask.png    temp_max.csv\n",
            "LIGO_data.hdf5                      \u001b[0m\u001b[01;34msample_data\u001b[0m/\n"
          ],
          "name": "stdout"
        }
      ]
    },
    {
      "cell_type": "code",
      "metadata": {
        "id": "XnpaJPq1RHeB",
        "colab_type": "code",
        "colab": {}
      },
      "source": [
        "!cat temp_max.csv"
      ],
      "execution_count": 0,
      "outputs": []
    },
    {
      "cell_type": "code",
      "metadata": {
        "id": "tRjQ3_2WRO9L",
        "colab_type": "code",
        "colab": {
          "base_uri": "https://localhost:8080/",
          "height": 34
        },
        "outputId": "87d908ae-0e8c-4bfa-e638-3b374f16dbbf"
      },
      "source": [
        "ts = np.loadtxt('temp_max.csv', dtype=np.int64)\n",
        "type(ts)"
      ],
      "execution_count": 50,
      "outputs": [
        {
          "output_type": "execute_result",
          "data": {
            "text/plain": [
              "numpy.ndarray"
            ]
          },
          "metadata": {
            "tags": []
          },
          "execution_count": 50
        }
      ]
    },
    {
      "cell_type": "code",
      "metadata": {
        "id": "fSI6Pq_vR3DT",
        "colab_type": "code",
        "colab": {
          "base_uri": "https://localhost:8080/",
          "height": 34
        },
        "outputId": "bc2cb171-5cf8-4c2c-e91f-44a158953b5e"
      },
      "source": [
        "ts.shape"
      ],
      "execution_count": 51,
      "outputs": [
        {
          "output_type": "execute_result",
          "data": {
            "text/plain": [
              "(21,)"
            ]
          },
          "metadata": {
            "tags": []
          },
          "execution_count": 51
        }
      ]
    },
    {
      "cell_type": "code",
      "metadata": {
        "id": "ShyhO5zPR7WQ",
        "colab_type": "code",
        "colab": {
          "base_uri": "https://localhost:8080/",
          "height": 34
        },
        "outputId": "8713f106-a870-49b2-d0b7-2ae2040f835f"
      },
      "source": [
        "ts.ndim"
      ],
      "execution_count": 52,
      "outputs": [
        {
          "output_type": "execute_result",
          "data": {
            "text/plain": [
              "1"
            ]
          },
          "metadata": {
            "tags": []
          },
          "execution_count": 52
        }
      ]
    },
    {
      "cell_type": "code",
      "metadata": {
        "id": "V-Sff9RPR_5v",
        "colab_type": "code",
        "colab": {
          "base_uri": "https://localhost:8080/",
          "height": 34
        },
        "outputId": "e50e9c8f-8dfa-4297-cb8b-d9ba2f906c66"
      },
      "source": [
        "print(ts)"
      ],
      "execution_count": 53,
      "outputs": [
        {
          "output_type": "stream",
          "text": [
            "[49 51 60 54 47 50 64 58 47 43 50 63 67 68 64 48 55 46 66 51 52]\n"
          ],
          "name": "stdout"
        }
      ]
    },
    {
      "cell_type": "code",
      "metadata": {
        "id": "_Y_8RKIWSDPZ",
        "colab_type": "code",
        "colab": {
          "base_uri": "https://localhost:8080/",
          "height": 34
        },
        "outputId": "d5bbd334-f846-4312-c697-ee3b14df4000"
      },
      "source": [
        "ts.mean()"
      ],
      "execution_count": 54,
      "outputs": [
        {
          "output_type": "execute_result",
          "data": {
            "text/plain": [
              "54.904761904761905"
            ]
          },
          "metadata": {
            "tags": []
          },
          "execution_count": 54
        }
      ]
    },
    {
      "cell_type": "code",
      "metadata": {
        "id": "W-_WFCUnSKc-",
        "colab_type": "code",
        "colab": {
          "base_uri": "https://localhost:8080/",
          "height": 34
        },
        "outputId": "c57d039b-d632-4041-930f-e295cd046f25"
      },
      "source": [
        "ts.std()"
      ],
      "execution_count": 56,
      "outputs": [
        {
          "output_type": "execute_result",
          "data": {
            "text/plain": [
              "7.63391406756257"
            ]
          },
          "metadata": {
            "tags": []
          },
          "execution_count": 56
        }
      ]
    },
    {
      "cell_type": "code",
      "metadata": {
        "id": "1--6XegoSL6g",
        "colab_type": "code",
        "colab": {
          "base_uri": "https://localhost:8080/",
          "height": 50
        },
        "outputId": "c4c5bd0a-66a8-4e53-db65-aac31c1eb2fb"
      },
      "source": [
        "mier =[]\n",
        "for i,v in enumerate(ts):\n",
        "  if i%7==2:\n",
        "    mier.append(v)\n",
        "print(mier)\n",
        "np.mean(mier)"
      ],
      "execution_count": 77,
      "outputs": [
        {
          "output_type": "stream",
          "text": [
            "[60, 43, 55]\n"
          ],
          "name": "stdout"
        },
        {
          "output_type": "execute_result",
          "data": {
            "text/plain": [
              "52.666666666666664"
            ]
          },
          "metadata": {
            "tags": []
          },
          "execution_count": 77
        }
      ]
    },
    {
      "cell_type": "code",
      "metadata": {
        "id": "55uFkV5ZTqEr",
        "colab_type": "code",
        "colab": {}
      },
      "source": [
        "semanas = ts.reshape([3,7])"
      ],
      "execution_count": 0,
      "outputs": []
    },
    {
      "cell_type": "code",
      "metadata": {
        "id": "4kw3P4IOYrtW",
        "colab_type": "code",
        "colab": {
          "base_uri": "https://localhost:8080/",
          "height": 34
        },
        "outputId": "31d904ab-7920-4bd6-98c6-8603180a887b"
      },
      "source": [
        "type(semanas)"
      ],
      "execution_count": 81,
      "outputs": [
        {
          "output_type": "execute_result",
          "data": {
            "text/plain": [
              "numpy.ndarray"
            ]
          },
          "metadata": {
            "tags": []
          },
          "execution_count": 81
        }
      ]
    },
    {
      "cell_type": "code",
      "metadata": {
        "id": "dsUxAMenbAuM",
        "colab_type": "code",
        "colab": {
          "base_uri": "https://localhost:8080/",
          "height": 34
        },
        "outputId": "2c18cc70-4ab0-483d-f8bd-805e6f30b334"
      },
      "source": [
        "semanas.ndim"
      ],
      "execution_count": 84,
      "outputs": [
        {
          "output_type": "execute_result",
          "data": {
            "text/plain": [
              "2"
            ]
          },
          "metadata": {
            "tags": []
          },
          "execution_count": 84
        }
      ]
    },
    {
      "cell_type": "code",
      "metadata": {
        "id": "UJYxvl5abEcG",
        "colab_type": "code",
        "colab": {
          "base_uri": "https://localhost:8080/",
          "height": 34
        },
        "outputId": "8d636c5b-9a65-4104-8aa8-aaec36a53c51"
      },
      "source": [
        "semanas.size"
      ],
      "execution_count": 86,
      "outputs": [
        {
          "output_type": "execute_result",
          "data": {
            "text/plain": [
              "21"
            ]
          },
          "metadata": {
            "tags": []
          },
          "execution_count": 86
        }
      ]
    },
    {
      "cell_type": "code",
      "metadata": {
        "id": "gNBiHK6YbYSM",
        "colab_type": "code",
        "colab": {
          "base_uri": "https://localhost:8080/",
          "height": 67
        },
        "outputId": "7aaaa6f9-5324-4305-9c67-650efec4be62"
      },
      "source": [
        "semanas"
      ],
      "execution_count": 89,
      "outputs": [
        {
          "output_type": "execute_result",
          "data": {
            "text/plain": [
              "array([[49, 51, 60, 54, 47, 50, 64],\n",
              "       [58, 47, 43, 50, 63, 67, 68],\n",
              "       [64, 48, 55, 46, 66, 51, 52]])"
            ]
          },
          "metadata": {
            "tags": []
          },
          "execution_count": 89
        }
      ]
    },
    {
      "cell_type": "code",
      "metadata": {
        "id": "B5TT3zP9bwRW",
        "colab_type": "code",
        "colab": {
          "base_uri": "https://localhost:8080/",
          "height": 34
        },
        "outputId": "c02916ad-3253-4b28-94c6-a7689acd4ee2"
      },
      "source": [
        "semanas[:,3].mean()"
      ],
      "execution_count": 95,
      "outputs": [
        {
          "output_type": "execute_result",
          "data": {
            "text/plain": [
              "50.0"
            ]
          },
          "metadata": {
            "tags": []
          },
          "execution_count": 95
        }
      ]
    },
    {
      "cell_type": "code",
      "metadata": {
        "id": "GHSKwoi9cEwm",
        "colab_type": "code",
        "colab": {
          "base_uri": "https://localhost:8080/",
          "height": 34
        },
        "outputId": "f029d035-cfa5-4e55-f3d1-b284a17ed8dd"
      },
      "source": [
        "semanas[2,:].mean()"
      ],
      "execution_count": 96,
      "outputs": [
        {
          "output_type": "execute_result",
          "data": {
            "text/plain": [
              "54.57142857142857"
            ]
          },
          "metadata": {
            "tags": []
          },
          "execution_count": 96
        }
      ]
    },
    {
      "cell_type": "code",
      "metadata": {
        "id": "eLEKYSpGcLkw",
        "colab_type": "code",
        "colab": {
          "base_uri": "https://localhost:8080/",
          "height": 67
        },
        "outputId": "e23ab554-292d-450d-898b-bcbcdf4889ce"
      },
      "source": [
        "semanas[:,3:6]"
      ],
      "execution_count": 101,
      "outputs": [
        {
          "output_type": "execute_result",
          "data": {
            "text/plain": [
              "array([[54, 47, 50],\n",
              "       [50, 63, 67],\n",
              "       [46, 66, 51]])"
            ]
          },
          "metadata": {
            "tags": []
          },
          "execution_count": 101
        }
      ]
    },
    {
      "cell_type": "code",
      "metadata": {
        "id": "85V_QMV4clrP",
        "colab_type": "code",
        "colab": {
          "base_uri": "https://localhost:8080/",
          "height": 134
        },
        "outputId": "b0fc2200-fa8d-44ad-ca92-c202a40a3982"
      },
      "source": [
        "ts.reshape([7,3], order='F')"
      ],
      "execution_count": 103,
      "outputs": [
        {
          "output_type": "execute_result",
          "data": {
            "text/plain": [
              "array([[49, 58, 64],\n",
              "       [51, 47, 48],\n",
              "       [60, 43, 55],\n",
              "       [54, 50, 46],\n",
              "       [47, 63, 66],\n",
              "       [50, 67, 51],\n",
              "       [64, 68, 52]])"
            ]
          },
          "metadata": {
            "tags": []
          },
          "execution_count": 103
        }
      ]
    },
    {
      "cell_type": "code",
      "metadata": {
        "id": "_9yB8zRgeeSA",
        "colab_type": "code",
        "colab": {}
      },
      "source": [
        "dias=semanas.transpose()"
      ],
      "execution_count": 0,
      "outputs": []
    },
    {
      "cell_type": "code",
      "metadata": {
        "id": "RW8AaopBfAk9",
        "colab_type": "code",
        "colab": {
          "base_uri": "https://localhost:8080/",
          "height": 34
        },
        "outputId": "3f4489dc-a0ae-442a-9ba9-0bc783a02e76"
      },
      "source": [
        "dias[4,:]"
      ],
      "execution_count": 107,
      "outputs": [
        {
          "output_type": "execute_result",
          "data": {
            "text/plain": [
              "array([47, 63, 66])"
            ]
          },
          "metadata": {
            "tags": []
          },
          "execution_count": 107
        }
      ]
    },
    {
      "cell_type": "code",
      "metadata": {
        "id": "IL7VKbxWfZN9",
        "colab_type": "code",
        "colab": {
          "base_uri": "https://localhost:8080/",
          "height": 134
        },
        "outputId": "ed05a29f-db27-4ebb-f5b3-f81e17c29f91"
      },
      "source": [
        "dias"
      ],
      "execution_count": 108,
      "outputs": [
        {
          "output_type": "execute_result",
          "data": {
            "text/plain": [
              "array([[49, 58, 64],\n",
              "       [51, 47, 48],\n",
              "       [60, 43, 55],\n",
              "       [54, 50, 46],\n",
              "       [47, 63, 66],\n",
              "       [50, 67, 51],\n",
              "       [64, 68, 52]])"
            ]
          },
          "metadata": {
            "tags": []
          },
          "execution_count": 108
        }
      ]
    },
    {
      "cell_type": "code",
      "metadata": {
        "id": "D_IrL_7nfntA",
        "colab_type": "code",
        "colab": {
          "base_uri": "https://localhost:8080/",
          "height": 50
        },
        "outputId": "aa206179-b5ed-4610-fb37-59d453b45f75"
      },
      "source": [
        "dias.mean(axis=1)"
      ],
      "execution_count": 114,
      "outputs": [
        {
          "output_type": "execute_result",
          "data": {
            "text/plain": [
              "array([57.        , 48.66666667, 52.66666667, 50.        , 58.66666667,\n",
              "       56.        , 61.33333333])"
            ]
          },
          "metadata": {
            "tags": []
          },
          "execution_count": 114
        }
      ]
    },
    {
      "cell_type": "code",
      "metadata": {
        "id": "8TdbcE3sfxZp",
        "colab_type": "code",
        "colab": {
          "base_uri": "https://localhost:8080/",
          "height": 134
        },
        "outputId": "aff8f657-a557-4112-bc41-c8bb41a8a837"
      },
      "source": [
        "asd=semanas - dias.mean(axis=1)\n",
        "asd.transpose()"
      ],
      "execution_count": 119,
      "outputs": [
        {
          "output_type": "execute_result",
          "data": {
            "text/plain": [
              "array([[ -8.        ,   1.        ,   7.        ],\n",
              "       [  2.33333333,  -1.66666667,  -0.66666667],\n",
              "       [  7.33333333,  -9.66666667,   2.33333333],\n",
              "       [  4.        ,   0.        ,  -4.        ],\n",
              "       [-11.66666667,   4.33333333,   7.33333333],\n",
              "       [ -6.        ,  11.        ,  -5.        ],\n",
              "       [  2.66666667,   6.66666667,  -9.33333333]])"
            ]
          },
          "metadata": {
            "tags": []
          },
          "execution_count": 119
        }
      ]
    },
    {
      "cell_type": "code",
      "metadata": {
        "id": "flUktuRDf_l4",
        "colab_type": "code",
        "colab": {}
      },
      "source": [
        "tabla= dias-dias.mean(axis=0)"
      ],
      "execution_count": 0,
      "outputs": []
    },
    {
      "cell_type": "code",
      "metadata": {
        "id": "gBgd8jUKkZHi",
        "colab_type": "code",
        "colab": {
          "base_uri": "https://localhost:8080/",
          "height": 134
        },
        "outputId": "1a9daef3-40f0-4f5d-bc77-9ba7b498dc27"
      },
      "source": [
        "tabla"
      ],
      "execution_count": 123,
      "outputs": [
        {
          "output_type": "execute_result",
          "data": {
            "text/plain": [
              "array([[ -4.57142857,   1.42857143,   9.42857143],\n",
              "       [ -2.57142857,  -9.57142857,  -6.57142857],\n",
              "       [  6.42857143, -13.57142857,   0.42857143],\n",
              "       [  0.42857143,  -6.57142857,  -8.57142857],\n",
              "       [ -6.57142857,   6.42857143,  11.42857143],\n",
              "       [ -3.57142857,  10.42857143,  -3.57142857],\n",
              "       [ 10.42857143,  11.42857143,  -2.57142857]])"
            ]
          },
          "metadata": {
            "tags": []
          },
          "execution_count": 123
        }
      ]
    },
    {
      "cell_type": "code",
      "metadata": {
        "id": "IOlHhWFKj5bj",
        "colab_type": "code",
        "colab": {
          "base_uri": "https://localhost:8080/",
          "height": 118
        },
        "outputId": "9b78cd40-7e4c-4251-a941-b1e046f1ef31"
      },
      "source": [
        "tabla.reshape([3,7])"
      ],
      "execution_count": 125,
      "outputs": [
        {
          "output_type": "execute_result",
          "data": {
            "text/plain": [
              "array([[ -4.57142857,   1.42857143,   9.42857143,  -2.57142857,\n",
              "         -9.57142857,  -6.57142857,   6.42857143],\n",
              "       [-13.57142857,   0.42857143,   0.42857143,  -6.57142857,\n",
              "         -8.57142857,  -6.57142857,   6.42857143],\n",
              "       [ 11.42857143,  -3.57142857,  10.42857143,  -3.57142857,\n",
              "         10.42857143,  11.42857143,  -2.57142857]])"
            ]
          },
          "metadata": {
            "tags": []
          },
          "execution_count": 125
        }
      ]
    },
    {
      "cell_type": "markdown",
      "metadata": {
        "id": "WZ9vOxZokS9T",
        "colab_type": "text"
      },
      "source": [
        "#como se usa esto con dask"
      ]
    },
    {
      "cell_type": "code",
      "metadata": {
        "id": "svlEQVmzkn2f",
        "colab_type": "code",
        "colab": {}
      },
      "source": [
        "data=np.genfromtxt('https://www1.ncdc.noaa.gov/pub/data/ccd-data/hghtmp15.dat', usecols=(2,3,4,5),skip_header=5, dtype=np.int64)"
      ],
      "execution_count": 0,
      "outputs": []
    },
    {
      "cell_type": "code",
      "metadata": {
        "id": "RaxvcPBXledF",
        "colab_type": "code",
        "colab": {
          "base_uri": "https://localhost:8080/",
          "height": 34
        },
        "outputId": "fe568295-5a57-45c2-a3e0-2d762a231b6e"
      },
      "source": [
        "data.shape"
      ],
      "execution_count": 130,
      "outputs": [
        {
          "output_type": "execute_result",
          "data": {
            "text/plain": [
              "(259, 4)"
            ]
          },
          "metadata": {
            "tags": []
          },
          "execution_count": 130
        }
      ]
    },
    {
      "cell_type": "code",
      "metadata": {
        "id": "b6rGCBrplzdO",
        "colab_type": "code",
        "colab": {
          "base_uri": "https://localhost:8080/",
          "height": 34
        },
        "outputId": "ab144273-a8a4-41fa-f9d1-a59a2a855eef"
      },
      "source": [
        "type(data)"
      ],
      "execution_count": 131,
      "outputs": [
        {
          "output_type": "execute_result",
          "data": {
            "text/plain": [
              "numpy.ndarray"
            ]
          },
          "metadata": {
            "tags": []
          },
          "execution_count": 131
        }
      ]
    },
    {
      "cell_type": "code",
      "metadata": {
        "id": "a2lTRGCnmCKn",
        "colab_type": "code",
        "colab": {}
      },
      "source": [
        "data_dask = da.from_array(data, chunks=(259,2))"
      ],
      "execution_count": 0,
      "outputs": []
    },
    {
      "cell_type": "code",
      "metadata": {
        "id": "mA8q-3yIml4T",
        "colab_type": "code",
        "colab": {}
      },
      "source": [
        "res = data_dask.mean(axis=0)"
      ],
      "execution_count": 0,
      "outputs": []
    },
    {
      "cell_type": "code",
      "metadata": {
        "id": "tABoPqHXnfBV",
        "colab_type": "code",
        "colab": {}
      },
      "source": [
        "res.visualize(rankdir='LR')"
      ],
      "execution_count": 0,
      "outputs": []
    },
    {
      "cell_type": "code",
      "metadata": {
        "id": "aGExV2m7nyPm",
        "colab_type": "code",
        "colab": {
          "base_uri": "https://localhost:8080/",
          "height": 34
        },
        "outputId": "03bdf1b8-604b-4c25-96f7-c9df812c6dde"
      },
      "source": [
        "res.compute()"
      ],
      "execution_count": 137,
      "outputs": [
        {
          "output_type": "execute_result",
          "data": {
            "text/plain": [
              "array([51.83011583, 71.91891892, 80.93050193, 89.22007722])"
            ]
          },
          "metadata": {
            "tags": []
          },
          "execution_count": 137
        }
      ]
    },
    {
      "cell_type": "markdown",
      "metadata": {
        "id": "M862BXi7nDPN",
        "colab_type": "text"
      },
      "source": [
        "El anterior es lo mismo que"
      ]
    },
    {
      "cell_type": "code",
      "metadata": {
        "id": "l1wWX1tFmr3C",
        "colab_type": "code",
        "colab": {
          "base_uri": "https://localhost:8080/",
          "height": 34
        },
        "outputId": "c50cc00f-29f6-47cf-f35e-f74ba516c795"
      },
      "source": [
        "data.mean(axis=0)"
      ],
      "execution_count": 134,
      "outputs": [
        {
          "output_type": "execute_result",
          "data": {
            "text/plain": [
              "array([51.83011583, 71.91891892, 80.93050193, 89.22007722])"
            ]
          },
          "metadata": {
            "tags": []
          },
          "execution_count": 134
        }
      ]
    },
    {
      "cell_type": "markdown",
      "metadata": {
        "id": "aVuVR0oKoHVP",
        "colab_type": "text"
      },
      "source": [
        "#tarea\n",
        "\n",
        "leer como un archivo de dask array\n"
      ]
    },
    {
      "cell_type": "code",
      "metadata": {
        "id": "9Kt6oBKlnIFg",
        "colab_type": "code",
        "colab": {}
      },
      "source": [
        ""
      ],
      "execution_count": 0,
      "outputs": []
    }
  ]
}